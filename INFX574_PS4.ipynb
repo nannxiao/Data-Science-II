{
 "cells": [
  {
   "cell_type": "markdown",
   "metadata": {
    "ein.tags": [
     "worksheet-0"
    ],
    "slideshow": {
     "slide_type": "-"
    }
   },
   "source": [
    "# Problem Set 4, due '05/23/2017' at 3:30pm.\n",
    "\n",
    "### Before You Start\n",
    "\n",
    "This is a fun but challenging problem set. It will test your python skills, as well as your understanding of the material in class and in the readings. Start early and debug often! Some notes:\n",
    "\n",
    "* Part 1 is meant to be easy, so get through it quickly.\n",
    "* Part 2 (especially 2.1) will be difficult, but it is the lynchpin of this problem set to make sure to do it well and understand what you've done. If you find your gradient descent algorithm is taking more than a few minutes to complete, debug more, compare notes with others, and go to the TA sessions.\n",
    "* Depending on how well you've done 2.1, parts 2.3 and 4.3 will be relatively painless or incredibly painful. \n",
    "* Part 4 (especially 3.3) will be computationally intensive. Don't leave this until the last minute, otherwise your code might be running when the deadline arrives.\n",
    "* Do the extra credit problems last."
   ]
  },
  {
   "cell_type": "markdown",
   "metadata": {
    "ein.tags": [
     "worksheet-0"
    ],
    "slideshow": {
     "slide_type": "-"
    }
   },
   "source": [
    "---\n",
    "\n",
    "## Introduction to the assignment\n",
    "\n",
    "As with the last assignment, you will be using the [Boston Housing Prices Data Set](http://archive.ics.uci.edu/ml/datasets/Housing)."
   ]
  },
  {
   "cell_type": "code",
   "execution_count": 1,
   "metadata": {
    "autoscroll": "json-false",
    "collapsed": false,
    "ein.tags": [
     "worksheet-0"
    ],
    "slideshow": {
     "slide_type": "-"
    }
   },
   "outputs": [],
   "source": [
    "import IPython\n",
    "import numpy as np\n",
    "import scipy as sp\n",
    "import pandas as pd\n",
    "import matplotlib\n",
    "import sklearn\n",
    "\n",
    "%matplotlib inline  \n",
    "import matplotlib.pyplot as plt\n",
    "import statsmodels.api as sm\n",
    "from sklearn.linear_model import LinearRegression, LogisticRegression\n",
    "from sklearn.metrics import mean_squared_error\n",
    "import statsmodels.formula.api as smf\n",
    "from sklearn.model_selection import KFold\n",
    "from sklearn.metrics import mean_squared_error\n",
    "from statsmodels.sandbox.regression.predstd import wls_prediction_std\n",
    "import time"
   ]
  },
  {
   "cell_type": "code",
   "execution_count": 2,
   "metadata": {
    "autoscroll": "json-false",
    "collapsed": false,
    "ein.tags": [
     "worksheet-0"
    ],
    "slideshow": {
     "slide_type": "-"
    }
   },
   "outputs": [],
   "source": [
    "from sklearn.datasets import load_boston\n",
    "bdata = load_boston()"
   ]
  },
  {
   "cell_type": "markdown",
   "metadata": {
    "ein.tags": [
     "worksheet-0"
    ],
    "slideshow": {
     "slide_type": "-"
    }
   },
   "source": [
    "---\n",
    "\n",
    "## Part 1: Getting oriented\n",
    "\n",
    "Use different learning rates\n",
    "\n",
    "### 1.1 Use existing libraries\n",
    "\n",
    "Soon, you will write your own gradient descent algorithm, which you will then use to minimize the squared error cost function.  First, however, let's use the canned versions that come with Python, to make sure we understand what we're aiming to achieve.\n",
    "\n",
    "Using the same Boston housing prices dataset, use the [Linear Regression class](http://scikit-learn.org/stable/modules/generated/sklearn.linear_model.LinearRegression.html) from sklearn or the [OLS class](http://wiki.scipy.org/Cookbook/OLS) from SciPy to explore the relationship between  median housing price and number of rooms per house. Do this by first (a) regressing the housing price on the number of rooms per house, and then (b) regressing the housing price on the number of rooms per house and the (number of rooms per house) squared.  Interpret your results."
   ]
  },
  {
   "cell_type": "code",
   "execution_count": 3,
   "metadata": {
    "autoscroll": "json-false",
    "collapsed": false,
    "ein.tags": [
     "worksheet-0"
    ],
    "slideshow": {
     "slide_type": "-"
    }
   },
   "outputs": [
    {
     "name": "stdout",
     "output_type": "stream",
     "text": [
      "keys: dict_keys(['data', 'target', 'feature_names', 'DESCR'])\n",
      "feature names: ['CRIM' 'ZN' 'INDUS' 'CHAS' 'NOX' 'RM' 'AGE' 'DIS' 'RAD' 'TAX' 'PTRATIO'\n",
      " 'B' 'LSTAT']\n",
      "data shape: (506, 13)\n",
      "target shape (506,)\n",
      "----------------------------------------------------------------------------------------------------\n",
      "                            OLS Regression Results                            \n",
      "==============================================================================\n",
      "Dep. Variable:                   MEDV   R-squared:                       0.484\n",
      "Model:                            OLS   Adj. R-squared:                  0.483\n",
      "Method:                 Least Squares   F-statistic:                     471.8\n",
      "Date:                Mon, 22 May 2017   Prob (F-statistic):           2.49e-74\n",
      "Time:                        17:36:59   Log-Likelihood:                -1673.1\n",
      "No. Observations:                 506   AIC:                             3350.\n",
      "Df Residuals:                     504   BIC:                             3359.\n",
      "Df Model:                           1                                         \n",
      "Covariance Type:            nonrobust                                         \n",
      "==============================================================================\n",
      "                 coef    std err          t      P>|t|      [95.0% Conf. Int.]\n",
      "------------------------------------------------------------------------------\n",
      "Intercept    -34.6706      2.650    -13.084      0.000       -39.877   -29.465\n",
      "RM             9.1021      0.419     21.722      0.000         8.279     9.925\n",
      "==============================================================================\n",
      "Omnibus:                      102.585   Durbin-Watson:                   0.684\n",
      "Prob(Omnibus):                  0.000   Jarque-Bera (JB):              612.449\n",
      "Skew:                           0.726   Prob(JB):                    1.02e-133\n",
      "Kurtosis:                       8.190   Cond. No.                         58.4\n",
      "==============================================================================\n",
      "\n",
      "Warnings:\n",
      "[1] Standard Errors assume that the covariance matrix of the errors is correctly specified.\n",
      "----------------------------------------------------------------------------------------------------\n",
      "                            OLS Regression Results                            \n",
      "==============================================================================\n",
      "Dep. Variable:                   MEDV   R-squared:                       0.548\n",
      "Model:                            OLS   Adj. R-squared:                  0.547\n",
      "Method:                 Least Squares   F-statistic:                     305.4\n",
      "Date:                Mon, 22 May 2017   Prob (F-statistic):           1.46e-87\n",
      "Time:                        17:36:59   Log-Likelihood:                -1639.1\n",
      "No. Observations:                 506   AIC:                             3284.\n",
      "Df Residuals:                     503   BIC:                             3297.\n",
      "Df Model:                           2                                         \n",
      "Covariance Type:            nonrobust                                         \n",
      "==============================================================================\n",
      "                 coef    std err          t      P>|t|      [95.0% Conf. Int.]\n",
      "------------------------------------------------------------------------------\n",
      "Intercept     66.0588     12.104      5.458      0.000        42.278    89.839\n",
      "RM           -22.6433      3.754     -6.031      0.000       -30.019   -15.267\n",
      "RM2            2.4701      0.291      8.502      0.000         1.899     3.041\n",
      "==============================================================================\n",
      "Omnibus:                       82.173   Durbin-Watson:                   0.689\n",
      "Prob(Omnibus):                  0.000   Jarque-Bera (JB):              934.337\n",
      "Skew:                           0.224   Prob(JB):                    1.29e-203\n",
      "Kurtosis:                       9.642   Cond. No.                     1.91e+03\n",
      "==============================================================================\n",
      "\n",
      "Warnings:\n",
      "[1] Standard Errors assume that the covariance matrix of the errors is correctly specified.\n",
      "[2] The condition number is large, 1.91e+03. This might indicate that there are\n",
      "strong multicollinearity or other numerical problems.\n"
     ]
    }
   ],
   "source": [
    "# uncomment the following if you want to see a lengthy description of the dataset\n",
    "print(\"keys:\", bdata.keys())\n",
    "print(\"feature names:\",  bdata.feature_names)\n",
    "print(\"data shape:\", bdata.data.shape)\n",
    "print(\"target shape\", bdata.target.shape)\n",
    "#print(bdata.DESCR)\n",
    "print(\"-\"*100)\n",
    "\n",
    "# Create a DataFrame that contains 13 features and target\n",
    "df_data = pd.DataFrame(bdata.data, columns = bdata.feature_names)\n",
    "df_data['MEDV'] = bdata.target\n",
    "#df_data\n",
    "\n",
    "# (a) regressing the housing price on the number of rooms per house\n",
    "lm1 = smf.ols('MEDV ~ RM', df_data).fit()\n",
    "print(lm1.summary())\n",
    "print(\"-\"*100)\n",
    "\n",
    "# (b) regressing the housing price on the number of rooms per house and the squared\n",
    "df_data['RM2'] = df_data['RM'] ** 2\n",
    "lm2 = smf.ols('MEDV ~ RM + RM2', df_data).fit()\n",
    "print(lm2.summary())\n"
   ]
  },
  {
   "cell_type": "markdown",
   "metadata": {},
   "source": [
    "**Interpretation**:\n",
    "\n",
    "**linear regression (a):** the coefficient of RM is 9.1 with an intercept of -34.67. The negative intercept value doesn't logically make sense, and the coefficient means that with one unit increase of the number of rooms per house, we will observe 9.1 unit increase of the median house price (in $1,000s). The p-value is below 0.05, indicating that there exists a significant relationship between two variables.\n",
    "\n",
    "**linear regression (b):** the coefficient of RM and RM-Squared is -22.64 and 2.47 respectively, with an intercept of 66. The coefficient value of RM changed from positive to negative due to the impact of RM-Squared variable, and the overall intercept also changed from negative to positive and has higher magnitude. In addition, the standard error in model b is bigger than model a, which indicates that a higher level of multicollinearity in linear regression model will make lower accuary and make coefficients less significant."
   ]
  },
  {
   "cell_type": "markdown",
   "metadata": {
    "ein.tags": [
     "worksheet-0"
    ],
    "slideshow": {
     "slide_type": "-"
    }
   },
   "source": [
    "### 1.2 Training and testing\n",
    "\n",
    "Chances are, for the above problem you used all of your data to fit the regression line. In some circumstances this is a reasonable thing to do, but often this will result in overfitting. Let's redo the above results the ML way, using careful cross-validation.  Since you are now experts in cross-validation, and have written your own cross-validation algorithm from scratch, you can now take a shortcut and use the libraries that others have built for you.\n",
    "\n",
    "Using the [cross-validation functions](http://scikit-learn.org/stable/modules/cross_validation.html) from scikit-learn, use 250-fold cross-validation to fit regression (a) above, i.e. the linear fit of housing price on number of rooms per house.\n",
    "Each fold of cross-validation will give you one slope coefficient and one intercept coefficient.  Plot the distribution of the 250 slope coefficients, and draw a vertical line at the value of the slope coefficient that you estimated in 1.1 using the full dataset.  What do you notice?\n",
    "\n",
    "Note: please use 'random_state=1' and keep 'shuffle=False' when doing the KFold splitting to ensure reproducibility!"
   ]
  },
  {
   "cell_type": "code",
   "execution_count": 4,
   "metadata": {
    "autoscroll": "json-false",
    "collapsed": false,
    "ein.tags": [
     "worksheet-0"
    ],
    "slideshow": {
     "slide_type": "-"
    }
   },
   "outputs": [
    {
     "name": "stderr",
     "output_type": "stream",
     "text": [
      "/Users/Amit/anaconda/lib/python3.6/site-packages/sklearn/cross_validation.py:44: DeprecationWarning: This module was deprecated in version 0.18 in favor of the model_selection module into which all the refactored classes and functions are moved. Also note that the interface of the new CV iterators are different from that of this module. This module will be removed in 0.20.\n",
      "  \"This module will be removed in 0.20.\", DeprecationWarning)\n"
     ]
    },
    {
     "data": {
      "image/png": "[encoded data removed]",
      "text/plain": [
       "<matplotlib.figure.Figure at 0x110aa4c18>"
      ]
     },
     "metadata": {},
     "output_type": "display_data"
    }
   ],
   "source": [
    "from sklearn.cross_validation import KFold\n",
    "\n",
    "# create an empty list to store coefficient values\n",
    "coef_list = []\n",
    "lm = sklearn.linear_model.LinearRegression()\n",
    "X = df_data['RM']\n",
    "Y = df_data['MEDV']\n",
    "\n",
    "# use 250-fold cross-validation to fit regression (a) above\n",
    "kf = KFold(len(df_data), 250, shuffle = False, random_state = 1)\n",
    "for train, test in kf:\n",
    "    X_train = X[train].values.reshape(-1, 1)\n",
    "    Y_train = Y[train].values.reshape(-1, 1)\n",
    "    coef = lm.fit(X_train, Y_train)\n",
    "    coef_list.append(coef.coef_[0][0])\n",
    "\n",
    "# plot the distribution of the 250 slope coefficients\n",
    "plt.figure(figsize = (15, 7))\n",
    "hist = plt.subplot(111)\n",
    "hist.hist(coef_list, bins = 25, color='skyblue')\n",
    "hist.spines['right'].set_visible(False)\n",
    "hist.spines['top'].set_visible(False)\n",
    "hist.yaxis.set_ticks_position('left')\n",
    "hist.xaxis.set_ticks_position('bottom')\n",
    "\n",
    "plt.xlabel('Slope Coefficients')\n",
    "plt.ylabel('Frequency')\n",
    "plt.title('Distribution of 250 Slope Coefficients')\n",
    "\n",
    "# draw a vertical line at the value of the slope coefficient estimated in 1.1\n",
    "plt.axvline(9.1021, color='red')\n",
    "plt.show()"
   ]
  },
  {
   "cell_type": "markdown",
   "metadata": {},
   "source": [
    "**Interpretation:**\n",
    "\n",
    "From the histogram above, we observe that the majority of slope coefficients (about 165 observations) fall between 9.1 and 9.125, and after drawing the vertical line, we find that the coefficient 9.1021 which is estimated in 1.1 also falls in this frequency range. Therefore the 250-fold cross validation proves that our linear regression model provided an accurate slope coefficient of the RM variable."
   ]
  },
  {
   "cell_type": "markdown",
   "metadata": {
    "ein.tags": [
     "worksheet-0"
    ],
    "slideshow": {
     "slide_type": "-"
    }
   },
   "source": [
    "### 1.3 Regression lines\n",
    "\n",
    "Create a scatterplot of housing price on rooms per house, and add the two regression lines from 1.1 (or 1.2 if you prefer to do so). Show the linear regression line in red, and the linear+quadratic regression line (which may have curvature) in blue.  Label these two regression lines with the corresponding regression equations (i.e. the slope and intercept of the line).\n",
    "\n",
    "Bonus: Add the 95% confidence bands (i.e.,  the area that has a 95% chance of containing the true regression line) to each of these lines."
   ]
  },
  {
   "cell_type": "code",
   "execution_count": 5,
   "metadata": {
    "autoscroll": "json-false",
    "collapsed": false,
    "ein.tags": [
     "worksheet-0"
    ],
    "slideshow": {
     "slide_type": "-"
    }
   },
   "outputs": [
    {
     "data": {
      "image/png": "[encoded data removed]",
      "text/plain": [
       "<matplotlib.figure.Figure at 0x118fd9240>"
      ]
     },
     "metadata": {},
     "output_type": "display_data"
    }
   ],
   "source": [
    "plt.figure(figsize = (15, 7))\n",
    "scat = plt.subplot(111)\n",
    "\n",
    "# Generate the scatter plot: RM vs. MEDV\n",
    "scat.scatter(df_data.RM, df_data.MEDV, s = 30, color = 'grey', alpha = 0.6, label = 'Housing Prices')\n",
    "\n",
    "# Calculate confidence intervals for the first regression\n",
    "Y1 = lm1.params[1] * X + lm1.params[0]\n",
    "resid = Y - Y1\n",
    "mean_x1 = np.mean(X)\n",
    "n = len(X)\n",
    "t = 1.96\n",
    "sq_er = np.sum(np.power(resid,2)) \n",
    "CI = t * np.sqrt((sq_er/(n - 2))*(1.0 / n + (np.power((X - mean_x1), 2) / ((np.sum(np.power(X, 2)))-n*(np.power(mean_x1, 2))))))\n",
    "\n",
    "# Calculate confidence intervals for the second regression\n",
    "X_sort = np.sort(X)\n",
    "Y2 = lm2.params[2] * (X_sort**2) + lm2.params[1] * X_sort + lm2.params[0]\n",
    "resid2 = Y - Y2   # residuals\n",
    "mean_x2 = np.mean(X_sort)\n",
    "sq_er2 = np.sum(np.power(resid2,2))\n",
    "CI2 = t * np.sqrt((sq_er2/(n-2))*(1.0/n + (np.power((X_sort-mean_x2),2) / ((np.sum(np.power(X_sort,2)))-n*(np.power(mean_x2,2))))))\n",
    "\n",
    "# Calculate the lower bands and upper bands for 2 regressions\n",
    "lw = Y1 - abs(CI)\n",
    "up = Y1 + abs(CI)\n",
    "lw2 = Y2 - abs(CI2)\n",
    "up2 = Y2 + abs(CI2)\n",
    "\n",
    "# Show the first linear regression line in red, and label it\n",
    "plt.plot(X, Y1, color = 'red', label = 'Regression Equation: y = 9.10x - 34.67')\n",
    "\n",
    "# Show the second linear + quadratic regression line (which may have curvature) in blue, and label it\n",
    "plt.plot(X_sort, Y2, color = 'blue', label='Regression Equation: y = 66.06 - 22.64x + 2.47x^2')\n",
    "\n",
    "# plot the first 95% confidence bands in red (.) \n",
    "plt.plot(X, lw, 'r.', label = '95% Lower Band (Linear)', alpha = 0.4)\n",
    "plt.plot(X, up, 'r.', label = '95% Upper Band (Linear)', alpha = 0.4)\n",
    "\n",
    "# plot the second 95% confidence bands in blue (.)\n",
    "plt.plot(X_sort, lw2, 'b.', label='95% Lower Band (Linear + Quadratic)', alpha = 0.4)\n",
    "plt.plot(X_sort, up2, 'b.', label='95% Upper Band (Linear + Quadratic)', alpha = 0.4)\n",
    "\n",
    "# format the plot\n",
    "plt.legend(loc = 'upper left')\n",
    "scat.spines['right'].set_visible(False)\n",
    "scat.spines['top'].set_visible(False)\n",
    "scat.yaxis.set_ticks_position('left')\n",
    "scat.xaxis.set_ticks_position('bottom')\n",
    "\n",
    "plt.xlabel('Number of Rooms / House')\n",
    "plt.ylabel('Housing Price')\n",
    "plt.title('Housing Price vs. Number of Rooms / House')\n",
    "\n",
    "plt.show()"
   ]
  },
  {
   "cell_type": "markdown",
   "metadata": {
    "ein.tags": [
     "worksheet-0"
    ],
    "slideshow": {
     "slide_type": "-"
    }
   },
   "source": [
    "\n",
    "## Part 2: Gradient descent: Linear Regression\n",
    "\n",
    "This is where it gets fun!\n",
    "\n",
    "### 2.1 Implement gradient descent with one independent variable (Average rooms per house)\n",
    "\n",
    "Implement the batch gradient descent algorithm that we discussed in class. Use the version you implement to regress the housing price on the number of rooms per house. Experiment with 3-4 different values of the learning rate *R*, and do the following:\n",
    "\n",
    "* Report the values of alpha and beta that minimize the loss function\n",
    "* Report the number of iterations it takes for your algorithm to converge (for each value of *R*)\n",
    "* Report the total running time of your algorithm, in seconds\n",
    "\n",
    "Some skeleton code is provided below, but you should feel free to delete this code and start from scratch if you prefer.\n",
    "\n",
    "* *Hint 1: Don't forget to implement a stopping condition, so that at every iteration you check whether your results have converged. Common approaches to this are to (a) check to see if the loss has stopped decreasing; and (b) check if both your current parameter esimates are close to the estimates from the previous iteration.  In both cases, \"close\" should not be ==0, it should be <=epsilon, where epsilon is something very small (like 0.0001).*\n",
    "* *Hint 2: It is always useful to include maximum number of iterations, otherwise a rogue estimation may go on forever.*"
   ]
  },
  {
   "cell_type": "code",
   "execution_count": 6,
   "metadata": {
    "autoscroll": "json-false",
    "collapsed": false,
    "ein.tags": [
     "worksheet-0"
    ],
    "slideshow": {
     "slide_type": "-"
    }
   },
   "outputs": [],
   "source": [
    "\"\"\"\n",
    "    Function\n",
    "    --------\n",
    "    bivariate_ols: Gradient Decent to minimize OLS. Used to find coefficients of bivariate OLS Linear regression\n",
    "\n",
    "    Parameters\n",
    "    ----------\n",
    "    xvalues, yvalues : narray xvalues: independent variable; yvalues: dependent variable\n",
    "    R: float, Learning rate\n",
    "    MaxIterations: Int, maximum number of iterations\n",
    "\n",
    "    Returns\n",
    "    -------\n",
    "    alpha: float, intercept\n",
    "    beta: float, co-efficient\n",
    "    ttaken: time taken\n",
    "    it: number of iterations\n",
    "    convergence: logical, convergence achieved?\n",
    "\"\"\"\n",
    "def bivariate_ols(xvalues, yvalues, R, MaxIterations):\n",
    "    # initialize necessary parameters\n",
    "    alpha = 10\n",
    "    beta = 10\n",
    "    it = 0\n",
    "    convergence = False\n",
    "    err = alpha + beta * xvalues - yvalues\n",
    "    n = len(xvalues)\n",
    "    J = (1.0 / 2*n) * np.dot(err, err)\n",
    "    epsilon = 0.0001\n",
    "    grad_a = (1.0 / n) * err.sum()\n",
    "    grad_b = (1.0 / n) * np.dot(err, xvalues)\n",
    "    \n",
    "    # counting time\n",
    "    time1 = time.time()\n",
    "    \n",
    "    # begin iteration\n",
    "    while True:\n",
    "        if it == MaxIterations:\n",
    "            print('Maximum number of iterations reached.')\n",
    "            break\n",
    "        \n",
    "        alpha -= R * grad_a\n",
    "        beta -= R * grad_b\n",
    "        err1 = alpha + beta * xvalues - yvalues\n",
    "        J1 = (1.0 / 2*n) * np.dot(err1, err1)\n",
    "        if abs(J1 - J) <= epsilon:\n",
    "            convergence = True\n",
    "            break\n",
    "        \n",
    "        grad_a = (1.0 / n) * err1.sum()\n",
    "        grad_b = (1.0 / n) * np.dot(err1, xvalues)\n",
    "        J = J1\n",
    "        it += 1\n",
    "    \n",
    "    # stop counting time\n",
    "    ttaken = round(time.time() - time1, 2)\n",
    "    \n",
    "    # return the 5 wanted values\n",
    "    return round(alpha, 2), round(beta, 2), ttaken, it, convergence"
   ]
  },
  {
   "cell_type": "code",
   "execution_count": 27,
   "metadata": {
    "collapsed": false
   },
   "outputs": [
    {
     "name": "stdout",
     "output_type": "stream",
     "text": [
      "R = 0.005:\n",
      "Maximum number of iterations reached.\n",
      "(-34.560000000000002, 9.0899999999999999, 1.72, 100000, False) \n",
      "\n",
      "R = 0.02:\n",
      "(-34.659999999999997, 9.0999999999999996, 0.57, 34257, True) \n",
      "\n",
      "R = 0.01:\n",
      "(-34.649999999999999, 9.0999999999999996, 1.07, 65635, True)\n"
     ]
    }
   ],
   "source": [
    "# choose RM and MEDV as x and y values\n",
    "xvalues = bdata.data[:, 5]\n",
    "yvalues = bdata.target[:]\n",
    "\n",
    "# Experiment with 3-4 different values of the learning rate R\n",
    "print('R = 0.005:')\n",
    "print(bivariate_ols(xvalues, yvalues, 0.005, 100000),'\\n')\n",
    "print('R = 0.02:')\n",
    "print(bivariate_ols(xvalues, yvalues, 0.02, 100000),'\\n')\n",
    "print('R = 0.01:')\n",
    "print(bivariate_ols(xvalues, yvalues, 0.01, 100000))"
   ]
  },
  {
   "cell_type": "markdown",
   "metadata": {},
   "source": [
    "- The values that minimize the loss function are: alpha = -34.65, beta = 9.10\n",
    "- The number of iterations it takes for my algorithm to converge: over 100000 (maximum iteration), 34257, 65635 respectively\n",
    "- The total running time of my algorithm in seconds: 1.72, 0.57, 1.07 respectively"
   ]
  },
  {
   "cell_type": "markdown",
   "metadata": {
    "ein.tags": [
     "worksheet-0"
    ],
    "slideshow": {
     "slide_type": "-"
    }
   },
   "source": [
    "### 2.2 Data normalization (done for you!)\n",
    "\n",
    "Soon, you will implement a version of gradient descent that can use an arbitrary number of independent variables. Before doing this, we want to give you some code in case you want to standardize your features."
   ]
  },
  {
   "cell_type": "code",
   "execution_count": 7,
   "metadata": {
    "autoscroll": "json-false",
    "collapsed": false,
    "ein.tags": [
     "worksheet-0"
    ],
    "slideshow": {
     "slide_type": "-"
    }
   },
   "outputs": [],
   "source": [
    "def standardize(raw_data):\n",
    "    \"\"\"\n",
    "    standardizes raw data and returns\n",
    "    standardized data, mean by column, sd by column\n",
    "    \"\"\"\n",
    "    mu = np.mean(raw_data, axis = 0)\n",
    "    sd = np.std(raw_data, axis = 0)\n",
    "    return (raw_data - mu) / sd"
   ]
  },
  {
   "cell_type": "markdown",
   "metadata": {
    "ein.tags": [
     "worksheet-0"
    ],
    "slideshow": {
     "slide_type": "-"
    }
   },
   "source": [
    "### 2.3 Implement gradient descent with an arbitrary number of independent variables\n",
    "\n",
    "Now that you have a simple version of gradient descent working, create a version of gradient descent that can take more than one independent variable.  Assume all independent variables will be continuous.  Test your algorithm using CRIM and RM as independent variables. Standardize these variables before before inputting them to the gradient descent algorithm. \n",
    "\n",
    "As before,  report and interpret your estimated coefficients, the number of iterations before convergence, and the total running time of your algorithm. Experiment with the following values of R: 0.1, 0.01, and 0.001.\n",
    "\n",
    "* *Hint 1: Be careful to implement this efficiently, otherwise it might take a long time for your code to run. Commands like `np.dot` can be a good friend to you on this problem*"
   ]
  },
  {
   "cell_type": "code",
   "execution_count": 153,
   "metadata": {
    "autoscroll": "json-false",
    "collapsed": false,
    "ein.tags": [
     "worksheet-0"
    ],
    "slideshow": {
     "slide_type": "-"
    }
   },
   "outputs": [],
   "source": [
    "\"\"\"\n",
    "Function\n",
    "--------\n",
    "multiple_ols\n",
    "    Gradient Decent to minimize OLS. Used to find co-efficients of bivariate OLS Linear regression\n",
    "\n",
    "Parameters\n",
    "----------\n",
    "xvalue_matrix, yvalues : narray\n",
    "    xvalue_matrix: independent variable\n",
    "    yvalues: dependent variable\n",
    "    \n",
    "R: float\n",
    "    Learning rate\n",
    "    \n",
    "MaxIterations: Int\n",
    "    maximum number of iterations\n",
    "\n",
    "Returns\n",
    "-------\n",
    "beta: array[float], coefficients\n",
    "\"\"\"\n",
    "def multiple_ols(xvalue_matrix, yvalues, R, MaxIterations):\n",
    "    # initialize necessary parameters\n",
    "    n = len(xvalue_matrix)\n",
    "    m = len(xvalue_matrix[0])\n",
    "    alpha = 10\n",
    "    beta = [10] * n\n",
    "    y1_values = [0] * n\n",
    "    y2_values = [0] * n\n",
    "    it = 0\n",
    "    convergence = False\n",
    "    epsilon = 0.0001\n",
    "    \n",
    "    for i in range(n):\n",
    "        y1_values[i] = [beta[i] * x for x in xvalue_matrix[i]]\n",
    "    y1_values = [alpha + x + y for x,y in zip(y1_values[0], y1_values[1])]\n",
    "    err = y1_values - yvalues\n",
    "    \n",
    "    J = (1.0 / 2*m) * np.dot(err, err)\n",
    "    J_list = []\n",
    "    \n",
    "    # calculate gradient values\n",
    "    grad_a = (1.0 / m) * err.sum()\n",
    "    grad_b = [0] * n\n",
    "    for i in range(n):\n",
    "        grad_b[i] = (1.0 / m) * np.dot(err, xvalue_matrix[i])\n",
    "    \n",
    "    # counting time\n",
    "    time1 = time.time()\n",
    "\n",
    "    # begin iteration\n",
    "    while True:\n",
    "        if it == MaxIterations:\n",
    "            print('Maximum number of iterations reached.')\n",
    "            break\n",
    "        \n",
    "        # update gradient a and gradient b\n",
    "        alpha -= R * grad_a\n",
    "        for i in range(n):\n",
    "            beta[i] -= R * grad_b[i]\n",
    "        \n",
    "        for i in range(n):\n",
    "            y1_values[i] = [beta[i] * x for x in xvalue_matrix[i]]\n",
    "        y1_values = [alpha + x + y for x,y in zip(y1_values[0], y1_values[1])]\n",
    "        err1 = y1_values - yvalues\n",
    "        J1 = (1.0 / 2*m) * (err1**2).sum()\n",
    "        J_list.append(J1)\n",
    "        \n",
    "        # stop when reach epsilon\n",
    "        if abs(J1 - J) <= epsilon:\n",
    "            convergence = True\n",
    "            break\n",
    "        \n",
    "        # update gradient a and gradient b\n",
    "        grad_a = (1.0 / m) * err1.sum()\n",
    "        for i in range(n):\n",
    "            grad_b[i] = (1.0 / m) * np.dot(err1, xvalue_matrix[i])\n",
    "        J = J1\n",
    "        it += 1\n",
    "\n",
    "    # stop counting time\n",
    "    ttaken = round(time.time() - time1, 2)\n",
    "    \n",
    "    # return wanted values: coefficients, total time taken, number of iterations\n",
    "    return alpha, beta, ttaken, it"
   ]
  },
  {
   "cell_type": "code",
   "execution_count": 154,
   "metadata": {
    "collapsed": false
   },
   "outputs": [
    {
     "name": "stdout",
     "output_type": "stream",
     "text": [
      "R = 0.1:\n",
      "(22.532804206043519, [-2.248560002461566, 5.8944657933121629], 0.09, 147) \n",
      "\n",
      "R = 0.01:\n",
      "(22.532793455391726, [-2.248432718478294, 5.8945927172381554], 0.57, 1371) \n",
      "\n",
      "R = 0.001:\n",
      "(22.532748482051762, [-2.2480446174685671, 5.8949786976670602], 4.9, 12279)\n"
     ]
    }
   ],
   "source": [
    "# Test your algorithm using CRIM and RM as independent variables\n",
    "xvalue_matrix = [standardize(bdata.data[:, 0]), standardize(bdata.data[:, 5])]\n",
    "yvalues = bdata.target[:]\n",
    "\n",
    "# Experiment with the following values of R: 0.1, 0.01, and 0.001\n",
    "print('R = 0.1:')\n",
    "print(multiple_ols(xvalue_matrix, yvalues, 0.1, 100000), '\\n')\n",
    "print('R = 0.01:')\n",
    "print(multiple_ols(xvalue_matrix, yvalues, 0.01, 100000), '\\n')\n",
    "print('R = 0.001:')\n",
    "print(multiple_ols(xvalue_matrix, yvalues, 0.001, 100000))"
   ]
  },
  {
   "cell_type": "markdown",
   "metadata": {},
   "source": [
    "- The estimated coefficients of CRIM and RM are: -2.25 and 5.89\n",
    "- The number of iterations it takes for my algorithm to converge: 147, 1370 and 12279 respectively\n",
    "- The total running time of my algorithm in seconds: 0.09, 0.57 and 5.07 respectively\n",
    "\n",
    "**Interpretation:**\n",
    "The estimated coefficients of two variables indicate that with one unit increase of crime rate we are likely to observe 2.25 units of decrease in the housing price. And with one unit increase of number of rooms per house we will likely to observe 5.89 units of increase in the housing price."
   ]
  },
  {
   "cell_type": "markdown",
   "metadata": {
    "ein.tags": [
     "worksheet-0"
    ],
    "slideshow": {
     "slide_type": "-"
    }
   },
   "source": [
    "### 2.4 Compare standardized vs. non-standardized results\n",
    "\n",
    "Repeat the analysis from 2.3, but this time do not standardize your variables - i.e., use the original data. Use the same three values of R (0.1, 0.01, and 0.001). What do you notice about the running time and convergence properties of your algorithm?"
   ]
  },
  {
   "cell_type": "code",
   "execution_count": 126,
   "metadata": {
    "autoscroll": "json-false",
    "collapsed": false,
    "ein.tags": [
     "worksheet-0"
    ],
    "slideshow": {
     "slide_type": "-"
    }
   },
   "outputs": [
    {
     "name": "stdout",
     "output_type": "stream",
     "text": [
      "R = 0.1:\n"
     ]
    },
    {
     "name": "stderr",
     "output_type": "stream",
     "text": [
      "/Users/Amit/anaconda/lib/python3.6/site-packages/ipykernel/__main__.py:67: RuntimeWarning: overflow encountered in double_scalars\n",
      "/Users/Amit/anaconda/lib/python3.6/site-packages/ipykernel/__main__.py:70: RuntimeWarning: invalid value encountered in double_scalars\n",
      "/Users/Amit/anaconda/lib/python3.6/site-packages/ipykernel/__main__.py:67: RuntimeWarning: overflow encountered in square\n",
      "/Users/Amit/anaconda/lib/python3.6/site-packages/ipykernel/__main__.py:60: RuntimeWarning: invalid value encountered in double_scalars\n"
     ]
    },
    {
     "name": "stdout",
     "output_type": "stream",
     "text": [
      "Maximum number of iterations reached.\n",
      "([nan, nan], 43.54, 100000) \n",
      "\n",
      "R = 0.01:\n",
      "([-0.26188111034247025, 8.3948228902875819], 28.75, 68429) \n",
      "\n",
      "R = 0.001:\n",
      "Maximum number of iterations reached.\n",
      "([-0.30323875258040001, 6.4704043735255663], 50.72, 100000)\n"
     ]
    }
   ],
   "source": [
    "xvalue2_matrix = [bdata.data[:, 0], bdata.data[:, 5]]\n",
    "print('R = 0.1:')\n",
    "print(multiple_ols(xvalue2_matrix, yvalues, 0.1, 100000), '\\n')\n",
    "print('R = 0.01:')\n",
    "print(multiple_ols(xvalue2_matrix, yvalues, 0.01, 100000), '\\n')\n",
    "print('R = 0.001:')\n",
    "print(multiple_ols(xvalue2_matrix, yvalues, 0.001, 100000))"
   ]
  },
  {
   "cell_type": "markdown",
   "metadata": {},
   "source": [
    "**Interpretation:**\n",
    "Comparing the standardized and non-standardized results, we can see that the running time of non-standardized data is much longer than the standardized data. Apart from this, the number of iterations to reach the convergence is also larger for non-standardized data. For R = 0.1 and R = 0.001, it both reached the maximum number of iterations (100,000). This indicates that normalizing or standardizing datasets helps gradient descent to converge faster."
   ]
  },
  {
   "cell_type": "markdown",
   "metadata": {
    "ein.tags": [
     "worksheet-0"
    ],
    "slideshow": {
     "slide_type": "-"
    }
   },
   "source": [
    "## 3. Prediction\n",
    "\n",
    "Let's use our fitted model to make predictions about housing prices. Since the focus is now on prediction rather than the interpretation of the coefficients, first standardize your features before proceeding.\n",
    "\n",
    "### 3.1 Cross-Validation\n",
    "\n",
    "Unless you were careful above, you probably overfit your data again. Let's fix that in one of two ways. If you're feeling confident, use k-fold cross-validation to re-fit the multiple regression from 2.3 above, and report your estimated coefficients (there should be three, corresponding to the intercept and the two coefficients for CRIM and RM). Or if you want to do the quick and dirty version, randomly divide your data into a training set (66%) and testing set (34%) and use the training set to re-fit the regression from 2.3 above. "
   ]
  },
  {
   "cell_type": "code",
   "execution_count": 155,
   "metadata": {
    "autoscroll": "json-false",
    "collapsed": false,
    "ein.tags": [
     "worksheet-0"
    ],
    "slideshow": {
     "slide_type": "-"
    }
   },
   "outputs": [
    {
     "name": "stdout",
     "output_type": "stream",
     "text": [
      "The intercept of housing price is: 22.51\n",
      "The two coefficients for CRIM and RM are:\n",
      "- CRIM: -2.28\n",
      "- RM: 5.89\n"
     ]
    }
   ],
   "source": [
    "# Use 11-fold cross validation\n",
    "kfold = KFold(len(df_data), 11, shuffle = False, random_state = 1)\n",
    "alpha_list = []\n",
    "beta_list = []\n",
    "\n",
    "# Calculate the intercept and coefficients value for each fold\n",
    "for train, test in kfold:\n",
    "    CRIM_train, CRIM_test = xvalue_matrix[0][train], xvalue_matrix[0][test]\n",
    "    RM_train, RM_test = xvalue_matrix[1][train], xvalue_matrix[1][test]\n",
    "    Y_train, Y_test = yvalues[train], yvalues[test]\n",
    "    xvalue_new = [CRIM_train, RM_train]\n",
    "    yvalues_new = Y_train\n",
    "    # call previous function to do multiple linear regression\n",
    "    alpha_k, beta_k, total_time, it = multiple_ols(xvalue_new, yvalues_new, 0.1, 100000)\n",
    "    alpha_list.append(alpha_k)\n",
    "    beta_list.append(beta_k)\n",
    "\n",
    "# Calculate the overall intercept\n",
    "intercept = sum(alpha_list) / len(alpha_list)\n",
    "\n",
    "# Calculate the two coefficients for CRIM and RM\n",
    "coefficients = []\n",
    "CRIM_beta = 0\n",
    "RM_beta = 0\n",
    "for i in range(len(beta_list)):\n",
    "    CRIM_beta += beta_list[i][0]\n",
    "    RM_beta += beta_list[i][1]\n",
    "coefficients.append(CRIM_beta / len(beta_list))\n",
    "coefficients.append(RM_beta / len(beta_list))\n",
    "\n",
    "print('The intercept of housing price is:', round(intercept, 2))\n",
    "print('The two coefficients for CRIM and RM are:')\n",
    "print('- CRIM:', round(coefficients[0], 2))\n",
    "print('- RM:', round(coefficients[1], 2))"
   ]
  },
  {
   "cell_type": "markdown",
   "metadata": {
    "ein.tags": [
     "worksheet-0"
    ],
    "slideshow": {
     "slide_type": "-"
    }
   },
   "source": [
    "### 3.2 Predicted values and RMSE\n",
    "\n",
    "Let's figure out how accurate this predictive model turned out to be. Compute the RMSE on your test cases, i.e. take the model parameters that you found above and compare the actual to the predicted values for just the test instances. If you did this the k-fold way above, this will be the average RMSE across the k test sets. If you did this the quick and dirty way above, this will just be the RMSE on your single test set.\n",
    "\n",
    "What is your test RMSE?  How does it compare to the performance of your nearest neighbor algorithm from the last problem set?  How does it compare to RMSE from a simpler model where number of rooms is the only explanatory variable?"
   ]
  },
  {
   "cell_type": "code",
   "execution_count": 156,
   "metadata": {
    "autoscroll": "json-false",
    "collapsed": false,
    "ein.tags": [
     "worksheet-0"
    ],
    "slideshow": {
     "slide_type": "-"
    }
   },
   "outputs": [
    {
     "name": "stdout",
     "output_type": "stream",
     "text": [
      "The average RMSE is: 5.96\n"
     ]
    }
   ],
   "source": [
    "from statsmodels.tools.eval_measures import rmse\n",
    "\n",
    "# Compute the average RMSE across the k test sets\n",
    "rmse_sum = 0\n",
    "y_predicted = [0] * n\n",
    "\n",
    "for train, test in kfold:\n",
    "    CRIM_train, CRIM_test = xvalue_matrix[0][train], xvalue_matrix[0][test]\n",
    "    RM_train, RM_test = xvalue_matrix[1][train], xvalue_matrix[1][test]\n",
    "    Y_train, Y_test = yvalues[train], yvalues[test]\n",
    "    xvalue_new = [CRIM_train, RM_train]\n",
    "    yvalues_new = Y_train\n",
    "    \n",
    "    # call previous function to do multiple linear regression\n",
    "    alpha_k, beta_k, total_time, it = multiple_ols(xvalue_new, yvalues_new, 0.01, 100000)\n",
    "    y_predicted[0] = [beta_k[0] * x for x in CRIM_test]\n",
    "    y_predicted[1] = [beta_k[1] * x for x in RM_test]\n",
    "    y_predicted = [alpha_k + x + y for x,y in zip(y_predicted[0], y_predicted[1])]\n",
    "    \n",
    "    # add calculated RMSE to sum\n",
    "    rmse_sum += rmse(y_predicted, Y_test)\n",
    "    \n",
    "# Calculate average RMSE\n",
    "rmse_avg = rmse_sum / len(beta_list)\n",
    "\n",
    "print('The average RMSE is:', round(rmse_avg, 2)) "
   ]
  },
  {
   "cell_type": "code",
   "execution_count": 157,
   "metadata": {
    "collapsed": false
   },
   "outputs": [
    {
     "name": "stdout",
     "output_type": "stream",
     "text": [
      "The average RMSE of a simpler model where RM is the only variable is: 6.12\n"
     ]
    }
   ],
   "source": [
    "# Calculate average RMSE from a simpler model where RM is the only explanatory variable\n",
    "rmse_sum2 = 0\n",
    "y_predicted2 = [0] * n\n",
    "\n",
    "for train, test in kfold:\n",
    "    RM_train, RM_test = xvalue_matrix[1][train], xvalue_matrix[1][test]\n",
    "    Y_train, Y_test = yvalues[train], yvalues[test]\n",
    "    xvalue_new = [CRIM_train, RM_train]\n",
    "    yvalues_new = Y_train\n",
    "    \n",
    "    alpha2_k, beta2_k, total_time2, it2, conv= bivariate_ols(xvalue_new[1], yvalues_new, 0.01, 100000)\n",
    "    y_predicted2[0] = [beta2_k * x for x in RM_test]\n",
    "    y_predicted2 = [alpha2_k + x for x in y_predicted2[0]]\n",
    "    \n",
    "    # add calculated RMSE to sum\n",
    "    rmse_sum2 += rmse(y_predicted2, Y_test)\n",
    "    \n",
    "# calculate average RMSE for the simpler model\n",
    "rmse_avg2 = rmse_sum2 / len(beta_list)\n",
    "\n",
    "print('The average RMSE of a simpler model where RM is the only variable is:', round(rmse_avg2, 2))    "
   ]
  },
  {
   "cell_type": "markdown",
   "metadata": {},
   "source": [
    "**Interpretation:**\n",
    "\n",
    "The average test RMSE is **5.96**, which is much smaller than RMSE of the nearest neighbor algorithm from the last problem set. This shows a better performance comparing to the nearest neighbor algorithm implementation result.\n",
    "\n",
    "Comparing to RMSE from a simpler model where number of rooms is the only explanatory variable, which is 6.12, this RMSE is also smaller, indicating a more accurate result."
   ]
  },
  {
   "cell_type": "markdown",
   "metadata": {
    "ein.tags": [
     "worksheet-0"
    ],
    "slideshow": {
     "slide_type": "-"
    }
   },
   "source": [
    "### Extra Credit 1: Logistic Regression\n",
    "\n",
    "For extra credit, implement logistic regression using gradient descent. Create a new variable (EXPENSIVE) to indicate whether the median housing price is more than $40,000. Use your model  a logistic regression of EXPENSIVE on CHAS and RM. Report your results."
   ]
  },
  {
   "cell_type": "code",
   "execution_count": 8,
   "metadata": {
    "autoscroll": "json-false",
    "collapsed": false,
    "ein.tags": [
     "worksheet-0"
    ],
    "slideshow": {
     "slide_type": "-"
    }
   },
   "outputs": [],
   "source": [
    "# initialize and standardize RM variable\n",
    "x = np.vstack(standardize(bdata.data[:, 5]))\n",
    "\n",
    "# initialize CHAS variable\n",
    "c = np.vstack(bdata.data[:, 3])\n",
    "\n",
    "xvalue_matrix = np.concatenate((x,c), axis = 1)\n",
    "\n",
    "# initialize EXPENSIVE variable\n",
    "y = np.ravel(np.vstack(bdata.target)) > 40"
   ]
  },
  {
   "cell_type": "code",
   "execution_count": 24,
   "metadata": {
    "collapsed": false
   },
   "outputs": [
    {
     "name": "stdout",
     "output_type": "stream",
     "text": [
      "[ 0.58172048 -1.70251567] 4120 0.4\n"
     ]
    }
   ],
   "source": [
    "import math\n",
    "\n",
    "# implement logistic regression using gradient descent\n",
    "def multiple_log_regression(xvalue_matrix, yvalues, R=0.01, MaxIterations=1000):\n",
    "    xvalue_matrix = np.array(xvalue_matrix)\n",
    "    yvalues = np.array(yvalues)\n",
    "    \n",
    "    # initialize the parameters   \n",
    "    rows, features = xvalue_matrix.shape\n",
    "    betas = np.zeros(features)\n",
    "    count = 0\n",
    "    J_betas = np.zeros(features)\n",
    "    J_betas = J_betas + .1\n",
    "    e = math.e\n",
    "    exp = np.array(xvalue_matrix.T.shape)\n",
    "    count = 0\n",
    "    \n",
    "    start_time = time.time()\n",
    "    \n",
    "    while count < MaxIterations and abs(J_betas.max()) > .00001:\n",
    "        exp = np.dot(betas, xvalue_matrix.T)\n",
    "        resid =  yvalues - (1. / (1. + e**-exp))\n",
    "        J_betas = np.mean(np.multiply(xvalue_matrix.T, resid), axis = 1)\n",
    "        \n",
    "        # update coefficients\n",
    "        betas = betas + R * J_betas \n",
    "        count += 1  \n",
    "    \n",
    "    ttake = round(time.time() - start_time, 2)\n",
    "    return betas, count, ttake\n",
    "\n",
    "betas, count, ttake = multiple_log_regression(xvalue_matrix, y, R=0.1, MaxIterations=100000)\n",
    "print(betas, count, ttake)"
   ]
  },
  {
   "cell_type": "code",
   "execution_count": 25,
   "metadata": {
    "collapsed": false
   },
   "outputs": [
    {
     "name": "stdout",
     "output_type": "stream",
     "text": [
      "0.0 [[ 0.56473822 -1.44557831]]\n"
     ]
    }
   ],
   "source": [
    "# compare the results to sklearn logistic regression results\n",
    "x = xvalue_matrix\n",
    "log = LogisticRegression(fit_intercept = False)\n",
    "log.fit(x, y)\n",
    "\n",
    "print(log.intercept_, log.coef_)"
   ]
  },
  {
   "cell_type": "markdown",
   "metadata": {},
   "source": [
    "**Interpretation:**\n",
    "\n",
    "The coefficients of the implemented logistic regression results are 0.58 and -1.70 respectively, which indicates that a house bordering the Charles River increases the log odds of the housing price being expensive (greater than $40,000) by 0.58; and with one unit increase of number of rooms, we will observe the log odds of the house price being expensive decrease by 1.72. \n",
    "\n",
    "The logistic regression results show that there exist a positive relationship between a house bordering Charles River and its price, and a negative relationship between the room number and the price. By comparing them to the sklearn logistic regression results, which are 0.56 and -1.44 coefficients, we can see that those results are consistent."
   ]
  },
  {
   "cell_type": "markdown",
   "metadata": {
    "ein.tags": [
     "worksheet-0"
    ],
    "slideshow": {
     "slide_type": "-"
    }
   },
   "source": [
    "## 4 Regularization \n",
    "\n",
    "### 4.1 Get prepped\n",
    "\n",
    "Step 1: Create new interaction variables between each possible pair of the F_s features.  Note: as all the original features are numeric, you can just multiply.  If you originally had *K* features, you should now have K+(K*(K+1))/2 features. Standardize all of your features.\n",
    "\n",
    "Step 2: For simplicity, generate a single training and testing set.  Randomly sample 66% of your data and call this the training set, and set aside the remaining 34% as your test set."
   ]
  },
  {
   "cell_type": "code",
   "execution_count": 28,
   "metadata": {
    "autoscroll": "json-false",
    "collapsed": false,
    "ein.tags": [
     "worksheet-0"
    ],
    "slideshow": {
     "slide_type": "-"
    }
   },
   "outputs": [],
   "source": [
    "from sklearn.preprocessing import PolynomialFeatures\n",
    "import itertools\n",
    "import random\n",
    "\n",
    "# create interaction terms for 13 features\n",
    "comb_index_list = list(itertools.combinations(list(range(13)), 2))\n",
    "df_new = pd.DataFrame()\n",
    "\n",
    "# multiply and standardize possible pairs of features\n",
    "for i in range(0, len(comb_index_list)):\n",
    "    feature_1 = comb_index_list[i][0]\n",
    "    feature_2 = comb_index_list[i][1]\n",
    "    df_new[i] = standardize([x * y for x, y in zip(bdata.data[:, feature_1], bdata.data[:, feature_2])])\n",
    "#df_new\n",
    "\n",
    "# generate a single training set and testing set\n",
    "train = []\n",
    "test = list(range(len(bdata.data)))\n",
    "for i in range(0, int(len(bdata.data) * 0.66)):\n",
    "    n = random.choice(test)\n",
    "    train.append(n)\n",
    "    test.remove(n)\n",
    "\n",
    "#  Randomly sample 66% as training set, and set aside the remaining 34% as test set\n",
    "df_train = df_new.loc[train, :]\n",
    "df_test = df_new.loc[test, :]\n",
    "y_train = yvalues[train]\n",
    "y_test = yvalues[test]\n",
    "\n",
    "#df_train\n",
    "#df_test"
   ]
  },
  {
   "cell_type": "markdown",
   "metadata": {
    "ein.tags": [
     "worksheet-0"
    ],
    "slideshow": {
     "slide_type": "-"
    }
   },
   "source": [
    "### 4.2 Let's overfit!\n",
    "Now, using your version of multiple regression from 2.3, let's overfit the training data. Using your training set, regress housing price on as many of those K+(K*(K+1))/2 features as you can.  If you get too greedy, it's possible this will take a long time to compute, so start with 5-10 features, and if you have the time, add more features.\n",
    "\n",
    "Report the RMSE when you apply your model to your training set and to your testing set. How do these numbers compare to each other, and to the RMSE from 3.2 and nearest neighbors?"
   ]
  },
  {
   "cell_type": "code",
   "execution_count": 226,
   "metadata": {
    "collapsed": true
   },
   "outputs": [],
   "source": [
    "def overfit_multiple_ols(xvalues_matrix, yvalues, R, MaxIterations):\n",
    "    '''This function uses the previous multiple regression algorithm in 2.3,\n",
    "    it takes the same parameters (in this case they are randomly chosen data \n",
    "    features and target values, R value and Maxiterations), computes the \n",
    "    intercept and coefficients, then returns them as alpha and beta. '''\n",
    "    \n",
    "    # initialize the parameters\n",
    "    alpha, epsilon, it = 10, 0.0001, 0\n",
    "    n = len(xvalues_matrix)\n",
    "    m = len(xvalues_matrix[0])\n",
    "    \n",
    "    beta = [10] * n\n",
    "    b_total = [0] * m\n",
    "    b_multi = [0] * n\n",
    "    b1_multi = [0] * n\n",
    "    gradient_b = [0] * n\n",
    "    \n",
    "    # calculate J value\n",
    "    for i in range(n):\n",
    "        b_multi[i] = [beta[i] * x for x in xvalues_matrix[i]]\n",
    "    for i in range(n):\n",
    "        b_total = [ x + y for x, y in zip(b_total, b_multi[i])]\n",
    "    \n",
    "    b_total = [alpha + x for x in b_total]\n",
    "    err = b_total - yvalues\n",
    "    J = (1.0/2*m)*np.dot(err, err)    \n",
    "\n",
    "    # calculate gradient a and gradient b\n",
    "    gradient_a = R * (1.0/m)* (err.sum())\n",
    "    for i in range(n):\n",
    "        gradient_b[i] = R * (1.0/m)*(np.dot(err, xvalues_matrix[i]))\n",
    "\n",
    "    J_list=[]\n",
    "    \n",
    "    # counting time\n",
    "    time1 = time.time()\n",
    "    \n",
    "    while True:\n",
    "        if (it == MaxIterations):\n",
    "            print ('Maximum number of iterations reached.')\n",
    "            break\n",
    "\n",
    "        alpha -= gradient_a\n",
    "        for i in range(n):\n",
    "            beta[i] -= gradient_b[i]\n",
    "        for i in range(n):\n",
    "            b1_multi[i] = [beta[i]* x for x in xvalues_matrix[i]]\n",
    "        \n",
    "        b1_total=[0] * m\n",
    "        for i in range(n):\n",
    "            b1_total = [ x + y for x,y in zip(b1_total, b1_multi[i])]\n",
    "\n",
    "        # update J value\n",
    "        b1_total = [alpha + x for x in b1_total]\n",
    "        err1 = b1_total - yvalues\n",
    "        J1 = (1.0 / 2*m) * ((err1**2).sum())\n",
    "        J_list.append(J1)\n",
    "\n",
    "        if (abs(J - J1) <= epsilon):\n",
    "            break\n",
    "            \n",
    "        gradient_a = R * (1.0/m) * (err.sum())\n",
    "        for i in range(n):\n",
    "            gradient_b[i] = R * (1.0/m) * (np.dot(err, xvalues_matrix[i]))\n",
    "        \n",
    "        J = J1\n",
    "        err = err1\n",
    "        it += 1\n",
    "        \n",
    "    ttaken = round(time.time() - time1, 2)\n",
    "    return alpha, beta, ttaken, it"
   ]
  },
  {
   "cell_type": "code",
   "execution_count": 21,
   "metadata": {
    "autoscroll": "json-false",
    "collapsed": false,
    "ein.tags": [
     "worksheet-0"
    ],
    "slideshow": {
     "slide_type": "-"
    }
   },
   "outputs": [],
   "source": [
    "def multivariate_xvalues(number):\n",
    "    '''This function takes one parameter: the number of features\n",
    "    and it randomly choose that number of features' values from the training set\n",
    "    then it stores the training data in a x-value matrix and returns it''' \n",
    "    xvalues_matrix = []\n",
    "    # create a list of indexs on as many of those K+(K*(K+1))/2 features I have\n",
    "    total_features = list(range(78))\n",
    "    \n",
    "    for i in range(number):\n",
    "        feature_n = random.choice(total_features)\n",
    "        feature_col = df_train.loc[:, feature_n]\n",
    "        xvalues_matrix.append(feature_col)\n",
    "        \n",
    "    return xvalues_matrix"
   ]
  },
  {
   "cell_type": "code",
   "execution_count": 222,
   "metadata": {
    "collapsed": false
   },
   "outputs": [],
   "source": [
    "def report_rmse(number):\n",
    "    '''This function takes one parameter: the number of features\n",
    "    and it calls the previous function to get the x-value matrix,\n",
    "    and the alpha value and list of beta values. Then it calculates\n",
    "    the predicted values using the testing set, then use the true values\n",
    "    and predicted values to compute the RMSE, then returns it'''\n",
    "    \n",
    "    # call previous functions to get necessary parameters\n",
    "    xvalues_matrix = multivariate_xvalues(number)\n",
    "    alpha, beta, time, it = overfit_multiple_ols(xvalues_matrix, y_train, 0.1, 100000)\n",
    "    \n",
    "    # calculate predicted values\n",
    "    y_total = []\n",
    "    for i in range(number):\n",
    "        y_total.append([beta[i]* x for x in df_test[i]])\n",
    "        \n",
    "    predicted =[0] * len(y_total[0])\n",
    "    for i in range(number):\n",
    "        predicted = [x + y for x,y in zip(predicted, y_total[i])]\n",
    "    predicted = [alpha + x for x in predicted]\n",
    "    \n",
    "    # calculate RMSE\n",
    "    RMSE = rmse(predicted, y_test)\n",
    "    \n",
    "    return RMSE"
   ]
  },
  {
   "cell_type": "code",
   "execution_count": 228,
   "metadata": {
    "collapsed": false
   },
   "outputs": [
    {
     "name": "stdout",
     "output_type": "stream",
     "text": [
      "With 5 features:\n",
      "RMSE = 9.72540718634\n",
      "\n",
      "With 6 features:\n",
      "RMSE = 9.79102641315\n",
      "\n",
      "With 7 features:\n",
      "RMSE = 8.03351474909\n",
      "\n",
      "With 8 features:\n",
      "RMSE = 14.1663730647\n",
      "\n",
      "With 9 features:\n",
      "RMSE = 9.58492010198\n",
      "\n",
      "With 10 features:\n",
      "RMSE = 8.4405576279\n"
     ]
    }
   ],
   "source": [
    "# Start with 5-10 features:\n",
    "\n",
    "print('With 5 features:')\n",
    "print('RMSE =', report_rmse(5))\n",
    "print('\\nWith 6 features:')\n",
    "print('RMSE =', report_rmse(6))\n",
    "print('\\nWith 7 features:')\n",
    "print('RMSE =', report_rmse(7))\n",
    "print('\\nWith 8 features:')\n",
    "print('RMSE =', report_rmse(8))\n",
    "print('\\nWith 9 features:')\n",
    "print('RMSE =', report_rmse(9))\n",
    "print('\\nWith 10 features:')\n",
    "print('RMSE =', report_rmse(10))"
   ]
  },
  {
   "cell_type": "markdown",
   "metadata": {},
   "source": [
    "**Interpretation:**\n",
    "\n",
    "With the number of features increases from 5 to 10, the test RMSE is fluctuating from 8 to 9, except for RMSE of 8 features which is 14.16. Comparing to the RMSE calculated in problem 3.2, which is 5.96, this RMSE bigger. Comparing to the RMSE calculated in the nearest neighbor problem, this RMSE is much smaller, indicating that using nearest neighbor method to fit the data will not have a better performance than this. "
   ]
  },
  {
   "cell_type": "markdown",
   "metadata": {
    "ein.tags": [
     "worksheet-0"
    ],
    "slideshow": {
     "slide_type": "-"
    }
   },
   "source": [
    "### 4.3 Ridge regularization\n",
    "a) Incorporate L2 (Ridge) regularization into your multiple_ols regression. Write a new version of your gradient descent algorithm that includes a regularization term \"lambda\" to penalize excessive complexity. \n",
    "\n",
    "b) Use your regularized regression to re-fit the model from 4.2 above on your training data. Try this for several different values of lambda, and report your RMSE for each lambda separately for your training and testing data. How do these numbers compare to each other, to the RMSE from 4.2,  to the RMSE from 2.3, and to the RMSE from nearest neighbors?\n",
    "\n",
    "c) Go brag to your friends about how you just implemented ridge-regularized multiple regression using gradient descent optimization, from scratch (if you still have any friends left...)"
   ]
  },
  {
   "cell_type": "code",
   "execution_count": 15,
   "metadata": {
    "autoscroll": "json-false",
    "collapsed": false,
    "ein.tags": [
     "worksheet-0"
    ],
    "slideshow": {
     "slide_type": "-"
    }
   },
   "outputs": [],
   "source": [
    "def ridge_multiple_ols(xvalues_matrix, yvalues, lamb, R, MaxIterations):\n",
    "    '''This function uses the previous multiple regression algorithm in 2.3,\n",
    "    it takes one more parameter: lamb (the regularization term lambda),\n",
    "    computes the intercept and coefficients, then returns them as alpha and beta. '''\n",
    "    \n",
    "    # initialize the parameters\n",
    "    alpha, epsilon, it = 10, 0.0001, 0\n",
    "    n = len(xvalues_matrix)\n",
    "    m = len(xvalues_matrix[0])\n",
    "    beta = [10] * n\n",
    "    b_total = [0] * m\n",
    "    b_multi = [0] * n\n",
    "    b1_multi = [0] * n\n",
    "    gradient_b = [0] * n\n",
    "    \n",
    "    # calculate J value\n",
    "    for i in range(n):\n",
    "        b_multi[i] = [beta[i] * x for x in xvalues_matrix[i]]\n",
    "    for i in range(n):\n",
    "        b_total = [ x + y for x, y in zip(b_total, b_multi[i])]\n",
    "    \n",
    "    if len(b_total) > len(yvalues):\n",
    "        b_total = b_total[:len(yvalues)]\n",
    "    elif len(b_total) < len(yvalues):\n",
    "        yvalues = yvalues[:len(b_total)]\n",
    "        \n",
    "    err = b_total - yvalues\n",
    "    J = (1.0/2*m) * np.dot(err, err)    \n",
    "\n",
    "    # calculate gradient a and gradient b\n",
    "    gradient_a = R * (1.0/m)* (err.sum())\n",
    "    for i in range(n):\n",
    "        gradient_b[i] = R * (1.0/m)*(np.dot(err, xvalues_matrix[i]))\n",
    "\n",
    "    J_list=[]\n",
    "    \n",
    "    # counting time\n",
    "    time1 = time.time()\n",
    "    \n",
    "    while True:\n",
    "        if (it == MaxIterations):\n",
    "            print ('Maximum number of iterations reached.')\n",
    "            break\n",
    "\n",
    "        alpha -= gradient_a\n",
    "        for i in range(n):\n",
    "            beta[i] -= R * (gradient_b[i] + (lamb / m) * beta[i])\n",
    "        for i in range(n):\n",
    "            b1_multi[i] = [beta[i]* x for x in xvalues_matrix[i]]\n",
    "        \n",
    "        b1_total=[0] * m\n",
    "        for i in range(n):\n",
    "            b1_total = [ x + y for x,y in zip(b1_total, b1_multi[i])]\n",
    "\n",
    "        # update J value\n",
    "        b1_total = [alpha + x for x in b1_total]\n",
    "        err1 = b1_total - yvalues\n",
    "        J1 = (1.0 / 2*m) * ((err1**2).sum())\n",
    "        J_list.append(J1)\n",
    "\n",
    "        if (abs(J - J1) <= epsilon):\n",
    "            break\n",
    "            \n",
    "        gradient_a = R * (1.0/m) * (err.sum())\n",
    "        for i in range(n):\n",
    "            gradient_b[i] = R * (1.0/m) * (np.dot(err, xvalues_matrix[i]))\n",
    "        \n",
    "        J = J1\n",
    "        err = err1\n",
    "        it += 1\n",
    "        \n",
    "    ttaken = round(time.time() - time1, 2)\n",
    "    return alpha, beta, ttaken, it"
   ]
  },
  {
   "cell_type": "code",
   "execution_count": 16,
   "metadata": {
    "collapsed": true
   },
   "outputs": [],
   "source": [
    "def ridge_report_rmse(number, lamb):\n",
    "    '''This function takes two parameter: the number of features and lambda\n",
    "    and it calls the previous function to get the x-value matrix,\n",
    "    and the alpha value and list of beta values. Then it calculates\n",
    "    the predicted values using the testing set, then use the true values\n",
    "    and predicted values to compute the RMSE, then returns it'''\n",
    "    \n",
    "    # call previous functions to get necessary parameters\n",
    "    xvalues_matrix = multivariate_xvalues(number)\n",
    "    alpha, beta, time, it = ridge_multiple_ols(xvalues_matrix, y_train, lamb, 0.1, 100000)\n",
    "    \n",
    "    # calculate predicted values\n",
    "    y_total = []\n",
    "    for i in range(number):\n",
    "        y_total.append([beta[i]* x for x in df_test[i]])\n",
    "        \n",
    "    predicted =[0] * len(y_total[0])\n",
    "    for i in range(number):\n",
    "        predicted = [x + y for x,y in zip(predicted, y_total[i])]\n",
    "    predicted = [alpha + x for x in predicted]\n",
    "    \n",
    "    # calculate RMSE\n",
    "    RMSE = rmse(predicted, y_test)\n",
    "    \n",
    "    return RMSE"
   ]
  },
  {
   "cell_type": "code",
   "execution_count": 236,
   "metadata": {
    "collapsed": false
   },
   "outputs": [
    {
     "name": "stdout",
     "output_type": "stream",
     "text": [
      "With 7 features and Lambda = 5:\n",
      "RMSE = 7.87855208233\n",
      "\n",
      "With 7 features and Lambda = 10:\n",
      "RMSE = 7.91071421437\n",
      "\n",
      "With 7 features and Lambda = 20:\n",
      "RMSE = 7.74257511827\n",
      "\n",
      "With 7 features and Lambda = 30:\n",
      "RMSE = 9.26450802377\n",
      "\n",
      "With 7 features and Lambda = 50:\n",
      "RMSE = 8.40779385657\n",
      "\n",
      "With 7 features and Lambda = 70:\n",
      "RMSE = 8.27520295996\n",
      "\n",
      "With 7 features and Lambda = 90:\n",
      "RMSE = 8.45847805417\n",
      "\n",
      "With 7 features and Lambda = 100:\n",
      "RMSE = 8.73809867174\n"
     ]
    }
   ],
   "source": [
    "# Try a range of different lambdas with the number of features = 7:\n",
    "\n",
    "print('With 7 features and Lambda = 5:')\n",
    "print('RMSE =', ridge_report_rmse(7, 5))\n",
    "print('\\nWith 7 features and Lambda = 10:')\n",
    "print('RMSE =', ridge_report_rmse(7, 10))\n",
    "print('\\nWith 7 features and Lambda = 20:')\n",
    "print('RMSE =', ridge_report_rmse(7, 20))\n",
    "print('\\nWith 7 features and Lambda = 30:')\n",
    "print('RMSE =', ridge_report_rmse(7, 30))\n",
    "print('\\nWith 7 features and Lambda = 50:')\n",
    "print('RMSE =', ridge_report_rmse(7, 50))\n",
    "print('\\nWith 7 features and Lambda = 70:')\n",
    "print('RMSE =', ridge_report_rmse(7, 70))\n",
    "print('\\nWith 7 features and Lambda = 90:')\n",
    "print('RMSE =', ridge_report_rmse(7, 90))\n",
    "print('\\nWith 7 features and Lambda = 100:')\n",
    "print('RMSE =', ridge_report_rmse(7, 100))"
   ]
  },
  {
   "cell_type": "markdown",
   "metadata": {},
   "source": [
    "**Interpretation:**\n",
    "\n",
    "In the results above, Lambda values range from 5 - 100 are tested with a R value of 0.1 and number of features of 7. We can observe similar values of RMSE compared to the results in problem 4.2. The RMSE values range from 7.7 to 9.2, with the lowest RMSE of 7.74 when Lambda = 20. Before Lambda reached 20 the RMSE kept decreasing, and after that it began increasing and slightly flutuated. This result shows that we had regularized the over-fit model using Ridge Regularization and reduced the RMSE value."
   ]
  },
  {
   "cell_type": "markdown",
   "metadata": {
    "ein.tags": [
     "worksheet-0"
    ],
    "slideshow": {
     "slide_type": "-"
    }
   },
   "source": [
    "### Extra Credit 2: Cross-validate lambda\n",
    "\n",
    "Use k-fold cross-validation to select the optimal value of lambda. Report the average RMSE across all training sets, and the average RMSE across all testing sets. How do these numbers compare to each other, to the RMSE from your previous efforts?  Finally, create a plot that shows RMSE as a function of lambda."
   ]
  },
  {
   "cell_type": "code",
   "execution_count": 29,
   "metadata": {
    "autoscroll": "json-false",
    "collapsed": false,
    "ein.tags": [
     "worksheet-0"
    ],
    "slideshow": {
     "slide_type": "-"
    }
   },
   "outputs": [
    {
     "ename": "ValueError",
     "evalue": "shapes (11,) and (333,) not aligned: 11 (dim 0) != 333 (dim 0)",
     "output_type": "error",
     "traceback": [
      "\u001b[0;31m---------------------------------------------------------------------------\u001b[0m",
      "\u001b[0;31mValueError\u001b[0m                                Traceback (most recent call last)",
      "\u001b[0;32m<ipython-input-29-dd985542fe9e>\u001b[0m in \u001b[0;36m<module>\u001b[0;34m()\u001b[0m\n\u001b[1;32m     19\u001b[0m         \u001b[0mbdata_train\u001b[0m \u001b[0;34m=\u001b[0m \u001b[0mxvalue_matrix\u001b[0m\u001b[0;34m[\u001b[0m\u001b[0mtrain_ix\u001b[0m\u001b[0;34m]\u001b[0m\u001b[0;34m\u001b[0m\u001b[0m\n\u001b[1;32m     20\u001b[0m         \u001b[0my_train\u001b[0m \u001b[0;34m=\u001b[0m \u001b[0my\u001b[0m\u001b[0;34m[\u001b[0m\u001b[0mtrain_ix\u001b[0m\u001b[0;34m]\u001b[0m\u001b[0;34m\u001b[0m\u001b[0m\n\u001b[0;32m---> 21\u001b[0;31m         \u001b[0malpha\u001b[0m\u001b[0;34m,\u001b[0m \u001b[0mbetas\u001b[0m\u001b[0;34m,\u001b[0m \u001b[0mcount\u001b[0m \u001b[0;34m=\u001b[0m \u001b[0mridge_multiple_ols\u001b[0m\u001b[0;34m(\u001b[0m\u001b[0mbdata_train\u001b[0m\u001b[0;34m,\u001b[0m \u001b[0my_train\u001b[0m\u001b[0;34m,\u001b[0m \u001b[0mlam\u001b[0m\u001b[0;34m,\u001b[0m \u001b[0mR\u001b[0m\u001b[0;34m=\u001b[0m\u001b[0;36m0.01\u001b[0m\u001b[0;34m,\u001b[0m \u001b[0mMaxIterations\u001b[0m\u001b[0;34m=\u001b[0m\u001b[0;36m10000\u001b[0m\u001b[0;34m)\u001b[0m\u001b[0;34m\u001b[0m\u001b[0m\n\u001b[0m\u001b[1;32m     22\u001b[0m         \u001b[0malphalist\u001b[0m\u001b[0;34m.\u001b[0m\u001b[0mappend\u001b[0m\u001b[0;34m(\u001b[0m\u001b[0malpha\u001b[0m\u001b[0;34m)\u001b[0m\u001b[0;34m\u001b[0m\u001b[0m\n\u001b[1;32m     23\u001b[0m         \u001b[0mbetalist\u001b[0m\u001b[0;34m.\u001b[0m\u001b[0mappend\u001b[0m\u001b[0;34m(\u001b[0m\u001b[0mbetas\u001b[0m\u001b[0;34m)\u001b[0m\u001b[0;34m\u001b[0m\u001b[0m\n",
      "\u001b[0;32m<ipython-input-15-13c0aa38e63f>\u001b[0m in \u001b[0;36mridge_multiple_ols\u001b[0;34m(xvalues_matrix, yvalues, lamb, R, MaxIterations)\u001b[0m\n\u001b[1;32m     31\u001b[0m     \u001b[0mgradient_a\u001b[0m \u001b[0;34m=\u001b[0m \u001b[0mR\u001b[0m \u001b[0;34m*\u001b[0m \u001b[0;34m(\u001b[0m\u001b[0;36m1.0\u001b[0m\u001b[0;34m/\u001b[0m\u001b[0mm\u001b[0m\u001b[0;34m)\u001b[0m\u001b[0;34m*\u001b[0m \u001b[0;34m(\u001b[0m\u001b[0merr\u001b[0m\u001b[0;34m.\u001b[0m\u001b[0msum\u001b[0m\u001b[0;34m(\u001b[0m\u001b[0;34m)\u001b[0m\u001b[0;34m)\u001b[0m\u001b[0;34m\u001b[0m\u001b[0m\n\u001b[1;32m     32\u001b[0m     \u001b[0;32mfor\u001b[0m \u001b[0mi\u001b[0m \u001b[0;32min\u001b[0m \u001b[0mrange\u001b[0m\u001b[0;34m(\u001b[0m\u001b[0mn\u001b[0m\u001b[0;34m)\u001b[0m\u001b[0;34m:\u001b[0m\u001b[0;34m\u001b[0m\u001b[0m\n\u001b[0;32m---> 33\u001b[0;31m         \u001b[0mgradient_b\u001b[0m\u001b[0;34m[\u001b[0m\u001b[0mi\u001b[0m\u001b[0;34m]\u001b[0m \u001b[0;34m=\u001b[0m \u001b[0mR\u001b[0m \u001b[0;34m*\u001b[0m \u001b[0;34m(\u001b[0m\u001b[0;36m1.0\u001b[0m\u001b[0;34m/\u001b[0m\u001b[0mm\u001b[0m\u001b[0;34m)\u001b[0m\u001b[0;34m*\u001b[0m\u001b[0;34m(\u001b[0m\u001b[0mnp\u001b[0m\u001b[0;34m.\u001b[0m\u001b[0mdot\u001b[0m\u001b[0;34m(\u001b[0m\u001b[0merr\u001b[0m\u001b[0;34m,\u001b[0m \u001b[0mxvalues_matrix\u001b[0m\u001b[0;34m[\u001b[0m\u001b[0mi\u001b[0m\u001b[0;34m]\u001b[0m\u001b[0;34m)\u001b[0m\u001b[0;34m)\u001b[0m\u001b[0;34m\u001b[0m\u001b[0m\n\u001b[0m\u001b[1;32m     34\u001b[0m \u001b[0;34m\u001b[0m\u001b[0m\n\u001b[1;32m     35\u001b[0m     \u001b[0mJ_list\u001b[0m\u001b[0;34m=\u001b[0m\u001b[0;34m[\u001b[0m\u001b[0;34m]\u001b[0m\u001b[0;34m\u001b[0m\u001b[0m\n",
      "\u001b[0;31mValueError\u001b[0m: shapes (11,) and (333,) not aligned: 11 (dim 0) != 333 (dim 0)"
     ]
    }
   ],
   "source": [
    "xvalue_matrix = multivariate_xvalues(13)\n",
    "\n",
    "# define and standardize input variables for regression\n",
    "xvalue_matrix = np.vstack(standardize(xvalue_matrix))\n",
    "y = np.ravel(np.vstack(standardize(bdata.target)))\n",
    "\n",
    "# Cross-Fold validation with 10 folds\n",
    "kf = KFold(len(xvalue_matrix), n_folds=10)\n",
    "\n",
    "lambda_list = []\n",
    "train_rmse_list = []\n",
    "test_rmse_list = []\n",
    "    \n",
    "for lam in range(0,1000,100):\n",
    "    lambda_list.append(lam)\n",
    "    betalist = []\n",
    "    alphalist = []\n",
    "    for train_ix, test_ix in kf:\n",
    "        bdata_train = xvalue_matrix[train_ix]\n",
    "        y_train = y[train_ix]\n",
    "        alpha, betas, count = ridge_multiple_ols(bdata_train, y_train, lam, R=0.01, MaxIterations=10000)\n",
    "        alphalist.append(alpha)\n",
    "        betalist.append(betas)\n",
    "\n",
    "    alphahat = np.array(alphalist).mean()\n",
    "    betahats = np.array(betalist).mean(axis = 0)\n",
    "    \n",
    "    # Computr RMSE\n",
    "    for train_ix, test_ix in kf:\n",
    "        train_rmse = []\n",
    "        xvalue_matrix_train = xvalue_matrix[train_ix]\n",
    "        y_train = y[train_ix]\n",
    "        yhat_train = np.multiply(betahats, xvalue_matrix_train).sum(axis=1) + alphahat\n",
    "        train_rmse.append(report_rmse(yhat_train, y_train))\n",
    "        \n",
    "        test_rmse = []\n",
    "        xvalue_matrix_test = xvalue_matrix[test_ix]\n",
    "        y_test = y[test_ix]\n",
    "        yhat_test = np.multiply(betahats, xvalue_matrix_test).sum(axis=1) + alphahat\n",
    "        test_rmse.append(report_rmse(yhat_test, y_test))\n",
    "    \n",
    "    train_rmse = np.array(train_rmse)\n",
    "    train_rmse_list.append(train_rmse.mean())\n",
    "    test_rmse = np.array(test_rmse)\n",
    "    test_rmse_list.append(test_rmse.mean())\n",
    "\n",
    "    print('Lambda:', lam, 'Train RMSE:', train_rmse.mean(), 'Test RMSE:', test_rmse.mean())\n",
    "\n",
    "mean_train = sum(train_rmse_list) / len(train_rmse_list)\n",
    "mean_test = sum(test_rmse_list) / len(test_rmse_list)\n",
    "print('Overall average Training RMSE:', mean_train, 'Overall average Test RMSE:', mean_test)\n"
   ]
  },
  {
   "cell_type": "markdown",
   "metadata": {
    "ein.tags": [
     "worksheet-0"
    ],
    "slideshow": {
     "slide_type": "-"
    }
   },
   "source": [
    "### (Showoff) Extra Credit 3: Lambda and coefficients\n",
    "\n",
    "If you're feeling extra-special, create a parameter plot that shows how the different coefficient estimates change as a function of lambda. To make this graph intelligible, only include the *K* original F_s features in this plot"
   ]
  },
  {
   "cell_type": "code",
   "execution_count": null,
   "metadata": {
    "autoscroll": "json-false",
    "collapsed": false,
    "ein.tags": [
     "worksheet-0"
    ],
    "slideshow": {
     "slide_type": "-"
    }
   },
   "outputs": [],
   "source": [
    "\n",
    "    "
   ]
  }
 ],
 "metadata": {
  "anaconda-cloud": {},
  "kernelspec": {
   "display_name": "Python 3",
   "language": "python",
   "name": "python3"
  },
  "language_info": {
   "codemirror_mode": {
    "name": "ipython",
    "version": 3
   },
   "file_extension": ".py",
   "mimetype": "text/x-python",
   "name": "python",
   "nbconvert_exporter": "python",
   "pygments_lexer": "ipython3",
   "version": "3.6.0"
  },
  "name": "INFX574-PS4-solutions.ipynb"
 },
 "nbformat": 4,
 "nbformat_minor": 0
}
