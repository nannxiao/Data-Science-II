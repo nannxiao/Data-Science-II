{
 "cells": [
  {
   "cell_type": "markdown",
   "metadata": {
    "ein.tags": [
     "worksheet-0"
    ],
    "slideshow": {
     "slide_type": "-"
    }
   },
   "source": [
    "# Problem Set 2, due April 27th at 3:30 pm\n",
    "\n",
    "**Please Note:** This assignment will likely take you a _long_ time, especially if you are new to Python. Start early!"
   ]
  },
  {
   "cell_type": "markdown",
   "metadata": {
    "ein.tags": [
     "worksheet-0"
    ],
    "slideshow": {
     "slide_type": "-"
    }
   },
   "source": [
    "## Introduction to the assignment\n",
    "\n",
    "For this assignment, you will be using data from the [Progresa program](http://en.wikipedia.org/wiki/Oportunidades), a government social assistance program in Mexico. This program, as well as the details of its impact, are described in the paper \"[School subsidies for the poor: evaluating the Mexican Progresa poverty program](http://www.sciencedirect.com/science/article/pii/S0304387803001858)\", by Paul Shultz (available on Canvas). Please familiarize yourself with the PROGRESA program before beginning this problem set, so you have a rough sense of where the data come from and how they were generated. If you just proceed into the problem set without understanding Progresa or the data, it will be very difficult!\n",
    "\n",
    "The goal of this problem set is to implement some of the basic econometric techniques that you are learning in class to measure the impact of Progresa on secondary school enrollment rates. The timeline of the program was:\n",
    "\n",
    " * Baseline survey conducted in 1997\n",
    " * Intervention begins in 1998, \"Wave 1\" of data collected in 1998\n",
    " * \"Wave 2 of data\" collected in 1999\n",
    " * Evaluation ends in 2000, at which point the control villages were treated. \n",
    " \n",
    "When you are ready, download the progresa_sample.csv data from Canvas. The data are actual data collected to evaluate the impact of the Progresa program.  In this file, each row corresponds to an observation taken for a given child for a given year. There are two years of data (1997 and 1998), and just under 40,000 children who are surveyed in each year. For each child-year observation, the following variables are collected:\n",
    "\n",
    "| Variable name | Description|\n",
    "|---------|---------|\n",
    "|year\t  |year in which data is collected\n",
    "|sex\t  |male = 1|\n",
    "|indig\t  |indigenous = 1|\n",
    "|dist_sec |nearest distance to a secondary school|\n",
    "|sc\t      |enrolled in school in year of survey|\n",
    "|grc      |grade enrolled|\n",
    "|fam_n    |family size|\n",
    "|min_dist |\tmin distance to an urban center|\n",
    "|dist_cap |\tmin distance to the capital|\n",
    "|poor     |\tpoor = 'pobre'|\n",
    "|progresa |treatment = 'basal'|\n",
    "|hohedu\t  |years of schooling of head of household|\n",
    "|hohwag\t  |monthly wages of head of household|\n",
    "|welfare_index|\twelfare index used to classify poor|\n",
    "|hohsex\t  |gender of head of household (male=1)|\n",
    "|hohage   |age of head of household|\n",
    "|age      |years old|\n",
    "|folnum\t  |individual id|\n",
    "|village  |\tvillage id|\n",
    "|sc97\t  |schooling in 1997|"
   ]
  },
  {
   "cell_type": "code",
   "execution_count": 2,
   "metadata": {
    "autoscroll": "json-false",
    "collapsed": false,
    "ein.tags": [
     "worksheet-0"
    ],
    "slideshow": {
     "slide_type": "-"
    }
   },
   "outputs": [
    {
     "name": "stdout",
     "output_type": "stream",
     "text": [
      "3.6.0 |Anaconda 4.3.1 (x86_64)| (default, Dec 23 2016, 13:19:00) \n",
      "[GCC 4.2.1 Compatible Apple LLVM 6.0 (clang-600.0.57)]\n"
     ]
    }
   ],
   "source": [
    "import sys; print(sys.version)\n",
    "\n",
    "import pandas as pd\n",
    "from scipy import stats\n",
    "import numpy as np\n",
    "import matplotlib.pyplot as plt\n",
    "import matplotlib\n",
    "from pylab import *\n",
    "from scipy import *\n",
    "from pylab import rcParams\n",
    "import statsmodels.formula.api as smf\n",
    "\n",
    "%matplotlib inline"
   ]
  },
  {
   "cell_type": "markdown",
   "metadata": {
    "ein.tags": [
     "worksheet-0"
    ],
    "slideshow": {
     "slide_type": "-"
    }
   },
   "source": [
    "---\n",
    "##Part 1: Descriptive analysis\n",
    "\n",
    "### 1.1\tSummary Statistics\n",
    "\n",
    "a) Present number of missing observations for every single variable\n"
   ]
  },
  {
   "cell_type": "code",
   "execution_count": 4,
   "metadata": {
    "autoscroll": "json-false",
    "collapsed": false,
    "ein.tags": [
     "worksheet-0"
    ],
    "slideshow": {
     "slide_type": "-"
    }
   },
   "outputs": [
    {
     "data": {
      "text/plain": [
       "year                0\n",
       "sex                24\n",
       "indig             300\n",
       "dist_sec            0\n",
       "sc               8453\n",
       "grc              6549\n",
       "fam_n               0\n",
       "min_dist            0\n",
       "dist_cap            0\n",
       "poor                0\n",
       "progresa            0\n",
       "hohedu              0\n",
       "hohwag              0\n",
       "welfare_index     210\n",
       "hohsex             20\n",
       "hohage             10\n",
       "age                 0\n",
       "village             0\n",
       "folnum              0\n",
       "grc97               0\n",
       "sc97             3872\n",
       "dtype: int64"
      ]
     },
     "execution_count": 4,
     "metadata": {},
     "output_type": "execute_result"
    }
   ],
   "source": [
    "df_raw = pd.read_csv('progresa_sample.csv')\n",
    "df_raw.isnull().sum()"
   ]
  },
  {
   "cell_type": "markdown",
   "metadata": {
    "ein.tags": [
     "worksheet-0"
    ],
    "slideshow": {
     "slide_type": "-"
    }
   },
   "source": [
    "b) Present summary statistics (mean and standard deviation) for all of the demographic variables in the dataset (i.e., everything except year, folnum, village). Present these in a single table alphabetized by variable name. Do NOT simply expect the grader to scroll through your output!"
   ]
  },
  {
   "cell_type": "code",
   "execution_count": 3,
   "metadata": {
    "autoscroll": "json-false",
    "collapsed": false,
    "ein.tags": [
     "worksheet-0"
    ],
    "slideshow": {
     "slide_type": "-"
    }
   },
   "outputs": [
    {
     "data": {
      "text/html": [
       "<div>\n",
       "<table border=\"1\" class=\"dataframe\">\n",
       "  <thead>\n",
       "    <tr style=\"text-align: right;\">\n",
       "      <th></th>\n",
       "      <th>mean</th>\n",
       "      <th>std</th>\n",
       "    </tr>\n",
       "  </thead>\n",
       "  <tbody>\n",
       "    <tr>\n",
       "      <th>age</th>\n",
       "      <td>11.366460</td>\n",
       "      <td>3.167744</td>\n",
       "    </tr>\n",
       "    <tr>\n",
       "      <th>dist_cap</th>\n",
       "      <td>147.674452</td>\n",
       "      <td>76.063134</td>\n",
       "    </tr>\n",
       "    <tr>\n",
       "      <th>dist_sec</th>\n",
       "      <td>2.418910</td>\n",
       "      <td>2.234109</td>\n",
       "    </tr>\n",
       "    <tr>\n",
       "      <th>fam_n</th>\n",
       "      <td>7.215715</td>\n",
       "      <td>2.352900</td>\n",
       "    </tr>\n",
       "    <tr>\n",
       "      <th>grc</th>\n",
       "      <td>3.963537</td>\n",
       "      <td>2.499063</td>\n",
       "    </tr>\n",
       "    <tr>\n",
       "      <th>grc97</th>\n",
       "      <td>3.705372</td>\n",
       "      <td>2.572387</td>\n",
       "    </tr>\n",
       "    <tr>\n",
       "      <th>hohage</th>\n",
       "      <td>44.436717</td>\n",
       "      <td>11.620372</td>\n",
       "    </tr>\n",
       "    <tr>\n",
       "      <th>hohedu</th>\n",
       "      <td>2.768104</td>\n",
       "      <td>2.656106</td>\n",
       "    </tr>\n",
       "    <tr>\n",
       "      <th>hohsex</th>\n",
       "      <td>0.925185</td>\n",
       "      <td>0.263095</td>\n",
       "    </tr>\n",
       "    <tr>\n",
       "      <th>hohwag</th>\n",
       "      <td>586.985312</td>\n",
       "      <td>788.133664</td>\n",
       "    </tr>\n",
       "    <tr>\n",
       "      <th>indig</th>\n",
       "      <td>0.298324</td>\n",
       "      <td>0.457525</td>\n",
       "    </tr>\n",
       "    <tr>\n",
       "      <th>min_dist</th>\n",
       "      <td>103.447520</td>\n",
       "      <td>42.089441</td>\n",
       "    </tr>\n",
       "    <tr>\n",
       "      <th>sc</th>\n",
       "      <td>0.819818</td>\n",
       "      <td>0.384342</td>\n",
       "    </tr>\n",
       "    <tr>\n",
       "      <th>sc97</th>\n",
       "      <td>0.813922</td>\n",
       "      <td>0.389172</td>\n",
       "    </tr>\n",
       "    <tr>\n",
       "      <th>sex</th>\n",
       "      <td>0.512211</td>\n",
       "      <td>0.499854</td>\n",
       "    </tr>\n",
       "    <tr>\n",
       "      <th>welfare_index</th>\n",
       "      <td>690.346564</td>\n",
       "      <td>139.491130</td>\n",
       "    </tr>\n",
       "  </tbody>\n",
       "</table>\n",
       "</div>"
      ],
      "text/plain": [
       "                     mean         std\n",
       "age             11.366460    3.167744\n",
       "dist_cap       147.674452   76.063134\n",
       "dist_sec         2.418910    2.234109\n",
       "fam_n            7.215715    2.352900\n",
       "grc              3.963537    2.499063\n",
       "grc97            3.705372    2.572387\n",
       "hohage          44.436717   11.620372\n",
       "hohedu           2.768104    2.656106\n",
       "hohsex           0.925185    0.263095\n",
       "hohwag         586.985312  788.133664\n",
       "indig            0.298324    0.457525\n",
       "min_dist       103.447520   42.089441\n",
       "sc               0.819818    0.384342\n",
       "sc97             0.813922    0.389172\n",
       "sex              0.512211    0.499854\n",
       "welfare_index  690.346564  139.491130"
      ]
     },
     "execution_count": 3,
     "metadata": {},
     "output_type": "execute_result"
    }
   ],
   "source": [
    "df_raw_1 = df_raw.drop(['year', 'folnum', 'village'], axis = 1)\n",
    "df_raw_1.describe()['mean':'std'].T.sort_index()"
   ]
  },
  {
   "cell_type": "markdown",
   "metadata": {
    "ein.tags": [
     "worksheet-0"
    ],
    "slideshow": {
     "slide_type": "-"
    }
   },
   "source": [
    "### 1.2 Differences at baseline?\n",
    "\n",
    "Are the baseline (1997) demographic characteristics **for the poor**  different in treatment and control villages? Hint: Use a T-Test to determine whether there is a statistically significant difference in the average values of each of the variables in the dataset. Focus only on the data from 1997 for individuals who are poor (i.e., poor=='pobre').\n",
    "\n",
    "Present your results in a single table with the following columns and 14 (or so) rows:\n",
    "\n",
    "| Variable name | Average value (Treatment villages) | Average value (Control villages) | Difference (Treat - Control) | p-value |\n",
    "|------|------|------|------|------|\n",
    "|Male  |?     |?     |?     |?     |\n"
   ]
  },
  {
   "cell_type": "code",
   "execution_count": 4,
   "metadata": {
    "autoscroll": "json-false",
    "collapsed": false,
    "ein.tags": [
     "worksheet-0"
    ],
    "slideshow": {
     "slide_type": "-"
    }
   },
   "outputs": [
    {
     "data": {
      "text/html": [
       "<div>\n",
       "<table border=\"1\" class=\"dataframe\">\n",
       "  <thead>\n",
       "    <tr style=\"text-align: right;\">\n",
       "      <th></th>\n",
       "      <th>Variable name</th>\n",
       "      <th>Average value (Treatment villages)</th>\n",
       "      <th>Average value (Control villages)</th>\n",
       "      <th>Difference (Treat - Control)</th>\n",
       "      <th>p-value</th>\n",
       "    </tr>\n",
       "  </thead>\n",
       "  <tbody>\n",
       "    <tr>\n",
       "      <th>0</th>\n",
       "      <td>sex</td>\n",
       "      <td>0.51932</td>\n",
       "      <td>0.50505</td>\n",
       "      <td>0.01427</td>\n",
       "      <td>1.219172e-02</td>\n",
       "    </tr>\n",
       "    <tr>\n",
       "      <th>1</th>\n",
       "      <td>indig</td>\n",
       "      <td>0.32599</td>\n",
       "      <td>0.33221</td>\n",
       "      <td>-0.00622</td>\n",
       "      <td>2.453603e-01</td>\n",
       "    </tr>\n",
       "    <tr>\n",
       "      <th>2</th>\n",
       "      <td>dist_sec</td>\n",
       "      <td>2.45312</td>\n",
       "      <td>2.50766</td>\n",
       "      <td>-0.05454</td>\n",
       "      <td>3.569843e-02</td>\n",
       "    </tr>\n",
       "    <tr>\n",
       "      <th>3</th>\n",
       "      <td>sc</td>\n",
       "      <td>0.82270</td>\n",
       "      <td>0.81519</td>\n",
       "      <td>0.00751</td>\n",
       "      <td>9.517806e-02</td>\n",
       "    </tr>\n",
       "    <tr>\n",
       "      <th>4</th>\n",
       "      <td>grc</td>\n",
       "      <td>3.53160</td>\n",
       "      <td>3.54305</td>\n",
       "      <td>-0.01145</td>\n",
       "      <td>6.890151e-01</td>\n",
       "    </tr>\n",
       "    <tr>\n",
       "      <th>5</th>\n",
       "      <td>fam_n</td>\n",
       "      <td>7.28133</td>\n",
       "      <td>7.30247</td>\n",
       "      <td>-0.02114</td>\n",
       "      <td>4.271039e-01</td>\n",
       "    </tr>\n",
       "    <tr>\n",
       "      <th>6</th>\n",
       "      <td>min_dist</td>\n",
       "      <td>107.15291</td>\n",
       "      <td>103.23785</td>\n",
       "      <td>3.91506</td>\n",
       "      <td>2.358312e-16</td>\n",
       "    </tr>\n",
       "    <tr>\n",
       "      <th>7</th>\n",
       "      <td>dist_cap</td>\n",
       "      <td>150.82907</td>\n",
       "      <td>153.76973</td>\n",
       "      <td>-2.94066</td>\n",
       "      <td>8.415005e-04</td>\n",
       "    </tr>\n",
       "    <tr>\n",
       "      <th>8</th>\n",
       "      <td>hohedu</td>\n",
       "      <td>2.66314</td>\n",
       "      <td>2.59035</td>\n",
       "      <td>0.07279</td>\n",
       "      <td>1.105093e-02</td>\n",
       "    </tr>\n",
       "    <tr>\n",
       "      <th>9</th>\n",
       "      <td>hohwag</td>\n",
       "      <td>544.33954</td>\n",
       "      <td>573.16356</td>\n",
       "      <td>-28.82402</td>\n",
       "      <td>3.253835e-04</td>\n",
       "    </tr>\n",
       "    <tr>\n",
       "      <th>10</th>\n",
       "      <td>welfare_index</td>\n",
       "      <td>655.42838</td>\n",
       "      <td>659.57910</td>\n",
       "      <td>-4.15072</td>\n",
       "      <td>1.431016e-03</td>\n",
       "    </tr>\n",
       "    <tr>\n",
       "      <th>11</th>\n",
       "      <td>hohsex</td>\n",
       "      <td>0.92466</td>\n",
       "      <td>0.92295</td>\n",
       "      <td>0.00171</td>\n",
       "      <td>5.711858e-01</td>\n",
       "    </tr>\n",
       "    <tr>\n",
       "      <th>12</th>\n",
       "      <td>hohage</td>\n",
       "      <td>43.64883</td>\n",
       "      <td>44.27692</td>\n",
       "      <td>-0.62809</td>\n",
       "      <td>1.796243e-06</td>\n",
       "    </tr>\n",
       "    <tr>\n",
       "      <th>13</th>\n",
       "      <td>age</td>\n",
       "      <td>10.71699</td>\n",
       "      <td>10.74202</td>\n",
       "      <td>-0.02503</td>\n",
       "      <td>4.785594e-01</td>\n",
       "    </tr>\n",
       "    <tr>\n",
       "      <th>14</th>\n",
       "      <td>grc97</td>\n",
       "      <td>3.53160</td>\n",
       "      <td>3.54305</td>\n",
       "      <td>-0.01145</td>\n",
       "      <td>6.890151e-01</td>\n",
       "    </tr>\n",
       "    <tr>\n",
       "      <th>15</th>\n",
       "      <td>sc97</td>\n",
       "      <td>0.82270</td>\n",
       "      <td>0.81519</td>\n",
       "      <td>0.00751</td>\n",
       "      <td>9.517806e-02</td>\n",
       "    </tr>\n",
       "  </tbody>\n",
       "</table>\n",
       "</div>"
      ],
      "text/plain": [
       "    Variable name  Average value (Treatment villages)  \\\n",
       "0             sex                             0.51932   \n",
       "1           indig                             0.32599   \n",
       "2        dist_sec                             2.45312   \n",
       "3              sc                             0.82270   \n",
       "4             grc                             3.53160   \n",
       "5           fam_n                             7.28133   \n",
       "6        min_dist                           107.15291   \n",
       "7        dist_cap                           150.82907   \n",
       "8          hohedu                             2.66314   \n",
       "9          hohwag                           544.33954   \n",
       "10  welfare_index                           655.42838   \n",
       "11         hohsex                             0.92466   \n",
       "12         hohage                            43.64883   \n",
       "13            age                            10.71699   \n",
       "14          grc97                             3.53160   \n",
       "15           sc97                             0.82270   \n",
       "\n",
       "    Average value (Control villages)  Difference (Treat - Control)  \\\n",
       "0                            0.50505                       0.01427   \n",
       "1                            0.33221                      -0.00622   \n",
       "2                            2.50766                      -0.05454   \n",
       "3                            0.81519                       0.00751   \n",
       "4                            3.54305                      -0.01145   \n",
       "5                            7.30247                      -0.02114   \n",
       "6                          103.23785                       3.91506   \n",
       "7                          153.76973                      -2.94066   \n",
       "8                            2.59035                       0.07279   \n",
       "9                          573.16356                     -28.82402   \n",
       "10                         659.57910                      -4.15072   \n",
       "11                           0.92295                       0.00171   \n",
       "12                          44.27692                      -0.62809   \n",
       "13                          10.74202                      -0.02503   \n",
       "14                           3.54305                      -0.01145   \n",
       "15                           0.81519                       0.00751   \n",
       "\n",
       "         p-value  \n",
       "0   1.219172e-02  \n",
       "1   2.453603e-01  \n",
       "2   3.569843e-02  \n",
       "3   9.517806e-02  \n",
       "4   6.890151e-01  \n",
       "5   4.271039e-01  \n",
       "6   2.358312e-16  \n",
       "7   8.415005e-04  \n",
       "8   1.105093e-02  \n",
       "9   3.253835e-04  \n",
       "10  1.431016e-03  \n",
       "11  5.711858e-01  \n",
       "12  1.796243e-06  \n",
       "13  4.785594e-01  \n",
       "14  6.890151e-01  \n",
       "15  9.517806e-02  "
      ]
     },
     "execution_count": 4,
     "metadata": {},
     "output_type": "execute_result"
    }
   ],
   "source": [
    "from scipy.stats import ttest_ind\n",
    "\n",
    "# create a dictionary for the data frame\n",
    "dic = {'Variable name':[], 'Average value (Treatment villages)':[], 'Average value (Control villages)':[], 'Difference (Treat - Control)':[], 'p-value':[]}\n",
    "\n",
    "# clean raw dataset\n",
    "df_new = df_raw[(df_raw['year'] == 97)&(df_raw['poor'] == 'pobre')]\n",
    "df_new = df_new.drop(['year', 'folnum', 'village', 'poor'], axis = 1)\n",
    "\n",
    "# create two separate datasets: treatment and control\n",
    "df_control = df_new[df_new['progresa'] == '0'].drop(['progresa'], axis = 1)\n",
    "df_treatment = df_new[df_new['progresa'] == 'basal'].drop(['progresa'], axis = 1)\n",
    "dic['Variable name'] = []\n",
    "dic['Average value (Control villages)'] = []\n",
    "\n",
    "# add data to each variable\n",
    "for column in df_control:\n",
    "    dic['Variable name'].append(column)\n",
    "    dic['Average value (Control villages)'].append(round(df_control[column].dropna().mean(), 5))\n",
    "\n",
    "for column in df_treatment:\n",
    "    dic['Average value (Treatment villages)'].append(round(df_treatment[column].dropna().mean(), 5))\n",
    "\n",
    "for i in range(len(dic['Variable name'])):\n",
    "    dic['Difference (Treat - Control)'].append(round((dic['Average value (Treatment villages)'][i] - dic['Average value (Control villages)'][i]), 5))\n",
    "    dic['p-value'].append(ttest_ind(df_treatment[dic['Variable name'][i]].dropna(), df_control[dic['Variable name'][i]].dropna())[1])\n",
    "\n",
    "# convert dictionary to dataframe\n",
    "df_res = pd.DataFrame(dic, columns=['Variable name', 'Average value (Treatment villages)', 'Average value (Control villages)', 'Difference (Treat - Control)', 'p-value'])\n",
    "\n",
    "# print dataframe\n",
    "df_res"
   ]
  },
  {
   "cell_type": "markdown",
   "metadata": {
    "ein.tags": [
     "worksheet-0"
    ],
    "slideshow": {
     "slide_type": "-"
    }
   },
   "source": [
    "### 1.3 Interpretation\n",
    "\n",
    "* A: Are there statistically significant differences between treatment and control villages as baseline? \n",
    "* B: Why does it matter if there are differences at baseline?\n",
    "* C: What does this imply about how to measure the impact of the treatment?"
   ]
  },
  {
   "cell_type": "markdown",
   "metadata": {
    "autoscroll": "json-false",
    "collapsed": false,
    "ein.tags": [
     "worksheet-0"
    ],
    "slideshow": {
     "slide_type": "-"
    }
   },
   "source": [
    "_**A:** Yes, there are statistically significant differences between treatment and control villages. For nearest distance to a secondary school, min distance to an urban center, min distance to the capital, years of schooling of head of household, monthly wages of head of household, welfare index used to classify poor and age of head of household, the p-values are below 0.05, indicating a statistically significant difference between treatment and control villages as baseline._\n",
    "\n",
    "_**B:** Because if we want to do randomization in exploring the causal relationships between people and treatment, in this case if the two groups existed a difference at baseline, the differences shown after the treatment may not be valid, because we can not prove that the changes happend to the subjects are caused by the treatment directly._\n",
    "\n",
    "_**C:** In this study, we want to measure the impact of the treatment by calculating the differences between two groups. So we may want to use other methods such as to remove the existing differences at baseline for those variable which were significant so as to measure the impact of treatment without bias._"
   ]
  },
  {
   "cell_type": "markdown",
   "metadata": {
    "ein.tags": [
     "worksheet-0"
    ],
    "slideshow": {
     "slide_type": "-"
    }
   },
   "source": [
    "### 1.4 Graphical exploration, part 1\n",
    "\n",
    "For each level of household head education, compute the average enrollment rate in 1997. Create a scatterplot that shows this relationship. What do you notice?"
   ]
  },
  {
   "cell_type": "code",
   "execution_count": 5,
   "metadata": {
    "autoscroll": "json-false",
    "collapsed": false,
    "ein.tags": [
     "worksheet-0"
    ],
    "slideshow": {
     "slide_type": "-"
    }
   },
   "outputs": [
    {
     "data": {
      "image/png": "[encoded data removed]",
      "text/plain": [
       "<matplotlib.figure.Figure at 0x1194296a0>"
      ]
     },
     "metadata": {},
     "output_type": "display_data"
    },
    {
     "name": "stdout",
     "output_type": "stream",
     "text": [
      "    Average Enrollment Rate  Household Head Education Level\n",
      "0                      0.77                               0\n",
      "1                      0.76                               1\n",
      "2                      0.79                               2\n",
      "3                      0.80                               3\n",
      "4                      0.84                               4\n",
      "5                      0.85                               5\n",
      "6                      0.88                               6\n",
      "7                      0.89                               7\n",
      "8                      0.90                               8\n",
      "9                      0.92                               9\n",
      "10                     0.87                              10\n",
      "11                     0.97                              11\n",
      "12                     0.97                              12\n",
      "13                     0.95                              13\n",
      "14                     0.88                              14\n",
      "15                     0.90                              15\n",
      "16                     0.94                              16\n",
      "17                     0.93                              17\n",
      "18                     1.00                              18\n",
      "19                     0.50                              20\n"
     ]
    }
   ],
   "source": [
    "import matplotlib.pylab as plt\n",
    "\n",
    "# clean the raw dataset\n",
    "df_edu = df_raw[df_raw['year'] == 97]\n",
    "\n",
    "# see distinct education levels in total\n",
    "df_edu['hohedu'].drop_duplicates()\n",
    "\n",
    "# create dictionary\n",
    "dic_edu = {'Household Head Education Level':[0,1,2,3,4,5,6,7,8,9,10,11,12,13,14,15,16,17,18,20], 'Average Enrollment Rate':[]}\n",
    "dic_edu['Average Enrollment Rate'] = []\n",
    "\n",
    "# compute column\n",
    "for i in dic_edu['Household Head Education Level']:\n",
    "    df_this = df_edu[df_edu['hohedu'] == i]\n",
    "    enroll = len(df_this[df_this['sc97'] == 1].dropna())\n",
    "    total = len(df_this['sc97'].dropna())\n",
    "    dic_edu['Average Enrollment Rate'].append(round((enroll / total), 2))\n",
    "\n",
    "# plot the data\n",
    "df_scatter = pd.DataFrame(dic_edu)\n",
    "plt.scatter(df_scatter['Household Head Education Level'], df_scatter['Average Enrollment Rate'])\n",
    "plt.xlabel(\"Level of Household head education in years\")\n",
    "plt.ylabel(\"Average Enrollment Rate in 1997\")\n",
    "plt.show()\n",
    "\n",
    "print(df_scatter)"
   ]
  },
  {
   "cell_type": "markdown",
   "metadata": {},
   "source": [
    "_**Interpretation:** There exists a relationship between the average school enrollment rates and the level of household head education. The avg enrollment rates kept increasing from around 75% to 92% for household head education years between 1 and 9; At the 10 year, there is a slight drop to 87%, then the number stayed at around 95% and then slightly dropped again. At year 18 it reached peak value of 100%, but at year 20 it falled to only 50%._"
   ]
  },
  {
   "cell_type": "markdown",
   "metadata": {
    "ein.tags": [
     "worksheet-0"
    ],
    "slideshow": {
     "slide_type": "-"
    }
   },
   "source": [
    "### 1.5 Graphical exploration, part 2\n",
    "\n",
    "Create a histogram of village enrollment rates **among poor households in treated villages**, before and after treatment. Specifically, for each village, calculate the average rate of enrollment of poor households in treated villages in 1997, then compute the average rate of enrollment of poor households in treated villages in 1998. Create two separate histograms showing the distribution of these average enrollments rates, one histogram for 1997 and one histogram for 1998. On each histogram, draw a vertical line that intersects the x-axis at the average value (across all households).\n",
    "* Does there appear to be a difference? Is this difference statistically significant?\n",
    "* Which D estimator in Schultz (2004) does this approach correspond to?"
   ]
  },
  {
   "cell_type": "code",
   "execution_count": 25,
   "metadata": {
    "autoscroll": "json-false",
    "collapsed": false,
    "ein.tags": [
     "worksheet-0"
    ],
    "slideshow": {
     "slide_type": "-"
    }
   },
   "outputs": [
    {
     "name": "stdout",
     "output_type": "stream",
     "text": [
      "Average enrollment rate in 1997 is: 0.81\n",
      "Average enrollment rate in 1998 is: 0.83\n",
      "Ttest_indResult(statistic=-2.0157134865156379, pvalue=0.04424870036572115)\n"
     ]
    },
    {
     "data": {
      "image/png": "[encoded data removed]",
      "text/plain": [
       "<matplotlib.figure.Figure at 0x1216ddcc0>"
      ]
     },
     "metadata": {},
     "output_type": "display_data"
    }
   ],
   "source": [
    "# aggregate by village for 1997 dataset and 1998 dataset, then calculate mean value for each column\n",
    "df_97 = df_raw[(df_raw['year'] == 97) & (df_raw['poor'] == 'pobre') & (df_raw['progresa'] == 'basal')].groupby('village').mean()\n",
    "df_98 = df_raw[(df_raw['year'] == 98) & (df_raw['poor'] == 'pobre') & (df_raw['progresa'] == 'basal')].groupby('village').mean()\n",
    "\n",
    "# plot the histogram for the average enroll rates of two datasets\n",
    "plot = plt.figure()\n",
    "hist1 = plot.add_subplot(223)\n",
    "hist1.hist(df_97['sc'], color = 'orange')\n",
    "xlabel(\"Avg Enrollment Rates in 1997\")\n",
    "ylabel(\"Number of Villages\")\n",
    "# draw a vertical line that intersects the x-axis at the average value \n",
    "plt.axvline(df_97['sc'].mean(), color='red', linestyle='dashed', linewidth=2)\n",
    "\n",
    "hist2 = plot.add_subplot(224)\n",
    "hist2.hist(df_98['sc'], color = 'purple')\n",
    "xlabel(\"Avg Enrollment Rates in 1998\")\n",
    "ylabel(\"Number of Villages\")\n",
    "#draw a vertical line that intersects the x-axis at the average value \n",
    "plt.axvline(df_97['sc'].mean(), color='red', linestyle='dashed', linewidth=2)\n",
    "\n",
    "# print the mean values for two groups then run a t-test to explore relationship\n",
    "print('Average enrollment rate in 1997 is:', round(df_97['sc'].mean(), 2))\n",
    "print('Average enrollment rate in 1998 is:', round(df_98['sc'].mean(), 2))\n",
    "t = stats.ttest_ind(df_97['sc'].dropna(), df_98['sc'].dropna())\n",
    "print(t)"
   ]
  },
  {
   "cell_type": "markdown",
   "metadata": {},
   "source": [
    "_**Interpretation:** From the above histograms we see that although the average enrollment rate did not change too much from 1997 to 1998 (it remained at about 80%), the mode value had moved higher from over 0.8 to over 0.9. Through the T test we can see that the difference is statistically significant, since the p-value is lower than 0.05._\n",
    "\n",
    "_**Which D estimator in Schultz (2004) does this approach correspond to?** the estimator 1_"
   ]
  },
  {
   "cell_type": "markdown",
   "metadata": {
    "ein.tags": [
     "worksheet-0"
    ],
    "slideshow": {
     "slide_type": "-"
    }
   },
   "source": [
    "## Part 2: Measuring Impact\n",
    "\n",
    "### 2.1 Simple differences: T-test\n",
    "\n",
    "Start out by estimating the impact of Progresa using \"simple differences.\" Restricting yourself to data from 1998 (after treatment).\n",
    "* calculate the average enrollment rate among **poor** households in the Treatment villages and the average enrollment rate among **poor** households in the control villages.\n",
    "* Which difference estimator in Schultz (2004) does this approach correspond to?\n",
    "* Use a t-test to determine if this difference is statistically significant. What do you conclude?"
   ]
  },
  {
   "cell_type": "code",
   "execution_count": 34,
   "metadata": {
    "autoscroll": "json-false",
    "collapsed": false,
    "ein.tags": [
     "worksheet-0"
    ],
    "slideshow": {
     "slide_type": "-"
    }
   },
   "outputs": [
    {
     "name": "stdout",
     "output_type": "stream",
     "text": [
      "The average enrollment rate in treatment villages is: 0.85\n",
      "The average enrollment rate in control villages is: 0.81 \n",
      "\n",
      "Ttest_indResult(statistic=-8.3587205674183735, pvalue=6.636344447523235e-17)\n"
     ]
    }
   ],
   "source": [
    "# clean the data and create 2 datasets for treatment and control\n",
    "treat_t = df_raw[(df_raw['poor'] == 'pobre')&(df_raw['year'] == 98)&(df_raw['progresa'] == 'basal')]\n",
    "control_t = df_raw[(df_raw['poor'] == 'pobre')&(df_raw['year'] == 98)&(df_raw['progresa'] == '0')]\n",
    "\n",
    "# print the average enrollment rate of two groups\n",
    "print('The average enrollment rate in treatment villages is:', round(treat_t['sc'].mean(), 2))\n",
    "print('The average enrollment rate in control villages is:', round(control_t['sc'].mean(), 2), '\\n')\n",
    "\n",
    "# run a t-test to determine the statistical significance of the differences\n",
    "t = ttest_ind(control_t['sc'].dropna(), treat_t['sc'].dropna())\n",
    "print(t)"
   ]
  },
  {
   "cell_type": "markdown",
   "metadata": {},
   "source": [
    "_**Interpretation:** The average enrollment rates in treatment villages and control villages are 0.85 and 0.81 respectively. From the t-test we observe a **statistically significant difference** between the two groups. Therefore, we can conclude that from 1998, the progresa program had a significant impact on the enrollment rates of children of **poor** households in the treatment villages._\n",
    "\n",
    "_**Which D estimator in Schultz (2004) does this approach correspond to?** the estimator 2_"
   ]
  },
  {
   "cell_type": "markdown",
   "metadata": {
    "ein.tags": [
     "worksheet-0"
    ],
    "slideshow": {
     "slide_type": "-"
    }
   },
   "source": [
    "### 2.2 Simple differences: Regression\n",
    "\n",
    "Estimate the effects of Progresa on enrollment using a regression model, by regressing the 1998 enrollment rates **of the poor** on treatment assignment. Discuss the following:\n",
    "\n",
    "* Based on this model, how much did Progresa increase the likelihood of a child enrolling?\n",
    "* How does your regression estimate compare to your t-test estimate from part 2.1?\n",
    "* Based on this regression model, can we reject the null hypothesis that the treatment effects are zero? \n",
    "* What is the counterfactual assumption underlying this regression?"
   ]
  },
  {
   "cell_type": "code",
   "execution_count": 6,
   "metadata": {
    "autoscroll": "json-false",
    "collapsed": false,
    "ein.tags": [
     "worksheet-0"
    ],
    "slideshow": {
     "slide_type": "-"
    }
   },
   "outputs": [
    {
     "name": "stderr",
     "output_type": "stream",
     "text": [
      "/Users/Amit/anaconda/lib/python3.6/site-packages/pandas/core/indexing.py:477: SettingWithCopyWarning: \n",
      "A value is trying to be set on a copy of a slice from a DataFrame.\n",
      "Try using .loc[row_indexer,col_indexer] = value instead\n",
      "\n",
      "See the caveats in the documentation: http://pandas.pydata.org/pandas-docs/stable/indexing.html#indexing-view-versus-copy\n",
      "  self.obj[item] = s\n"
     ]
    },
    {
     "name": "stdout",
     "output_type": "stream",
     "text": [
      "Intercept        0.807637\n",
      "progresa[T.1]    0.038842\n",
      "dtype: float64\n",
      "                            OLS Regression Results                            \n",
      "==============================================================================\n",
      "Dep. Variable:                     sc   R-squared:                       0.003\n",
      "Model:                            OLS   Adj. R-squared:                  0.003\n",
      "Method:                 Least Squares   F-statistic:                     69.87\n",
      "Date:                Tue, 02 May 2017   Prob (F-statistic):           6.64e-17\n",
      "Time:                        10:33:06   Log-Likelihood:                -11926.\n",
      "No. Observations:               27450   AIC:                         2.386e+04\n",
      "Df Residuals:                   27448   BIC:                         2.387e+04\n",
      "Df Model:                           1                                         \n",
      "Covariance Type:            nonrobust                                         \n",
      "=================================================================================\n",
      "                    coef    std err          t      P>|t|      [95.0% Conf. Int.]\n",
      "---------------------------------------------------------------------------------\n",
      "Intercept         0.8076      0.004    220.676      0.000         0.800     0.815\n",
      "progresa[T.1]     0.0388      0.005      8.359      0.000         0.030     0.048\n",
      "==============================================================================\n",
      "Omnibus:                     7638.939   Durbin-Watson:                   1.734\n",
      "Prob(Omnibus):                  0.000   Jarque-Bera (JB):            15767.534\n",
      "Skew:                          -1.767   Prob(JB):                         0.00\n",
      "Kurtosis:                       4.140   Cond. No.                         3.01\n",
      "==============================================================================\n",
      "\n",
      "Warnings:\n",
      "[1] Standard Errors assume that the covariance matrix of the errors is correctly specified.\n"
     ]
    }
   ],
   "source": [
    "# clean the raw dataset and keep wanted rows\n",
    "df_lm = df_raw[(df_raw['poor'] == 'pobre')&(df_raw['year'] == 98)]\n",
    "\n",
    "# set the progresa values for treatment group to be 1, and those for control group to be 0\n",
    "df_lm.loc[df_lm.progresa == 'basal', 'progresa'] = 1\n",
    "df_lm.loc[df_lm.progresa == '0', 'progresa'] = 0\n",
    "\n",
    "# run the regression and print the results\n",
    "lm = smf.ols(formula = 'sc ~ progresa', data = df_lm).fit()\n",
    "print(lm.params)\n",
    "print(lm.summary())"
   ]
  },
  {
   "cell_type": "markdown",
   "metadata": {},
   "source": [
    "_**Based on this model, how much did Progresa increase the likelihood of a child enrolling?** from the parameters of this regression model, we can interpretate that with no treatment, the average enrollment rate would be about 0.807; with one unit increase of treatment, we are likely to observe 0.038 unit of increase in the enrollment rate. Therefore, the Progresa increases the likelihood of a child enrolling by 0.038._\n",
    "\n",
    "_**How does your regression estimate compare to your t-test estimate from part 2.1?** The estimates in t-test and regression are the same. In the t-test result, the average enrollment rate is 0.846 and 0.807 with and without treatment respectively. In the regression result, the equation can be 0.8076 + 1 x 0.3884 = 0.8464. So they have same estimate. _\n",
    "\n",
    "_**Based on this regression model, can we reject the null hypothesis that the treatment effects are zero?** From the regression model we observe a p-value < 0.05. So at the significance level of 0.05 we can reject the null hypothesis that the treatment effect is zero._\n",
    "\n",
    "_**What is the counterfactual assumption underlying this regression?** The counterfactual assumption is that in the absence of treatment, the average enrollment rates in the treatment villages and control villages are the same._"
   ]
  },
  {
   "cell_type": "markdown",
   "metadata": {
    "ein.tags": [
     "worksheet-0"
    ],
    "slideshow": {
     "slide_type": "-"
    }
   },
   "source": [
    "### 2.3 Multiple Regression\n",
    "\n",
    "Re-run the above regression estimated but this time include a set of control variables. Include, for instance, age, distance to a secondary school, gender, education of household head, indigenous, etc.\n",
    "\n",
    "* How do the controls affect the point estimate of treatment effect?\n",
    "* How do the controls affect the standard error on the treatment effect? \n",
    "* How do you interpret the differences (or similarities) between your estimates of 2.2 and 2.3?"
   ]
  },
  {
   "cell_type": "code",
   "execution_count": 7,
   "metadata": {
    "autoscroll": "json-false",
    "collapsed": false,
    "ein.tags": [
     "worksheet-0"
    ],
    "slideshow": {
     "slide_type": "-"
    }
   },
   "outputs": [
    {
     "name": "stdout",
     "output_type": "stream",
     "text": [
      "                            OLS Regression Results                            \n",
      "==============================================================================\n",
      "Dep. Variable:                     sc   R-squared:                       0.272\n",
      "Model:                            OLS   Adj. R-squared:                  0.272\n",
      "Method:                 Least Squares   F-statistic:                     849.5\n",
      "Date:                Tue, 02 May 2017   Prob (F-statistic):               0.00\n",
      "Time:                        10:33:13   Log-Likelihood:                -7541.1\n",
      "No. Observations:               27263   AIC:                         1.511e+04\n",
      "Df Residuals:                   27250   BIC:                         1.521e+04\n",
      "Df Model:                          12                                         \n",
      "Covariance Type:            nonrobust                                         \n",
      "=================================================================================\n",
      "                    coef    std err          t      P>|t|      [95.0% Conf. Int.]\n",
      "---------------------------------------------------------------------------------\n",
      "Intercept         1.4431      0.018     80.855      0.000         1.408     1.478\n",
      "progresa[T.1]     0.0337      0.004      8.418      0.000         0.026     0.042\n",
      "sex               0.0304      0.004      7.847      0.000         0.023     0.038\n",
      "indig             0.0188      0.005      3.961      0.000         0.009     0.028\n",
      "dist_sec         -0.0106      0.001    -12.012      0.000        -0.012    -0.009\n",
      "fam_n             0.0006      0.001      0.727      0.467        -0.001     0.002\n",
      "min_dist          0.0004   6.34e-05      6.326      0.000         0.000     0.001\n",
      "dist_cap          0.0002    3.7e-05      5.512      0.000         0.000     0.000\n",
      "hohedu            0.0079      0.001      9.224      0.000         0.006     0.010\n",
      "hohwag         -7.23e-07   2.81e-06     -0.257      0.797     -6.24e-06  4.79e-06\n",
      "welfare_index  2.283e-05   1.82e-05      1.253      0.210     -1.29e-05  5.85e-05\n",
      "age              -0.0657      0.001    -94.750      0.000        -0.067    -0.064\n",
      "hohage        -2.299e-05      0.000     -0.118      0.906        -0.000     0.000\n",
      "==============================================================================\n",
      "Omnibus:                     2940.375   Durbin-Watson:                   1.729\n",
      "Prob(Omnibus):                  0.000   Jarque-Bera (JB):             3992.254\n",
      "Skew:                          -0.930   Prob(JB):                         0.00\n",
      "Kurtosis:                       3.237   Cond. No.                     9.54e+03\n",
      "==============================================================================\n",
      "\n",
      "Warnings:\n",
      "[1] Standard Errors assume that the covariance matrix of the errors is correctly specified.\n",
      "[2] The condition number is large, 9.54e+03. This might indicate that there are\n",
      "strong multicollinearity or other numerical problems.\n"
     ]
    }
   ],
   "source": [
    "# run the multiple regression with other factors\n",
    "multiple_lm = smf.ols(formula = 'sc ~ progresa + sex + indig + dist_sec + fam_n + min_dist + dist_cap + hohedu + hohwag + welfare_index + age + hohage', data = df_lm).fit()\n",
    "print(multiple_lm.summary())"
   ]
  },
  {
   "cell_type": "markdown",
   "metadata": {},
   "source": [
    "_**How do the controls affect the point estimate of treatment effect?**_\n",
    "_In the multiple regression model, we can examine the treatment effect through the co-efficient value of progresa[T.1], and it's 0.0337. In the above models, the treatment effect is 0.0388. So the control factors have reduced the treatment effect from 0.0388 to 0.0337, which is a slight drop._\n",
    "\n",
    "_**How do the controls affect the standard error on the treatment effect?**_\n",
    "_The control variables have reduced the standard error on the treatment effect from 0.005 to 0.004, indicating that the introduction of control variables have improved the accuracy of our regression model._\n",
    "\n",
    "_**How do you interpret the differences (or similarities) between your estimates of 2.2 and 2.3?**_\n",
    "_Firstly, the estimate of intercept value is 1.4431 in 2.3 and 0.8076 in 2.2; More specifically, take the age variable for example, we can interpret that for 1 year increase of a child's age, we are likely to observe 0.0657 unit of decrease in the enrollment rate, assuming that other factors don't change. Take progresa factor for another example, with one unit increase of treatment, we can observe 0.0337 unit of increasing enrollment rate if other factors remain the same. Therefore we can see that the prpgresa treatment is still the most effective promoter of the children enrollment rate._"
   ]
  },
  {
   "cell_type": "markdown",
   "metadata": {
    "ein.tags": [
     "worksheet-0"
    ],
    "slideshow": {
     "slide_type": "-"
    }
   },
   "source": [
    "### 2.4 Difference-in-Difference, version 1 (tabular)\n",
    "\n",
    "Thus far, we have computed the effects of Progresa by estimating the difference in 1998 enrollment rates across villages. An alternative approach would be to compute the treatment effect using a difference-in-differences framework.\n",
    "\n",
    "Begin by estimating the average treatment effects of the program for poor households using data from 1997 and 1998. Specifically, calculate the difference (between 1997 and 1998) in enrollment rates among poor households in treated villages; then compute the difference (between 1997 and 1998) in enrollment rates among poor households in treated villages. The difference between these two differences is your estimate.\n",
    "\n",
    "* What is your estimate of the impact, and how does it compare to your earlier (simple difference) results?\n",
    "* What is the counterfactual assumption underlying this estimate? \n"
   ]
  },
  {
   "cell_type": "code",
   "execution_count": 51,
   "metadata": {
    "autoscroll": "json-false",
    "collapsed": false,
    "ein.tags": [
     "worksheet-0"
    ],
    "slideshow": {
     "slide_type": "-"
    }
   },
   "outputs": [
    {
     "name": "stdout",
     "output_type": "stream",
     "text": [
      "The estimate of treatment effect (diff-diff value) is: 0.03133\n"
     ]
    },
    {
     "data": {
      "text/html": [
       "<div>\n",
       "<table border=\"1\" class=\"dataframe\">\n",
       "  <thead>\n",
       "    <tr style=\"text-align: right;\">\n",
       "      <th></th>\n",
       "      <th>Treatment Group</th>\n",
       "      <th>Control Group</th>\n",
       "    </tr>\n",
       "  </thead>\n",
       "  <tbody>\n",
       "    <tr>\n",
       "      <th>Enrollment Rate before Treatment</th>\n",
       "      <td>0.822697</td>\n",
       "      <td>0.815186</td>\n",
       "    </tr>\n",
       "    <tr>\n",
       "      <th>Enrollment Rate after Treatment</th>\n",
       "      <td>0.846479</td>\n",
       "      <td>0.807637</td>\n",
       "    </tr>\n",
       "  </tbody>\n",
       "</table>\n",
       "</div>"
      ],
      "text/plain": [
       "                                 Treatment Group Control Group\n",
       "Enrollment Rate before Treatment        0.822697      0.815186\n",
       "Enrollment Rate after Treatment         0.846479      0.807637"
      ]
     },
     "execution_count": 51,
     "metadata": {},
     "output_type": "execute_result"
    }
   ],
   "source": [
    "# create 2 datasets for two years respectively\n",
    "diff_97 = df_raw[(df_raw['poor']=='pobre')&(df_raw['year']==97)]\n",
    "diff_98 = df_raw[(df_raw['poor']=='pobre')&(df_raw['year']==98)]\n",
    "\n",
    "# calculate the average enrollment rates for 2 datasets\n",
    "treat_98 = diff_98['sc'][diff_98['progresa'] == 'basal'].mean()\n",
    "treat_97 = diff_97['sc'][diff_97['progresa'] == 'basal'].mean()\n",
    "control_98 = diff_98['sc'][diff_98['progresa'] == '0'].mean()\n",
    "control_97 = diff_97['sc'][diff_97['progresa'] == '0'].mean()\n",
    "\n",
    "# create a dataframe to store the mean values\n",
    "rows = ['Enrollment Rate before Treatment', 'Enrollment Rate after Treatment']\n",
    "cols = ['Treatment Group', 'Control Group']\n",
    "df_diff = pd.DataFrame(index = rows, columns = cols)\n",
    "df_diff.loc['Enrollment Rate before Treatment', 'Treatment Group'] = treat_97\n",
    "df_diff.loc['Enrollment Rate after Treatment', 'Treatment Group'] = treat_98\n",
    "df_diff.loc['Enrollment Rate before Treatment', 'Control Group'] = control_97\n",
    "df_diff.loc['Enrollment Rate after Treatment', 'Control Group'] = control_98\n",
    "\n",
    "# print the estimate of the treatment impact, and the dataframe\n",
    "diff_diff = (treat_98 - treat_97) - (control_98 - control_97)\n",
    "print('The estimate of treatment effect (diff-diff value) is:', round(diff_diff, 5))\n",
    "df_diff"
   ]
  },
  {
   "cell_type": "markdown",
   "metadata": {},
   "source": [
    "_**What is your estimate of the impact, and how does it compare to your earlier (simple difference) results?**\n",
    "The diff-in-diff estimate value is **0.03133**, which is lower than the earlier results 0.0388 and 0.0337._\n",
    "\n",
    "_**What is the counterfactual assumption underlying this estimate?**\n",
    "The counterfactual assumption is that without the progresa treatment, the change happens in the treatment group would be the same as the control group._"
   ]
  },
  {
   "cell_type": "markdown",
   "metadata": {
    "ein.tags": [
     "worksheet-0"
    ],
    "slideshow": {
     "slide_type": "-"
    }
   },
   "source": [
    "### 2.5 Difference-in-Difference, version 1 (regression)\n",
    "\n",
    "Now use a regression specification to estimate the average treatment effect of the program (on the poor) in a difference-in-differences framework. Include at least 5 control variables.\n",
    "\n",
    "* What is your estimate of the impact of Progresa? Be very specific in interpreting your coefficients and standard errors, and make sure to specify exactly what units you are measuring and estimating.\n",
    "* How do these estimates of the treatment effect compare to the estimates based on the simple difference?\n",
    "* How do these estimates compare to the difference-in-difference estimates from 2.4 above? What accounts for these differences?\n",
    "* What is the counterfactual assumption underlying this regression? "
   ]
  },
  {
   "cell_type": "code",
   "execution_count": 8,
   "metadata": {
    "autoscroll": "json-false",
    "collapsed": false,
    "ein.tags": [
     "worksheet-0"
    ],
    "slideshow": {
     "slide_type": "-"
    }
   },
   "outputs": [
    {
     "name": "stderr",
     "output_type": "stream",
     "text": [
      "/Users/Amit/anaconda/lib/python3.6/site-packages/pandas/core/indexing.py:297: SettingWithCopyWarning: \n",
      "A value is trying to be set on a copy of a slice from a DataFrame.\n",
      "Try using .loc[row_indexer,col_indexer] = value instead\n",
      "\n",
      "See the caveats in the documentation: http://pandas.pydata.org/pandas-docs/stable/indexing.html#indexing-view-versus-copy\n",
      "  self.obj[key] = _infer_fill_value(value)\n",
      "/Users/Amit/anaconda/lib/python3.6/site-packages/pandas/core/indexing.py:477: SettingWithCopyWarning: \n",
      "A value is trying to be set on a copy of a slice from a DataFrame.\n",
      "Try using .loc[row_indexer,col_indexer] = value instead\n",
      "\n",
      "See the caveats in the documentation: http://pandas.pydata.org/pandas-docs/stable/indexing.html#indexing-view-versus-copy\n",
      "  self.obj[item] = s\n"
     ]
    },
    {
     "name": "stdout",
     "output_type": "stream",
     "text": [
      "                            OLS Regression Results                            \n",
      "==============================================================================\n",
      "Dep. Variable:                     sc   R-squared:                       0.281\n",
      "Model:                            OLS   Adj. R-squared:                  0.281\n",
      "Method:                 Least Squares   F-statistic:                     2533.\n",
      "Date:                Tue, 02 May 2017   Prob (F-statistic):               0.00\n",
      "Time:                        10:34:01   Log-Likelihood:                -16644.\n",
      "No. Observations:               58344   AIC:                         3.331e+04\n",
      "Df Residuals:                   58334   BIC:                         3.340e+04\n",
      "Df Model:                           9                                         \n",
      "Covariance Type:            nonrobust                                         \n",
      "=======================================================================================\n",
      "                          coef    std err          t      P>|t|      [95.0% Conf. Int.]\n",
      "---------------------------------------------------------------------------------------\n",
      "Intercept               1.4242      0.009    159.020      0.000         1.407     1.442\n",
      "progresa[T.1]           0.0011      0.004      0.285      0.776        -0.006     0.008\n",
      "after                   0.0274      0.004      6.311      0.000         0.019     0.036\n",
      "progresa[T.1]:after     0.0314      0.005      5.703      0.000         0.021     0.042\n",
      "sex                     0.0331      0.003     12.413      0.000         0.028     0.038\n",
      "age                    -0.0657      0.000   -143.680      0.000        -0.067    -0.065\n",
      "dist_sec               -0.0098      0.001    -15.989      0.000        -0.011    -0.009\n",
      "min_dist                0.0007    3.2e-05     21.815      0.000         0.001     0.001\n",
      "hohedu                  0.0078      0.001     13.451      0.000         0.007     0.009\n",
      "hohage                  0.0003      0.000      2.328      0.020      4.74e-05     0.001\n",
      "==============================================================================\n",
      "Omnibus:                     5508.785   Durbin-Watson:                   1.488\n",
      "Prob(Omnibus):                  0.000   Jarque-Bera (JB):             7238.834\n",
      "Skew:                          -0.861   Prob(JB):                         0.00\n",
      "Kurtosis:                       3.111   Cond. No.                         849.\n",
      "==============================================================================\n",
      "\n",
      "Warnings:\n",
      "[1] Standard Errors assume that the covariance matrix of the errors is correctly specified.\n"
     ]
    }
   ],
   "source": [
    "# select rows for the poor and convert 'poor' and 'progresa' variable to numeric, then create new column 'before or after treatment'\n",
    "df_poor = df_raw[df_raw['poor'] == 'pobre']\n",
    "df_poor.loc[df_poor.year == 97, 'after'] = 0\n",
    "df_poor.loc[df_poor.year == 98, 'after'] = 1\n",
    "df_poor.loc[df_poor.progresa == 'basal', 'progresa'] = 1\n",
    "df_poor.loc[df_poor.progresa == '0', 'progresa'] = 0\n",
    "\n",
    "# run the regression in a diff-in-diff framework with 5 control variables\n",
    "diff_lm = smf.ols(formula = 'sc ~ progresa + progresa:after + after + sex + age + dist_sec + min_dist + hohedu + hohage', data = df_poor).fit()\n",
    "print(diff_lm.summary())"
   ]
  },
  {
   "cell_type": "markdown",
   "metadata": {},
   "source": [
    "_**What is your estimate of the impact of Progresa? Be very specific in interpreting your coefficients and standard errors, and make sure to specify exactly what units you are measuring and estimating.**\n",
    "For treatment group after 1998, the estimate of progresa treatment effect is 0.0314 with a standard error of 0.005. For all households after 1998, the average enrollment rate is increased by 0.0274 with a standard error of 0.004. The progresa co-efficient is below 0.05 and is not significant this time._\n",
    "\n",
    "_**How do these estimates of the treatment effect compare to the estimates based on the simple difference?**\n",
    "Take the time factor's interaction with progresa treatment and their impact on the average enrollment rate, the overall estimate of the treatment effect is 0.0314, very similar but slightly more than the estimates based on the simple difference._\n",
    "\n",
    "_**How do these estimates compare to the difference-in-difference estimates from 2.4 above? What accounts for these differences?**\n",
    "These estimates are similar or more than the diff-in-diff estimates from 2.4 above. The other control variables may caused these differences, in case that some subjects may exsit systematic differences which can cause different treatment effects._\n",
    "\n",
    "_**What is the counterfactual assumption underlying this regression?**\n",
    "The counterfactual assumption is that without the progresa treatment, the change happens in the treatment group would be the same as the control group._"
   ]
  },
  {
   "cell_type": "markdown",
   "metadata": {
    "ein.tags": [
     "worksheet-0"
    ],
    "slideshow": {
     "slide_type": "-"
    }
   },
   "source": [
    "### 2.6 Difference-in-Difference, version 2\n",
    "\n",
    "In the previous problem, you estimated a difference-in-differences model that compared changes in enrollment rates over time across treatment and control villages. An alternative approach would be to compare enrollment rates in 1998 between poor and non-poor across treatment and control villages. \n",
    "\n",
    "* How would we estimate this version of the treatment effects in a regression model? \n",
    "* What is the counterfactual assumption underlying this regression?\n",
    "* How do these treatment effects compare to the estimates above?\n",
    "* Discuss some possible explanations for differences or similarities "
   ]
  },
  {
   "cell_type": "code",
   "execution_count": 76,
   "metadata": {
    "autoscroll": "json-false",
    "collapsed": false,
    "ein.tags": [
     "worksheet-0"
    ],
    "scrolled": true,
    "slideshow": {
     "slide_type": "-"
    }
   },
   "outputs": [
    {
     "name": "stderr",
     "output_type": "stream",
     "text": [
      "/Users/Amit/anaconda/lib/python3.6/site-packages/pandas/core/indexing.py:477: SettingWithCopyWarning: \n",
      "A value is trying to be set on a copy of a slice from a DataFrame.\n",
      "Try using .loc[row_indexer,col_indexer] = value instead\n",
      "\n",
      "See the caveats in the documentation: http://pandas.pydata.org/pandas-docs/stable/indexing.html#indexing-view-versus-copy\n",
      "  self.obj[item] = s\n"
     ]
    },
    {
     "name": "stdout",
     "output_type": "stream",
     "text": [
      "                            OLS Regression Results                            \n",
      "==============================================================================\n",
      "Dep. Variable:                     sc   R-squared:                       0.272\n",
      "Model:                            OLS   Adj. R-squared:                  0.272\n",
      "Method:                 Least Squares   F-statistic:                     1331.\n",
      "Date:                Sun, 30 Apr 2017   Prob (F-statistic):               0.00\n",
      "Time:                        20:08:27   Log-Likelihood:                -9278.9\n",
      "No. Observations:               32093   AIC:                         1.858e+04\n",
      "Df Residuals:                   32083   BIC:                         1.866e+04\n",
      "Df Model:                           9                                         \n",
      "Covariance Type:            nonrobust                                         \n",
      "===========================================================================================\n",
      "                              coef    std err          t      P>|t|      [95.0% Conf. Int.]\n",
      "-------------------------------------------------------------------------------------------\n",
      "Intercept                   1.4775      0.014    102.187      0.000         1.449     1.506\n",
      "progresa[T.1]               0.0263      0.010      2.721      0.007         0.007     0.045\n",
      "poor[T.1]                  -0.0142      0.008     -1.720      0.085        -0.030     0.002\n",
      "progresa[T.1]:poor[T.1]     0.0058      0.010      0.554      0.580        -0.015     0.026\n",
      "sex                         0.0306      0.004      8.474      0.000         0.024     0.038\n",
      "age                        -0.0661      0.001   -102.596      0.000        -0.067    -0.065\n",
      "dist_sec                   -0.0112      0.001    -13.529      0.000        -0.013    -0.010\n",
      "min_dist                    0.0007   4.33e-05     16.584      0.000         0.001     0.001\n",
      "hohedu                      0.0092      0.001     12.267      0.000         0.008     0.011\n",
      "hohage                      0.0001      0.000      0.651      0.515        -0.000     0.000\n",
      "==============================================================================\n",
      "Omnibus:                     3192.793   Durbin-Watson:                   1.728\n",
      "Prob(Omnibus):                  0.000   Jarque-Bera (JB):             4254.563\n",
      "Skew:                          -0.890   Prob(JB):                         0.00\n",
      "Kurtosis:                       3.111   Cond. No.                     1.20e+03\n",
      "==============================================================================\n",
      "\n",
      "Warnings:\n",
      "[1] Standard Errors assume that the covariance matrix of the errors is correctly specified.\n",
      "[2] The condition number is large, 1.2e+03. This might indicate that there are\n",
      "strong multicollinearity or other numerical problems.\n"
     ]
    }
   ],
   "source": [
    "# filter the dataset for 1998 observations\n",
    "diff_lm_98 = df_raw[df_raw['year'] == 98]\n",
    "\n",
    "# convert wanted columns to numeric\n",
    "diff_lm_98.loc[diff_lm_98.poor == 'pobre', 'poor'] = 1\n",
    "diff_lm_98.loc[diff_lm_98.poor == 'no pobre', 'poor'] = 0\n",
    "diff_lm_98.loc[diff_lm_98.progresa == 'basal', 'progresa'] = 1\n",
    "diff_lm_98.loc[diff_lm_98.progresa == '0', 'progresa'] = 0\n",
    "\n",
    "# run the regression\n",
    "poor_lm = smf.ols(formula = 'sc ~ progresa + poor + progresa:poor + sex + age + dist_sec + min_dist + hohedu + hohage', data=diff_lm_98).fit()\n",
    "print(poor_lm.summary())"
   ]
  },
  {
   "cell_type": "markdown",
   "metadata": {},
   "source": [
    "_**How would we estimate this version of the treatment effects in a regression model?**_\n",
    "_* First, the coefficient of progresa is 0.0263 and is very significant, indicating that with one unit of treatment we would observe 0.0263 unit increase of enrollment rate._\n",
    "_* Second, the coefficient of poor variable is -0.0142 but is not significant. This may indicate that poor households lower the enrollment rate, but since poor households are more supposed to accept treatment thus will have increasing enrollment rate, this outcome remains to be discussed._\n",
    "_* Third, the joined estimate of progresa and poor is 0.0058 but is not significant._\n",
    "\n",
    "_**What is the counterfactual assumption underlying this regression?**\n",
    "The counterfactual assumption is that assume that there is no progresa treatment, the average enrollment rate of the poor households and non-poor households would be the same._\n",
    "\n",
    "_**How do these treatment effects compare to the estimates above?**_\n",
    "_The total treatment effect of progresa on poor households should be 0.0263+0.0142-0.0058 = 0.0347. But both the poor estimate and the interaction estimate are not significant, so the treatment effects are similar or smaller compared to the estimates above._\n",
    "\n",
    "_**Discuss some possible explanations for differences or similarities:**_\n",
    "_One possible explanation of the negative estimate of the poor households' enrollment rates as well as why those estimates are not statistically significant is that maybe there are more people of poor households that are supposed to join the progresa program, compared to the non-poor households. That is to say the progresa treatment actually should promote enrollment rates among poor households, instead of making it lower._\n"
   ]
  },
  {
   "cell_type": "markdown",
   "metadata": {
    "ein.tags": [
     "worksheet-0"
    ],
    "slideshow": {
     "slide_type": "-"
    }
   },
   "source": [
    "### 2.7 Spillover effects (extra credit)\n",
    "\n",
    "Thus far, we have focused on the impact of PROGRESA on poor households. Repeat your analysis in 2.5, using a double-difference regression to estimate the impact of PROGRESA on non-poor households. In other words, compare the difference in enrollments between 1997 and 1998 for non-poor households in treatment villages with the difference in enrollments between 1997 and 1998 for non-poor households in control villages.\n",
    "\n",
    "* A: Describe one or two reasons why PROGRESA might have impacted non-poor households.\n",
    "* B: Do you observe any impacts of PROGRESA on the non-poor?\n",
    "* C: What is the identifying assumption that you are using to estimate the impact of PROGRESA on non-poor households."
   ]
  },
  {
   "cell_type": "code",
   "execution_count": 77,
   "metadata": {
    "autoscroll": "json-false",
    "collapsed": false,
    "ein.tags": [
     "worksheet-0"
    ],
    "slideshow": {
     "slide_type": "-"
    }
   },
   "outputs": [
    {
     "name": "stderr",
     "output_type": "stream",
     "text": [
      "/Users/Amit/anaconda/lib/python3.6/site-packages/pandas/core/indexing.py:297: SettingWithCopyWarning: \n",
      "A value is trying to be set on a copy of a slice from a DataFrame.\n",
      "Try using .loc[row_indexer,col_indexer] = value instead\n",
      "\n",
      "See the caveats in the documentation: http://pandas.pydata.org/pandas-docs/stable/indexing.html#indexing-view-versus-copy\n",
      "  self.obj[key] = _infer_fill_value(value)\n",
      "/Users/Amit/anaconda/lib/python3.6/site-packages/pandas/core/indexing.py:477: SettingWithCopyWarning: \n",
      "A value is trying to be set on a copy of a slice from a DataFrame.\n",
      "Try using .loc[row_indexer,col_indexer] = value instead\n",
      "\n",
      "See the caveats in the documentation: http://pandas.pydata.org/pandas-docs/stable/indexing.html#indexing-view-versus-copy\n",
      "  self.obj[item] = s\n"
     ]
    },
    {
     "name": "stdout",
     "output_type": "stream",
     "text": [
      "                            OLS Regression Results                            \n",
      "==============================================================================\n",
      "Dep. Variable:                     sc   R-squared:                       0.287\n",
      "Model:                            OLS   Adj. R-squared:                  0.286\n",
      "Method:                 Least Squares   F-statistic:                     465.0\n",
      "Date:                Sun, 30 Apr 2017   Prob (F-statistic):               0.00\n",
      "Time:                        20:29:43   Log-Likelihood:                -3697.0\n",
      "No. Observations:               10423   AIC:                             7414.\n",
      "Df Residuals:                   10413   BIC:                             7486.\n",
      "Df Model:                           9                                         \n",
      "Covariance Type:            nonrobust                                         \n",
      "=======================================================================================\n",
      "                          coef    std err          t      P>|t|      [95.0% Conf. Int.]\n",
      "---------------------------------------------------------------------------------------\n",
      "Intercept               1.4756      0.024     61.648      0.000         1.429     1.522\n",
      "progresa[T.1]           0.0278      0.009      2.991      0.003         0.010     0.046\n",
      "after                   0.0382      0.011      3.541      0.000         0.017     0.059\n",
      "progresa[T.1]:after    -0.0022      0.014     -0.158      0.874        -0.029     0.025\n",
      "sex                     0.0312      0.007      4.614      0.000         0.018     0.044\n",
      "age                    -0.0685      0.001    -59.853      0.000        -0.071    -0.066\n",
      "dist_sec               -0.0157      0.002     -8.912      0.000        -0.019    -0.012\n",
      "min_dist                0.0006   8.31e-05      7.487      0.000         0.000     0.001\n",
      "hohedu                  0.0103      0.001      8.651      0.000         0.008     0.013\n",
      "hohage                  0.0003      0.000      0.795      0.427        -0.000     0.001\n",
      "==============================================================================\n",
      "Omnibus:                      852.211   Durbin-Watson:                   1.494\n",
      "Prob(Omnibus):                  0.000   Jarque-Bera (JB):              815.695\n",
      "Skew:                          -0.625   Prob(JB):                    7.48e-178\n",
      "Kurtosis:                       2.440   Cond. No.                         796.\n",
      "==============================================================================\n",
      "\n",
      "Warnings:\n",
      "[1] Standard Errors assume that the covariance matrix of the errors is correctly specified.\n"
     ]
    }
   ],
   "source": [
    "# filter rows with same method\n",
    "df_non_poor = df_raw[df_raw['poor'] == 'no pobre']\n",
    "df_non_poor.loc[df_non_poor.year == 97, 'after'] = 0\n",
    "df_non_poor.loc[df_non_poor.year == 98, 'after'] = 1\n",
    "df_non_poor.loc[df_non_poor.progresa == 'basal', 'progresa'] = 1\n",
    "df_non_poor.loc[df_non_poor.progresa == '0', 'progresa'] = 0\n",
    "\n",
    "# run the regression\n",
    "non_poor_lm = smf.ols(formula = 'sc ~ progresa + after + progresa:after + sex + age + dist_sec + min_dist + hohedu + hohage', data=df_non_poor).fit()\n",
    "print(non_poor_lm.summary())"
   ]
  },
  {
   "cell_type": "markdown",
   "metadata": {},
   "source": [
    "_**A: Describe one or two reasons why PROGRESA might have impacted non-poor households.**\n",
    "I think the possible reason is that Progresa might have a spillover effect that children want to follow the trend of enroll to school when they see each other enrolling for school. Maybe progresa had created such environment thus caused non-poor households having higher enrollment rates._\n",
    "\n",
    "_**B: Do you observe any impacts of PROGRESA on the non-poor?**\n",
    "Yes. The effect estimate of progresa to non-poor households who did not received subsidy is 0.0382; the effect estimate of progresa to non-poor households who received subsidy is 0.0278+0.0382-0.0022 = 0.0638. Both of them indicate a promotion on enrollment rate._\n",
    "\n",
    "_**C: What is the identifying assumption that you are using to estimate the impact of PROGRESA on non-poor households.**\n",
    "The assumption is that without the Progresa treatment, the average enrollment rate of non-poor households would not increase._"
   ]
  },
  {
   "cell_type": "markdown",
   "metadata": {
    "ein.tags": [
     "worksheet-0"
    ],
    "slideshow": {
     "slide_type": "-"
    }
   },
   "source": [
    "### 2.8 Summary\n",
    "\n",
    "Based on all the analysis you have undertaken to date, do you thik that Progresa had a causal impact on the enrollment rates of poor households in Mexico?"
   ]
  },
  {
   "cell_type": "markdown",
   "metadata": {
    "autoscroll": "json-false",
    "collapsed": false,
    "ein.tags": [
     "worksheet-0"
    ],
    "slideshow": {
     "slide_type": "-"
    }
   },
   "source": [
    "_From the simple difference analysis and the difference in difference analysis above, we can conclude that **Progresa had a causal impact on** the enrollment rates of the poor households in Mexico._\n",
    "\n",
    "_First of all, we can observe a statistically significant impact of the Progresa treatment on enrollment rate from the T-test and simple linear regression. Then we take the differences at baseline into account such as the time effect, and from the diff-in-diff regression we can still observe a significant impact from Progresa to the enrollment rates of poor households. In this process, the calculated effect estimates also became more accurate, which supports our conclusion that there exist a causal impact._\n",
    "\n",
    "_Furthermore, from the other regressions we performed, we can also conclude that Progresa had **improved the overall enrollment rate** both in the treatment group and the control group, in addition to the poor households._"
   ]
  }
 ],
 "metadata": {
  "kernelspec": {
   "display_name": "Python 3",
   "language": "python",
   "name": "python3"
  },
  "language_info": {
   "codemirror_mode": {
    "name": "ipython",
    "version": 3
   },
   "file_extension": ".py",
   "mimetype": "text/x-python",
   "name": "python",
   "nbconvert_exporter": "python",
   "pygments_lexer": "ipython3",
   "version": "3.6.0"
  },
  "name": "ps2.ipynb"
 },
 "nbformat": 4,
 "nbformat_minor": 2
}
