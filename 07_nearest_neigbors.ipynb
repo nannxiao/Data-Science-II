{
 "cells": [
  {
   "cell_type": "markdown",
   "metadata": {
    "ein.tags": [
     "worksheet-0"
    ],
    "slideshow": {
     "slide_type": "-"
    }
   },
   "source": [
    "## Nearest neighbors"
   ]
  },
  {
   "cell_type": "code",
   "execution_count": 1,
   "metadata": {
    "autoscroll": "json-false",
    "collapsed": false,
    "ein.tags": [
     "worksheet-0"
    ],
    "slideshow": {
     "slide_type": "-"
    }
   },
   "outputs": [],
   "source": [
    "import pandas as pd\n",
    "import numpy as np\n",
    "import matplotlib.pyplot as plt\n",
    "%matplotlib inline\n",
    "from matplotlib import cm\n",
    "import os\n",
    "import sklearn.neighbors as nn\n",
    "# use nn.KNeighborsRegressor for numeric target"
   ]
  },
  {
   "cell_type": "markdown",
   "metadata": {
    "ein.tags": [
     "worksheet-0"
    ],
    "slideshow": {
     "slide_type": "-"
    }
   },
   "source": [
    "## Read in sea ice data and transform it to a wide form"
   ]
  },
  {
   "cell_type": "code",
   "execution_count": 11,
   "metadata": {
    "collapsed": false
   },
   "outputs": [
    {
     "name": "stdout",
     "output_type": "stream",
     "text": [
      "Original data description\n",
      "               year          mo      extent        area\n",
      "count   462.000000  462.000000  460.000000  460.000000\n",
      "mean   1997.584416    6.487013   11.769717    9.314935\n",
      "std      11.130483    3.470802    3.166745    3.207328\n",
      "min    1978.000000    1.000000    3.630000    2.370000\n",
      "25%    1988.000000    3.000000    9.245000    6.352500\n",
      "50%    1998.000000    6.000000   12.420000   10.020000\n",
      "75%    2007.000000    9.750000   14.540000   12.275000\n",
      "max    2017.000000   12.000000   16.520000   13.870000\n"
     ]
    }
   ],
   "source": [
    "sie = pd.read_csv('N_extent_v2.1.csv')\n",
    "sie = sie.rename(columns = lambda x: x.strip())\n",
    "sie.set_value(sie[\"extent\"] < 0, \"extent\", np.nan)\n",
    "sie.set_value(sie[\"area\"] < 0, \"area\", np.nan)\n",
    "print(\"Original data description\\n\", sie.describe())\n",
    "#print(sie)"
   ]
  },
  {
   "cell_type": "code",
   "execution_count": 9,
   "metadata": {
    "autoscroll": "json-false",
    "collapsed": false,
    "ein.tags": [
     "worksheet-0"
    ],
    "slideshow": {
     "slide_type": "-"
    }
   },
   "outputs": [
    {
     "name": "stdout",
     "output_type": "stream",
     "text": [
      "40 unique years:\n",
      " [1978 1979 1980 1981 1982 1983 1984 1985 1986 1987 1988 1989 1990 1991 1992\n",
      " 1993 1994 1995 1996 1997 1998 1999 2000 2001 2002 2003 2004 2005 2006 2007\n",
      " 2008 2009 2010 2011 2012 2013 2014 2015 2016 2017]\n",
      "      const   ext1   ext2   ext3   ext4   ext5   ext6   ext7  ext8  ext9  \\\n",
      "1978    1.0    NaN    NaN    NaN    NaN    NaN    NaN    NaN   NaN   NaN   \n",
      "1979    1.0  15.60  16.38  16.52  15.56  14.09  12.65  10.52  8.18  7.22   \n",
      "1980    1.0  15.05  16.07  16.21  15.55  14.08  12.37  10.43  8.08  7.86   \n",
      "\n",
      "      ext10  ext11  ext12  \n",
      "1978    NaN  12.06  14.13  \n",
      "1979   9.43  11.19  13.58  \n",
      "1980   9.49  11.72  13.75  \n",
      "      const   ext1   ext2   ext3   ext4   ext5   ext6  ext7  ext8  ext9  \\\n",
      "2015    1.0  13.75  14.51  14.49  13.98  12.69  11.05  8.83  5.66  4.68   \n",
      "2016    1.0  13.64  14.32  14.53  13.83  12.08  10.60  8.13  5.60  4.72   \n",
      "2017    1.0  13.38  14.28  14.43  13.83    NaN    NaN   NaN   NaN   NaN   \n",
      "\n",
      "      ext10  ext11  ext12  \n",
      "2015   7.79  10.11  12.33  \n",
      "2016   6.45   9.08  12.09  \n",
      "2017    NaN    NaN    NaN  \n"
     ]
    }
   ],
   "source": [
    "years = np.sort(sie[\"year\"].unique())\n",
    "print(len(years), \"unique years:\\n\", years)\n",
    "data = pd.DataFrame(np.ones(len(years)), columns=[\"const\"], index = years)\n",
    "#data\n",
    "for m in range(1,13):\n",
    "    md = sie[\"extent\"][sie[\"mo\"] == m].values\n",
    "    idx = sie[\"year\"][sie[\"mo\"] == m].values\n",
    "    data[\"ext\" + str(m)] = pd.Series(md, index = idx)\n",
    "print(data.head(3))\n",
    "print(data.tail(3))   \n"
   ]
  },
  {
   "cell_type": "markdown",
   "metadata": {
    "ein.tags": [
     "worksheet-0"
    ],
    "slideshow": {
     "slide_type": "-"
    }
   },
   "source": [
    "## Now predict the September SIE minimum using the March SIE maximum.\n",
    "First, let's plot the data:"
   ]
  },
  {
   "cell_type": "code",
   "execution_count": 12,
   "metadata": {
    "autoscroll": "json-false",
    "collapsed": false,
    "ein.tags": [
     "worksheet-0"
    ],
    "slideshow": {
     "slide_type": "-"
    }
   },
   "outputs": [
    {
     "data": {
      "text/plain": [
       "<matplotlib.text.Text at 0x1111ee780>"
      ]
     },
     "execution_count": 12,
     "metadata": {},
     "output_type": "execute_result"
    },
    {
     "data": {
      "image/png": "[encoded data removed]",
      "text/plain": [
       "<matplotlib.figure.Figure at 0x11113a4e0>"
      ]
     },
     "metadata": {},
     "output_type": "display_data"
    }
   ],
   "source": [
    "plt.scatter(data[\"ext3\"], data[\"ext9\"])\n",
    "plt.xlabel(\"March\")\n",
    "plt.ylabel(\"September\")"
   ]
  },
  {
   "cell_type": "markdown",
   "metadata": {
    "ein.tags": [
     "worksheet-0"
    ],
    "slideshow": {
     "slide_type": "-"
    }
   },
   "source": [
    "First create training and test data.  Use years 1979-2016 for training"
   ]
  },
  {
   "cell_type": "code",
   "execution_count": 13,
   "metadata": {
    "autoscroll": "json-false",
    "collapsed": false,
    "ein.tags": [
     "worksheet-0"
    ],
    "slideshow": {
     "slide_type": "-"
    }
   },
   "outputs": [],
   "source": [
    "xtr = data.loc[range(1979,2017)].as_matrix([\"ext3\"])\n",
    "ytr = data.loc[range(1979,2017)].as_matrix([\"ext9\"])\n"
   ]
  },
  {
   "cell_type": "markdown",
   "metadata": {
    "ein.tags": [
     "worksheet-0"
    ],
    "slideshow": {
     "slide_type": "-"
    }
   },
   "source": [
    "Now estimate the 1-NN model for these years.  Use this model to\n",
    "predict September SIE minimum (March 2017 = 14.43).  Which year SIE\n",
    "minimum does this value correspond to?"
   ]
  },
  {
   "cell_type": "code",
   "execution_count": 6,
   "metadata": {
    "autoscroll": "json-false",
    "collapsed": false,
    "ein.tags": [
     "worksheet-0"
    ],
    "slideshow": {
     "slide_type": "-"
    }
   },
   "outputs": [
    {
     "data": {
      "text/plain": [
       "array([[ 4.68]])"
      ]
     },
     "execution_count": 6,
     "metadata": {},
     "output_type": "execute_result"
    }
   ],
   "source": [
    "\n",
    "m = nn.KNeighborsRegressor(1)\n",
    "# use 1 neighbor\n",
    "f = m.fit(xtr, ytr)\n",
    "xx = data.loc[2017].as_matrix([\"ext3\"])\n",
    "f.predict(np.asscalar(xx))"
   ]
  },
  {
   "cell_type": "markdown",
   "metadata": {
    "ein.tags": [
     "worksheet-0"
    ],
    "slideshow": {
     "slide_type": "-"
    }
   },
   "source": [
    "Now play with different number of neigbors"
   ]
  },
  {
   "cell_type": "code",
   "execution_count": 8,
   "metadata": {
    "autoscroll": "json-false",
    "collapsed": false,
    "ein.tags": [
     "worksheet-0"
    ],
    "slideshow": {
     "slide_type": "-"
    }
   },
   "outputs": [],
   "source": [
    "## do it here\n"
   ]
  },
  {
   "cell_type": "markdown",
   "metadata": {
    "ein.tags": [
     "worksheet-0"
    ],
    "slideshow": {
     "slide_type": "-"
    }
   },
   "source": [
    "However, we have more data for 2017: January till April.  Now build a\n",
    "NN model that includes all these 4 months"
   ]
  },
  {
   "cell_type": "code",
   "execution_count": 14,
   "metadata": {
    "autoscroll": "json-false",
    "collapsed": false,
    "ein.tags": [
     "worksheet-0"
    ],
    "slideshow": {
     "slide_type": "-"
    }
   },
   "outputs": [
    {
     "data": {
      "text/plain": [
       "array([[ 15.6 ,  16.38,  16.52,  15.56],\n",
       "       [ 15.05,  16.07,  16.21,  15.55],\n",
       "       [ 15.11,  15.75,  15.7 ,  15.19],\n",
       "       [ 15.34,  16.14,  16.23,  15.62],\n",
       "       [ 15.16,  16.1 ,  16.19,  15.36],\n",
       "       [ 14.69,  15.42,  15.72,  15.23],\n",
       "       [ 14.96,  15.77,  16.14,  15.41],\n",
       "       [ 15.12,  15.99,  16.16,  15.23],\n",
       "       [ 15.28,  16.21,  16.02,  15.38],\n",
       "       [ 15.23,  15.67,  15.62,  14.53],\n",
       "       [ 15.07,  15.69,  15.99,  14.79],\n",
       "       [ 14.58,  15.37,  15.6 ,  15.03],\n",
       "       [ 14.86,  15.62,  15.62,  14.8 ],\n",
       "       [ 15.2 ,  15.85,  15.98,  15.3 ],\n",
       "       [ 14.94,  15.72,  15.71,  15.07],\n",
       "       [ 14.74,  15.37,  15.44,  14.71],\n",
       "       [ 14.35,  15.32,  15.25,  14.35],\n",
       "       [ 14.62,  15.63,  15.69,  14.69],\n",
       "       [ 14.94,  15.9 ,  15.78,  14.99],\n",
       "       [ 14.57,  15.48,  15.52,  15.24],\n",
       "       [ 14.54,  15.3 ,  15.38,  14.75],\n",
       "       [ 14.42,  15.42,  15.72,  14.97],\n",
       "       [ 14.57,  15.47,  15.54,  14.46],\n",
       "       [ 14.59,  15.35,  15.61,  14.68],\n",
       "       [ 14.15,  15.04,  15.15,  14.2 ],\n",
       "       [ 13.81,  14.5 ,  14.85,  14.18],\n",
       "       [ 13.72,  14.54,  14.54,  14.07],\n",
       "       [ 13.89,  14.65,  14.76,  13.97],\n",
       "       [ 14.14,  15.09,  15.33,  14.49],\n",
       "       [ 14.19,  14.93,  15.21,  14.64],\n",
       "       [ 13.91,  14.7 ,  15.19,  14.76],\n",
       "       [ 13.69,  14.49,  14.67,  14.22],\n",
       "       [ 13.86,  14.7 ,  15.31,  14.78],\n",
       "       [ 13.91,  14.81,  15.16,  14.44],\n",
       "       [ 13.86,  14.55,  14.87,  14.25],\n",
       "       [ 13.75,  14.51,  14.49,  13.98],\n",
       "       [ 13.64,  14.32,  14.53,  13.83]])"
      ]
     },
     "execution_count": 14,
     "metadata": {},
     "output_type": "execute_result"
    }
   ],
   "source": [
    "v = [\"ext1\", \"ext2\", \"ext3\", \"ext4\"]\n",
    "xtr = data.loc[range(1979,2017)].as_matrix(v)\n",
    "ytr = data.loc[range(1979,2017)].as_matrix([\"ext9\"])\n",
    "# remove nan-s:\n",
    "i = np.isnan(xtr).any(axis=1)\n",
    "j = np.isnan(ytr).any(axis=1)\n",
    "xtr = xtr[~(i | j)]\n",
    "ytr = ytr[~(i | j)]\n",
    "## and now do it\n",
    "## note: you may have to reshape your prediction data to 2-d array\n",
    "xtr\n"
   ]
  },
  {
   "cell_type": "markdown",
   "metadata": {
    "ein.tags": [
     "worksheet-0"
    ],
    "slideshow": {
     "slide_type": "-"
    }
   },
   "source": [
    "Now let's do some cross-validation.  Use 29 random years 1979-2016 as\n",
    "test training data and the rest as test data.  Compute RMSE on your\n",
    "test data"
   ]
  },
  {
   "cell_type": "code",
   "execution_count": 15,
   "metadata": {
    "autoscroll": "json-false",
    "collapsed": false,
    "ein.tags": [
     "worksheet-0"
    ],
    "slideshow": {
     "slide_type": "-"
    }
   },
   "outputs": [
    {
     "name": "stdout",
     "output_type": "stream",
     "text": [
      "training years [2009 1999 2013 2002 1987 1988 2001 1979 2005 1993 2012 1995 1983 2007 1994\n",
      " 1982 2010 2003 1998 2006 2011 1991 1992 1981 2016 2008 2015 1986]\n",
      "test years [1989 1985 1990 1984 2004 2000 2014 1980 1996 1997]\n"
     ]
    }
   ],
   "source": [
    "# you may use this trainint/test split\n",
    "years = np.arange(1979,2017)\n",
    "np.random.shuffle(years)\n",
    "yearTr = years[:28]\n",
    "yearTe = years[28:]\n",
    "print(\"training years\", yearTr)\n",
    "print(\"test years\", yearTe)"
   ]
  },
  {
   "cell_type": "code",
   "execution_count": 17,
   "metadata": {
    "autoscroll": "json-false",
    "collapsed": false,
    "ein.tags": [
     "worksheet-0"
    ],
    "slideshow": {
     "slide_type": "-"
    }
   },
   "outputs": [
    {
     "data": {
      "text/html": [
       "<div>\n",
       "<table border=\"1\" class=\"dataframe\">\n",
       "  <thead>\n",
       "    <tr style=\"text-align: right;\">\n",
       "      <th></th>\n",
       "      <th>const</th>\n",
       "      <th>ext1</th>\n",
       "      <th>ext2</th>\n",
       "      <th>ext3</th>\n",
       "      <th>ext4</th>\n",
       "      <th>ext5</th>\n",
       "      <th>ext6</th>\n",
       "      <th>ext7</th>\n",
       "      <th>ext8</th>\n",
       "      <th>ext9</th>\n",
       "      <th>ext10</th>\n",
       "      <th>ext11</th>\n",
       "      <th>ext12</th>\n",
       "    </tr>\n",
       "  </thead>\n",
       "  <tbody>\n",
       "    <tr>\n",
       "      <th>1978</th>\n",
       "      <td>1.0</td>\n",
       "      <td>NaN</td>\n",
       "      <td>NaN</td>\n",
       "      <td>NaN</td>\n",
       "      <td>NaN</td>\n",
       "      <td>NaN</td>\n",
       "      <td>NaN</td>\n",
       "      <td>NaN</td>\n",
       "      <td>NaN</td>\n",
       "      <td>NaN</td>\n",
       "      <td>NaN</td>\n",
       "      <td>12.06</td>\n",
       "      <td>14.13</td>\n",
       "    </tr>\n",
       "    <tr>\n",
       "      <th>1979</th>\n",
       "      <td>1.0</td>\n",
       "      <td>15.60</td>\n",
       "      <td>16.38</td>\n",
       "      <td>16.52</td>\n",
       "      <td>15.56</td>\n",
       "      <td>14.09</td>\n",
       "      <td>12.65</td>\n",
       "      <td>10.52</td>\n",
       "      <td>8.18</td>\n",
       "      <td>7.22</td>\n",
       "      <td>9.43</td>\n",
       "      <td>11.19</td>\n",
       "      <td>13.58</td>\n",
       "    </tr>\n",
       "    <tr>\n",
       "      <th>1980</th>\n",
       "      <td>1.0</td>\n",
       "      <td>15.05</td>\n",
       "      <td>16.07</td>\n",
       "      <td>16.21</td>\n",
       "      <td>15.55</td>\n",
       "      <td>14.08</td>\n",
       "      <td>12.37</td>\n",
       "      <td>10.43</td>\n",
       "      <td>8.08</td>\n",
       "      <td>7.86</td>\n",
       "      <td>9.49</td>\n",
       "      <td>11.72</td>\n",
       "      <td>13.75</td>\n",
       "    </tr>\n",
       "    <tr>\n",
       "      <th>1981</th>\n",
       "      <td>1.0</td>\n",
       "      <td>15.11</td>\n",
       "      <td>15.75</td>\n",
       "      <td>15.70</td>\n",
       "      <td>15.19</td>\n",
       "      <td>13.92</td>\n",
       "      <td>12.62</td>\n",
       "      <td>10.67</td>\n",
       "      <td>7.89</td>\n",
       "      <td>7.25</td>\n",
       "      <td>9.21</td>\n",
       "      <td>11.21</td>\n",
       "      <td>13.78</td>\n",
       "    </tr>\n",
       "    <tr>\n",
       "      <th>1982</th>\n",
       "      <td>1.0</td>\n",
       "      <td>15.34</td>\n",
       "      <td>16.14</td>\n",
       "      <td>16.23</td>\n",
       "      <td>15.62</td>\n",
       "      <td>14.18</td>\n",
       "      <td>12.75</td>\n",
       "      <td>10.81</td>\n",
       "      <td>8.30</td>\n",
       "      <td>7.45</td>\n",
       "      <td>10.02</td>\n",
       "      <td>11.96</td>\n",
       "      <td>13.87</td>\n",
       "    </tr>\n",
       "    <tr>\n",
       "      <th>1983</th>\n",
       "      <td>1.0</td>\n",
       "      <td>15.16</td>\n",
       "      <td>16.10</td>\n",
       "      <td>16.19</td>\n",
       "      <td>15.36</td>\n",
       "      <td>13.57</td>\n",
       "      <td>12.39</td>\n",
       "      <td>10.95</td>\n",
       "      <td>8.39</td>\n",
       "      <td>7.54</td>\n",
       "      <td>9.69</td>\n",
       "      <td>11.68</td>\n",
       "      <td>13.49</td>\n",
       "    </tr>\n",
       "    <tr>\n",
       "      <th>1984</th>\n",
       "      <td>1.0</td>\n",
       "      <td>14.69</td>\n",
       "      <td>15.42</td>\n",
       "      <td>15.72</td>\n",
       "      <td>15.23</td>\n",
       "      <td>13.70</td>\n",
       "      <td>12.25</td>\n",
       "      <td>10.22</td>\n",
       "      <td>7.94</td>\n",
       "      <td>7.11</td>\n",
       "      <td>8.87</td>\n",
       "      <td>11.32</td>\n",
       "      <td>13.21</td>\n",
       "    </tr>\n",
       "    <tr>\n",
       "      <th>1985</th>\n",
       "      <td>1.0</td>\n",
       "      <td>14.96</td>\n",
       "      <td>15.77</td>\n",
       "      <td>16.14</td>\n",
       "      <td>15.41</td>\n",
       "      <td>14.26</td>\n",
       "      <td>12.45</td>\n",
       "      <td>10.16</td>\n",
       "      <td>7.50</td>\n",
       "      <td>6.94</td>\n",
       "      <td>8.92</td>\n",
       "      <td>11.42</td>\n",
       "      <td>13.25</td>\n",
       "    </tr>\n",
       "    <tr>\n",
       "      <th>1986</th>\n",
       "      <td>1.0</td>\n",
       "      <td>15.12</td>\n",
       "      <td>15.99</td>\n",
       "      <td>16.16</td>\n",
       "      <td>15.23</td>\n",
       "      <td>13.55</td>\n",
       "      <td>12.14</td>\n",
       "      <td>10.50</td>\n",
       "      <td>8.04</td>\n",
       "      <td>7.55</td>\n",
       "      <td>9.92</td>\n",
       "      <td>11.81</td>\n",
       "      <td>13.46</td>\n",
       "    </tr>\n",
       "    <tr>\n",
       "      <th>1987</th>\n",
       "      <td>1.0</td>\n",
       "      <td>15.28</td>\n",
       "      <td>16.21</td>\n",
       "      <td>16.02</td>\n",
       "      <td>15.38</td>\n",
       "      <td>13.85</td>\n",
       "      <td>12.61</td>\n",
       "      <td>10.81</td>\n",
       "      <td>7.72</td>\n",
       "      <td>7.51</td>\n",
       "      <td>9.33</td>\n",
       "      <td>11.59</td>\n",
       "      <td>NaN</td>\n",
       "    </tr>\n",
       "    <tr>\n",
       "      <th>1988</th>\n",
       "      <td>1.0</td>\n",
       "      <td>NaN</td>\n",
       "      <td>15.73</td>\n",
       "      <td>16.23</td>\n",
       "      <td>15.32</td>\n",
       "      <td>13.75</td>\n",
       "      <td>12.11</td>\n",
       "      <td>10.12</td>\n",
       "      <td>7.99</td>\n",
       "      <td>7.53</td>\n",
       "      <td>9.51</td>\n",
       "      <td>11.73</td>\n",
       "      <td>13.87</td>\n",
       "    </tr>\n",
       "    <tr>\n",
       "      <th>1989</th>\n",
       "      <td>1.0</td>\n",
       "      <td>15.23</td>\n",
       "      <td>15.67</td>\n",
       "      <td>15.62</td>\n",
       "      <td>14.53</td>\n",
       "      <td>13.05</td>\n",
       "      <td>12.37</td>\n",
       "      <td>10.47</td>\n",
       "      <td>8.00</td>\n",
       "      <td>7.08</td>\n",
       "      <td>9.55</td>\n",
       "      <td>11.57</td>\n",
       "      <td>13.57</td>\n",
       "    </tr>\n",
       "    <tr>\n",
       "      <th>1990</th>\n",
       "      <td>1.0</td>\n",
       "      <td>15.07</td>\n",
       "      <td>15.69</td>\n",
       "      <td>15.99</td>\n",
       "      <td>14.79</td>\n",
       "      <td>13.36</td>\n",
       "      <td>11.77</td>\n",
       "      <td>9.68</td>\n",
       "      <td>6.87</td>\n",
       "      <td>6.27</td>\n",
       "      <td>9.40</td>\n",
       "      <td>11.37</td>\n",
       "      <td>13.36</td>\n",
       "    </tr>\n",
       "    <tr>\n",
       "      <th>1991</th>\n",
       "      <td>1.0</td>\n",
       "      <td>14.58</td>\n",
       "      <td>15.37</td>\n",
       "      <td>15.60</td>\n",
       "      <td>15.03</td>\n",
       "      <td>13.58</td>\n",
       "      <td>12.29</td>\n",
       "      <td>9.76</td>\n",
       "      <td>7.46</td>\n",
       "      <td>6.59</td>\n",
       "      <td>9.20</td>\n",
       "      <td>11.16</td>\n",
       "      <td>13.21</td>\n",
       "    </tr>\n",
       "    <tr>\n",
       "      <th>1992</th>\n",
       "      <td>1.0</td>\n",
       "      <td>14.86</td>\n",
       "      <td>15.62</td>\n",
       "      <td>15.62</td>\n",
       "      <td>14.80</td>\n",
       "      <td>13.31</td>\n",
       "      <td>12.20</td>\n",
       "      <td>10.70</td>\n",
       "      <td>7.96</td>\n",
       "      <td>7.59</td>\n",
       "      <td>9.64</td>\n",
       "      <td>11.91</td>\n",
       "      <td>13.53</td>\n",
       "    </tr>\n",
       "    <tr>\n",
       "      <th>1993</th>\n",
       "      <td>1.0</td>\n",
       "      <td>15.20</td>\n",
       "      <td>15.85</td>\n",
       "      <td>15.98</td>\n",
       "      <td>15.30</td>\n",
       "      <td>13.60</td>\n",
       "      <td>12.07</td>\n",
       "      <td>9.74</td>\n",
       "      <td>7.39</td>\n",
       "      <td>6.54</td>\n",
       "      <td>9.25</td>\n",
       "      <td>11.78</td>\n",
       "      <td>13.58</td>\n",
       "    </tr>\n",
       "    <tr>\n",
       "      <th>1994</th>\n",
       "      <td>1.0</td>\n",
       "      <td>14.94</td>\n",
       "      <td>15.72</td>\n",
       "      <td>15.71</td>\n",
       "      <td>15.07</td>\n",
       "      <td>13.82</td>\n",
       "      <td>12.16</td>\n",
       "      <td>10.30</td>\n",
       "      <td>7.70</td>\n",
       "      <td>7.24</td>\n",
       "      <td>9.53</td>\n",
       "      <td>11.35</td>\n",
       "      <td>13.61</td>\n",
       "    </tr>\n",
       "    <tr>\n",
       "      <th>1995</th>\n",
       "      <td>1.0</td>\n",
       "      <td>14.74</td>\n",
       "      <td>15.37</td>\n",
       "      <td>15.44</td>\n",
       "      <td>14.71</td>\n",
       "      <td>13.22</td>\n",
       "      <td>11.66</td>\n",
       "      <td>9.23</td>\n",
       "      <td>6.75</td>\n",
       "      <td>6.18</td>\n",
       "      <td>8.98</td>\n",
       "      <td>11.05</td>\n",
       "      <td>13.09</td>\n",
       "    </tr>\n",
       "    <tr>\n",
       "      <th>1996</th>\n",
       "      <td>1.0</td>\n",
       "      <td>14.35</td>\n",
       "      <td>15.32</td>\n",
       "      <td>15.25</td>\n",
       "      <td>14.35</td>\n",
       "      <td>13.14</td>\n",
       "      <td>12.17</td>\n",
       "      <td>10.46</td>\n",
       "      <td>8.29</td>\n",
       "      <td>7.91</td>\n",
       "      <td>9.43</td>\n",
       "      <td>10.61</td>\n",
       "      <td>13.21</td>\n",
       "    </tr>\n",
       "    <tr>\n",
       "      <th>1997</th>\n",
       "      <td>1.0</td>\n",
       "      <td>14.62</td>\n",
       "      <td>15.63</td>\n",
       "      <td>15.69</td>\n",
       "      <td>14.69</td>\n",
       "      <td>13.39</td>\n",
       "      <td>11.99</td>\n",
       "      <td>9.66</td>\n",
       "      <td>7.35</td>\n",
       "      <td>6.78</td>\n",
       "      <td>8.80</td>\n",
       "      <td>10.94</td>\n",
       "      <td>13.35</td>\n",
       "    </tr>\n",
       "    <tr>\n",
       "      <th>1998</th>\n",
       "      <td>1.0</td>\n",
       "      <td>14.94</td>\n",
       "      <td>15.90</td>\n",
       "      <td>15.78</td>\n",
       "      <td>14.99</td>\n",
       "      <td>13.86</td>\n",
       "      <td>11.95</td>\n",
       "      <td>9.67</td>\n",
       "      <td>7.56</td>\n",
       "      <td>6.62</td>\n",
       "      <td>8.89</td>\n",
       "      <td>10.79</td>\n",
       "      <td>13.34</td>\n",
       "    </tr>\n",
       "    <tr>\n",
       "      <th>1999</th>\n",
       "      <td>1.0</td>\n",
       "      <td>14.57</td>\n",
       "      <td>15.48</td>\n",
       "      <td>15.52</td>\n",
       "      <td>15.24</td>\n",
       "      <td>13.92</td>\n",
       "      <td>12.19</td>\n",
       "      <td>9.65</td>\n",
       "      <td>7.44</td>\n",
       "      <td>6.29</td>\n",
       "      <td>9.14</td>\n",
       "      <td>11.03</td>\n",
       "      <td>12.95</td>\n",
       "    </tr>\n",
       "    <tr>\n",
       "      <th>2000</th>\n",
       "      <td>1.0</td>\n",
       "      <td>14.54</td>\n",
       "      <td>15.30</td>\n",
       "      <td>15.38</td>\n",
       "      <td>14.75</td>\n",
       "      <td>13.26</td>\n",
       "      <td>11.80</td>\n",
       "      <td>9.81</td>\n",
       "      <td>7.27</td>\n",
       "      <td>6.36</td>\n",
       "      <td>8.95</td>\n",
       "      <td>10.58</td>\n",
       "      <td>12.89</td>\n",
       "    </tr>\n",
       "    <tr>\n",
       "      <th>2001</th>\n",
       "      <td>1.0</td>\n",
       "      <td>14.42</td>\n",
       "      <td>15.42</td>\n",
       "      <td>15.72</td>\n",
       "      <td>14.97</td>\n",
       "      <td>13.78</td>\n",
       "      <td>11.75</td>\n",
       "      <td>9.28</td>\n",
       "      <td>7.53</td>\n",
       "      <td>6.78</td>\n",
       "      <td>8.60</td>\n",
       "      <td>10.94</td>\n",
       "      <td>12.92</td>\n",
       "    </tr>\n",
       "    <tr>\n",
       "      <th>2002</th>\n",
       "      <td>1.0</td>\n",
       "      <td>14.57</td>\n",
       "      <td>15.47</td>\n",
       "      <td>15.54</td>\n",
       "      <td>14.46</td>\n",
       "      <td>13.18</td>\n",
       "      <td>11.77</td>\n",
       "      <td>9.58</td>\n",
       "      <td>6.57</td>\n",
       "      <td>5.98</td>\n",
       "      <td>8.83</td>\n",
       "      <td>10.80</td>\n",
       "      <td>12.89</td>\n",
       "    </tr>\n",
       "    <tr>\n",
       "      <th>2003</th>\n",
       "      <td>1.0</td>\n",
       "      <td>14.59</td>\n",
       "      <td>15.35</td>\n",
       "      <td>15.61</td>\n",
       "      <td>14.68</td>\n",
       "      <td>13.09</td>\n",
       "      <td>11.85</td>\n",
       "      <td>9.53</td>\n",
       "      <td>6.93</td>\n",
       "      <td>6.18</td>\n",
       "      <td>8.67</td>\n",
       "      <td>10.32</td>\n",
       "      <td>12.89</td>\n",
       "    </tr>\n",
       "    <tr>\n",
       "      <th>2004</th>\n",
       "      <td>1.0</td>\n",
       "      <td>14.15</td>\n",
       "      <td>15.04</td>\n",
       "      <td>15.15</td>\n",
       "      <td>14.20</td>\n",
       "      <td>12.64</td>\n",
       "      <td>11.58</td>\n",
       "      <td>9.65</td>\n",
       "      <td>6.87</td>\n",
       "      <td>6.08</td>\n",
       "      <td>8.50</td>\n",
       "      <td>10.66</td>\n",
       "      <td>12.80</td>\n",
       "    </tr>\n",
       "    <tr>\n",
       "      <th>2005</th>\n",
       "      <td>1.0</td>\n",
       "      <td>13.81</td>\n",
       "      <td>14.50</td>\n",
       "      <td>14.85</td>\n",
       "      <td>14.18</td>\n",
       "      <td>13.07</td>\n",
       "      <td>11.38</td>\n",
       "      <td>8.99</td>\n",
       "      <td>6.33</td>\n",
       "      <td>5.59</td>\n",
       "      <td>8.49</td>\n",
       "      <td>10.51</td>\n",
       "      <td>12.55</td>\n",
       "    </tr>\n",
       "    <tr>\n",
       "      <th>2006</th>\n",
       "      <td>1.0</td>\n",
       "      <td>13.72</td>\n",
       "      <td>14.54</td>\n",
       "      <td>14.54</td>\n",
       "      <td>14.07</td>\n",
       "      <td>12.68</td>\n",
       "      <td>11.13</td>\n",
       "      <td>8.74</td>\n",
       "      <td>6.56</td>\n",
       "      <td>5.95</td>\n",
       "      <td>8.36</td>\n",
       "      <td>9.88</td>\n",
       "      <td>12.33</td>\n",
       "    </tr>\n",
       "    <tr>\n",
       "      <th>2007</th>\n",
       "      <td>1.0</td>\n",
       "      <td>13.89</td>\n",
       "      <td>14.65</td>\n",
       "      <td>14.76</td>\n",
       "      <td>13.97</td>\n",
       "      <td>12.96</td>\n",
       "      <td>11.59</td>\n",
       "      <td>8.19</td>\n",
       "      <td>5.41</td>\n",
       "      <td>4.32</td>\n",
       "      <td>6.80</td>\n",
       "      <td>10.08</td>\n",
       "      <td>12.45</td>\n",
       "    </tr>\n",
       "    <tr>\n",
       "      <th>2008</th>\n",
       "      <td>1.0</td>\n",
       "      <td>14.14</td>\n",
       "      <td>15.09</td>\n",
       "      <td>15.33</td>\n",
       "      <td>14.49</td>\n",
       "      <td>13.23</td>\n",
       "      <td>11.41</td>\n",
       "      <td>9.01</td>\n",
       "      <td>6.07</td>\n",
       "      <td>4.74</td>\n",
       "      <td>8.44</td>\n",
       "      <td>10.64</td>\n",
       "      <td>12.57</td>\n",
       "    </tr>\n",
       "    <tr>\n",
       "      <th>2009</th>\n",
       "      <td>1.0</td>\n",
       "      <td>14.19</td>\n",
       "      <td>14.93</td>\n",
       "      <td>15.21</td>\n",
       "      <td>14.64</td>\n",
       "      <td>13.43</td>\n",
       "      <td>11.51</td>\n",
       "      <td>8.84</td>\n",
       "      <td>6.29</td>\n",
       "      <td>5.39</td>\n",
       "      <td>7.55</td>\n",
       "      <td>10.26</td>\n",
       "      <td>12.56</td>\n",
       "    </tr>\n",
       "    <tr>\n",
       "      <th>2010</th>\n",
       "      <td>1.0</td>\n",
       "      <td>13.91</td>\n",
       "      <td>14.70</td>\n",
       "      <td>15.19</td>\n",
       "      <td>14.76</td>\n",
       "      <td>13.17</td>\n",
       "      <td>10.86</td>\n",
       "      <td>8.38</td>\n",
       "      <td>6.03</td>\n",
       "      <td>4.93</td>\n",
       "      <td>7.73</td>\n",
       "      <td>9.89</td>\n",
       "      <td>12.07</td>\n",
       "    </tr>\n",
       "    <tr>\n",
       "      <th>2011</th>\n",
       "      <td>1.0</td>\n",
       "      <td>13.69</td>\n",
       "      <td>14.49</td>\n",
       "      <td>14.67</td>\n",
       "      <td>14.22</td>\n",
       "      <td>12.88</td>\n",
       "      <td>11.04</td>\n",
       "      <td>7.94</td>\n",
       "      <td>5.57</td>\n",
       "      <td>4.63</td>\n",
       "      <td>7.17</td>\n",
       "      <td>10.03</td>\n",
       "      <td>12.47</td>\n",
       "    </tr>\n",
       "    <tr>\n",
       "      <th>2012</th>\n",
       "      <td>1.0</td>\n",
       "      <td>13.86</td>\n",
       "      <td>14.70</td>\n",
       "      <td>15.31</td>\n",
       "      <td>14.78</td>\n",
       "      <td>13.16</td>\n",
       "      <td>10.97</td>\n",
       "      <td>7.96</td>\n",
       "      <td>4.71</td>\n",
       "      <td>3.63</td>\n",
       "      <td>7.09</td>\n",
       "      <td>9.94</td>\n",
       "      <td>12.26</td>\n",
       "    </tr>\n",
       "    <tr>\n",
       "      <th>2013</th>\n",
       "      <td>1.0</td>\n",
       "      <td>13.91</td>\n",
       "      <td>14.81</td>\n",
       "      <td>15.16</td>\n",
       "      <td>14.44</td>\n",
       "      <td>13.13</td>\n",
       "      <td>11.60</td>\n",
       "      <td>8.45</td>\n",
       "      <td>6.10</td>\n",
       "      <td>5.35</td>\n",
       "      <td>8.15</td>\n",
       "      <td>10.26</td>\n",
       "      <td>12.45</td>\n",
       "    </tr>\n",
       "    <tr>\n",
       "      <th>2014</th>\n",
       "      <td>1.0</td>\n",
       "      <td>13.86</td>\n",
       "      <td>14.55</td>\n",
       "      <td>14.87</td>\n",
       "      <td>14.25</td>\n",
       "      <td>12.80</td>\n",
       "      <td>11.34</td>\n",
       "      <td>8.28</td>\n",
       "      <td>6.23</td>\n",
       "      <td>5.29</td>\n",
       "      <td>8.12</td>\n",
       "      <td>10.38</td>\n",
       "      <td>12.59</td>\n",
       "    </tr>\n",
       "    <tr>\n",
       "      <th>2015</th>\n",
       "      <td>1.0</td>\n",
       "      <td>13.75</td>\n",
       "      <td>14.51</td>\n",
       "      <td>14.49</td>\n",
       "      <td>13.98</td>\n",
       "      <td>12.69</td>\n",
       "      <td>11.05</td>\n",
       "      <td>8.83</td>\n",
       "      <td>5.66</td>\n",
       "      <td>4.68</td>\n",
       "      <td>7.79</td>\n",
       "      <td>10.11</td>\n",
       "      <td>12.33</td>\n",
       "    </tr>\n",
       "    <tr>\n",
       "      <th>2016</th>\n",
       "      <td>1.0</td>\n",
       "      <td>13.64</td>\n",
       "      <td>14.32</td>\n",
       "      <td>14.53</td>\n",
       "      <td>13.83</td>\n",
       "      <td>12.08</td>\n",
       "      <td>10.60</td>\n",
       "      <td>8.13</td>\n",
       "      <td>5.60</td>\n",
       "      <td>4.72</td>\n",
       "      <td>6.45</td>\n",
       "      <td>9.08</td>\n",
       "      <td>12.09</td>\n",
       "    </tr>\n",
       "    <tr>\n",
       "      <th>2017</th>\n",
       "      <td>1.0</td>\n",
       "      <td>13.38</td>\n",
       "      <td>14.28</td>\n",
       "      <td>14.43</td>\n",
       "      <td>13.83</td>\n",
       "      <td>NaN</td>\n",
       "      <td>NaN</td>\n",
       "      <td>NaN</td>\n",
       "      <td>NaN</td>\n",
       "      <td>NaN</td>\n",
       "      <td>NaN</td>\n",
       "      <td>NaN</td>\n",
       "      <td>NaN</td>\n",
       "    </tr>\n",
       "  </tbody>\n",
       "</table>\n",
       "</div>"
      ],
      "text/plain": [
       "      const   ext1   ext2   ext3   ext4   ext5   ext6   ext7  ext8  ext9  \\\n",
       "1978    1.0    NaN    NaN    NaN    NaN    NaN    NaN    NaN   NaN   NaN   \n",
       "1979    1.0  15.60  16.38  16.52  15.56  14.09  12.65  10.52  8.18  7.22   \n",
       "1980    1.0  15.05  16.07  16.21  15.55  14.08  12.37  10.43  8.08  7.86   \n",
       "1981    1.0  15.11  15.75  15.70  15.19  13.92  12.62  10.67  7.89  7.25   \n",
       "1982    1.0  15.34  16.14  16.23  15.62  14.18  12.75  10.81  8.30  7.45   \n",
       "1983    1.0  15.16  16.10  16.19  15.36  13.57  12.39  10.95  8.39  7.54   \n",
       "1984    1.0  14.69  15.42  15.72  15.23  13.70  12.25  10.22  7.94  7.11   \n",
       "1985    1.0  14.96  15.77  16.14  15.41  14.26  12.45  10.16  7.50  6.94   \n",
       "1986    1.0  15.12  15.99  16.16  15.23  13.55  12.14  10.50  8.04  7.55   \n",
       "1987    1.0  15.28  16.21  16.02  15.38  13.85  12.61  10.81  7.72  7.51   \n",
       "1988    1.0    NaN  15.73  16.23  15.32  13.75  12.11  10.12  7.99  7.53   \n",
       "1989    1.0  15.23  15.67  15.62  14.53  13.05  12.37  10.47  8.00  7.08   \n",
       "1990    1.0  15.07  15.69  15.99  14.79  13.36  11.77   9.68  6.87  6.27   \n",
       "1991    1.0  14.58  15.37  15.60  15.03  13.58  12.29   9.76  7.46  6.59   \n",
       "1992    1.0  14.86  15.62  15.62  14.80  13.31  12.20  10.70  7.96  7.59   \n",
       "1993    1.0  15.20  15.85  15.98  15.30  13.60  12.07   9.74  7.39  6.54   \n",
       "1994    1.0  14.94  15.72  15.71  15.07  13.82  12.16  10.30  7.70  7.24   \n",
       "1995    1.0  14.74  15.37  15.44  14.71  13.22  11.66   9.23  6.75  6.18   \n",
       "1996    1.0  14.35  15.32  15.25  14.35  13.14  12.17  10.46  8.29  7.91   \n",
       "1997    1.0  14.62  15.63  15.69  14.69  13.39  11.99   9.66  7.35  6.78   \n",
       "1998    1.0  14.94  15.90  15.78  14.99  13.86  11.95   9.67  7.56  6.62   \n",
       "1999    1.0  14.57  15.48  15.52  15.24  13.92  12.19   9.65  7.44  6.29   \n",
       "2000    1.0  14.54  15.30  15.38  14.75  13.26  11.80   9.81  7.27  6.36   \n",
       "2001    1.0  14.42  15.42  15.72  14.97  13.78  11.75   9.28  7.53  6.78   \n",
       "2002    1.0  14.57  15.47  15.54  14.46  13.18  11.77   9.58  6.57  5.98   \n",
       "2003    1.0  14.59  15.35  15.61  14.68  13.09  11.85   9.53  6.93  6.18   \n",
       "2004    1.0  14.15  15.04  15.15  14.20  12.64  11.58   9.65  6.87  6.08   \n",
       "2005    1.0  13.81  14.50  14.85  14.18  13.07  11.38   8.99  6.33  5.59   \n",
       "2006    1.0  13.72  14.54  14.54  14.07  12.68  11.13   8.74  6.56  5.95   \n",
       "2007    1.0  13.89  14.65  14.76  13.97  12.96  11.59   8.19  5.41  4.32   \n",
       "2008    1.0  14.14  15.09  15.33  14.49  13.23  11.41   9.01  6.07  4.74   \n",
       "2009    1.0  14.19  14.93  15.21  14.64  13.43  11.51   8.84  6.29  5.39   \n",
       "2010    1.0  13.91  14.70  15.19  14.76  13.17  10.86   8.38  6.03  4.93   \n",
       "2011    1.0  13.69  14.49  14.67  14.22  12.88  11.04   7.94  5.57  4.63   \n",
       "2012    1.0  13.86  14.70  15.31  14.78  13.16  10.97   7.96  4.71  3.63   \n",
       "2013    1.0  13.91  14.81  15.16  14.44  13.13  11.60   8.45  6.10  5.35   \n",
       "2014    1.0  13.86  14.55  14.87  14.25  12.80  11.34   8.28  6.23  5.29   \n",
       "2015    1.0  13.75  14.51  14.49  13.98  12.69  11.05   8.83  5.66  4.68   \n",
       "2016    1.0  13.64  14.32  14.53  13.83  12.08  10.60   8.13  5.60  4.72   \n",
       "2017    1.0  13.38  14.28  14.43  13.83    NaN    NaN    NaN   NaN   NaN   \n",
       "\n",
       "      ext10  ext11  ext12  \n",
       "1978    NaN  12.06  14.13  \n",
       "1979   9.43  11.19  13.58  \n",
       "1980   9.49  11.72  13.75  \n",
       "1981   9.21  11.21  13.78  \n",
       "1982  10.02  11.96  13.87  \n",
       "1983   9.69  11.68  13.49  \n",
       "1984   8.87  11.32  13.21  \n",
       "1985   8.92  11.42  13.25  \n",
       "1986   9.92  11.81  13.46  \n",
       "1987   9.33  11.59    NaN  \n",
       "1988   9.51  11.73  13.87  \n",
       "1989   9.55  11.57  13.57  \n",
       "1990   9.40  11.37  13.36  \n",
       "1991   9.20  11.16  13.21  \n",
       "1992   9.64  11.91  13.53  \n",
       "1993   9.25  11.78  13.58  \n",
       "1994   9.53  11.35  13.61  \n",
       "1995   8.98  11.05  13.09  \n",
       "1996   9.43  10.61  13.21  \n",
       "1997   8.80  10.94  13.35  \n",
       "1998   8.89  10.79  13.34  \n",
       "1999   9.14  11.03  12.95  \n",
       "2000   8.95  10.58  12.89  \n",
       "2001   8.60  10.94  12.92  \n",
       "2002   8.83  10.80  12.89  \n",
       "2003   8.67  10.32  12.89  \n",
       "2004   8.50  10.66  12.80  \n",
       "2005   8.49  10.51  12.55  \n",
       "2006   8.36   9.88  12.33  \n",
       "2007   6.80  10.08  12.45  \n",
       "2008   8.44  10.64  12.57  \n",
       "2009   7.55  10.26  12.56  \n",
       "2010   7.73   9.89  12.07  \n",
       "2011   7.17  10.03  12.47  \n",
       "2012   7.09   9.94  12.26  \n",
       "2013   8.15  10.26  12.45  \n",
       "2014   8.12  10.38  12.59  \n",
       "2015   7.79  10.11  12.33  \n",
       "2016   6.45   9.08  12.09  \n",
       "2017    NaN    NaN    NaN  "
      ]
     },
     "execution_count": 17,
     "metadata": {},
     "output_type": "execute_result"
    }
   ],
   "source": [
    "v = [\"ext1\", \"ext2\", \"ext3\", \"ext4\"]\n",
    "xtr = data.loc[yearTr].as_matrix(v)\n",
    "ytr = data.loc[yearTr].as_matrix([\"ext9\"])\n",
    "# note: your test data will be data.loc[yearTe]. ...\n",
    "# remove nan-s:\n",
    "i = np.isnan(xtr).any(axis=1)\n",
    "j = np.isnan(ytr).any(axis=1)\n",
    "xtr = xtr[~(i | j)]\n",
    "ytr = ytr[~(i | j)]\n",
    "## and now do it\n",
    "data"
   ]
  },
  {
   "cell_type": "markdown",
   "metadata": {
    "ein.tags": [
     "worksheet-0"
    ],
    "slideshow": {
     "slide_type": "-"
    }
   },
   "source": [
    "And finally plot true-versus predicted"
   ]
  },
  {
   "cell_type": "code",
   "execution_count": 13,
   "metadata": {
    "autoscroll": "json-false",
    "collapsed": false,
    "ein.tags": [
     "worksheet-0"
    ],
    "slideshow": {
     "slide_type": "-"
    }
   },
   "outputs": [],
   "source": [
    "# plt.scatter ....\n"
   ]
  }
 ],
 "metadata": {
  "kernelspec": {
   "display_name": "Python 3",
   "language": "python",
   "name": "python3"
  },
  "language_info": {
   "codemirror_mode": {
    "name": "ipython",
    "version": 3
   },
   "file_extension": ".py",
   "mimetype": "text/x-python",
   "name": "python",
   "nbconvert_exporter": "python",
   "pygments_lexer": "ipython3",
   "version": "3.6.0"
  }
 },
 "nbformat": 4,
 "nbformat_minor": 2
}
