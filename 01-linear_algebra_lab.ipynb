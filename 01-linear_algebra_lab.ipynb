{
 "cells": [
  {
   "cell_type": "markdown",
   "metadata": {
    "ein.tags": [
     "worksheet-0"
    ],
    "slideshow": {
     "slide_type": "-"
    }
   },
   "source": [
    "### In-class exercise for Tue, 2017-04-12.  If submitted by midnight, Thu, April 13th, you will earn 3 participation credits."
   ]
  },
  {
   "cell_type": "code",
   "execution_count": 123,
   "metadata": {
    "autoscroll": "json-false",
    "collapsed": false,
    "ein.tags": [
     "worksheet-0"
    ],
    "slideshow": {
     "slide_type": "-"
    }
   },
   "outputs": [],
   "source": [
    "import numpy as np\n",
    "import pandas as pd"
   ]
  },
  {
   "cell_type": "markdown",
   "metadata": {
    "ein.tags": [
     "worksheet-0"
    ],
    "slideshow": {
     "slide_type": "-"
    }
   },
   "source": [
    "## 1. Solve the following system of equations:\n",
    "\n",
    "x1 + 2\\*x2 = 7\n",
    "-x2 + x3 = 6\n",
    "x1 - 4\\*x2 + x3 = -2\n",
    "\n",
    "Use linear algebra (feel free to check your LA result with other methods if you have nothing better to do ;-) \n"
   ]
  },
  {
   "cell_type": "code",
   "execution_count": 124,
   "metadata": {
    "autoscroll": "json-false",
    "collapsed": false,
    "ein.tags": [
     "worksheet-0"
    ],
    "slideshow": {
     "slide_type": "-"
    }
   },
   "outputs": [
    {
     "data": {
      "text/plain": [
       "array([ 1.,  3.,  9.])"
      ]
     },
     "execution_count": 124,
     "metadata": {},
     "output_type": "execute_result"
    }
   ],
   "source": [
    "a = np.array([(1,2,0),(0,-1,1),(1,-4,1)])\n",
    "b = np.array([7,6,-2])\n",
    "x = np.linalg.solve(a,b)\n",
    "x"
   ]
  },
  {
   "cell_type": "markdown",
   "metadata": {
    "ein.tags": [
     "worksheet-0"
    ],
    "slideshow": {
     "slide_type": "-"
    }
   },
   "source": [
    "## 2. Condition number\n",
    "Read the AmesHousing dataset documentation.  It is sales price data for Ames, IA, the variable 'SalePrice' represents the sale price in USD.  We are working toward predicting the price based on the observed features.  (but we don't get that far...)\n",
    "\n",
    "Determine the data type and import this data into python.  Ensure you imported it correctly."
   ]
  },
  {
   "cell_type": "code",
   "execution_count": 145,
   "metadata": {
    "autoscroll": "json-false",
    "collapsed": false,
    "ein.tags": [
     "worksheet-0"
    ],
    "slideshow": {
     "slide_type": "-"
    }
   },
   "outputs": [],
   "source": [
    "housing_df = pd.read_csv('ameshousing.csv', sep = '\\t')"
   ]
  },
  {
   "cell_type": "markdown",
   "metadata": {
    "ein.tags": [
     "worksheet-0"
    ],
    "slideshow": {
     "slide_type": "-"
    }
   },
   "source": [
    "2.1 The dataset includes a large number of variables.  Some of these are numeric (continuous), some are categoric (nominal) and others are ordered (ordinal).  However, many statistical methods can only handle numeric variables.\n",
    "\n",
    "Look at variable 'Street'.  Is it numeric, categorical, or ordered?"
   ]
  },
  {
   "cell_type": "code",
   "execution_count": 85,
   "metadata": {
    "autoscroll": "json-false",
    "collapsed": false,
    "ein.tags": [
     "worksheet-0"
    ],
    "slideshow": {
     "slide_type": "-"
    }
   },
   "outputs": [
    {
     "data": {
      "text/plain": [
       "str"
      ]
     },
     "execution_count": 85,
     "metadata": {},
     "output_type": "execute_result"
    }
   ],
   "source": [
    "type(housing_df['Street'][1])"
   ]
  },
  {
   "cell_type": "markdown",
   "metadata": {},
   "source": [
    "The 'Street' variable's value is string type. So it is a categorical variable."
   ]
  },
  {
   "cell_type": "markdown",
   "metadata": {
    "ein.tags": [
     "worksheet-0"
    ],
    "slideshow": {
     "slide_type": "-"
    }
   },
   "source": [
    "2.2 A standard approach to handle categorical variables is to create *dummies* out of these.  This can be achieved by 'pd.get_dummies()' function.  Transform 'Street' into dummies.  How many of these do you need in your calculations?"
   ]
  },
  {
   "cell_type": "code",
   "execution_count": 146,
   "metadata": {
    "autoscroll": "json-false",
    "collapsed": false,
    "ein.tags": [
     "worksheet-0"
    ],
    "slideshow": {
     "slide_type": "-"
    }
   },
   "outputs": [
    {
     "data": {
      "text/html": [
       "<div>\n",
       "<table border=\"1\" class=\"dataframe\">\n",
       "  <thead>\n",
       "    <tr style=\"text-align: right;\">\n",
       "      <th></th>\n",
       "      <th>Order</th>\n",
       "      <th>PID</th>\n",
       "      <th>MS SubClass</th>\n",
       "      <th>MS Zoning</th>\n",
       "      <th>Lot Frontage</th>\n",
       "      <th>Lot Area</th>\n",
       "      <th>Street</th>\n",
       "      <th>Alley</th>\n",
       "      <th>Lot Shape</th>\n",
       "      <th>Land Contour</th>\n",
       "      <th>...</th>\n",
       "      <th>Fence</th>\n",
       "      <th>Misc Feature</th>\n",
       "      <th>Misc Val</th>\n",
       "      <th>Mo Sold</th>\n",
       "      <th>Yr Sold</th>\n",
       "      <th>Sale Type</th>\n",
       "      <th>Sale Condition</th>\n",
       "      <th>SalePrice</th>\n",
       "      <th>Grvl</th>\n",
       "      <th>Pave</th>\n",
       "    </tr>\n",
       "  </thead>\n",
       "  <tbody>\n",
       "    <tr>\n",
       "      <th>0</th>\n",
       "      <td>1</td>\n",
       "      <td>526301100</td>\n",
       "      <td>20</td>\n",
       "      <td>RL</td>\n",
       "      <td>141.0</td>\n",
       "      <td>31770</td>\n",
       "      <td>Pave</td>\n",
       "      <td>NaN</td>\n",
       "      <td>IR1</td>\n",
       "      <td>Lvl</td>\n",
       "      <td>...</td>\n",
       "      <td>NaN</td>\n",
       "      <td>NaN</td>\n",
       "      <td>0</td>\n",
       "      <td>5</td>\n",
       "      <td>2010</td>\n",
       "      <td>WD</td>\n",
       "      <td>Normal</td>\n",
       "      <td>215000</td>\n",
       "      <td>0</td>\n",
       "      <td>1</td>\n",
       "    </tr>\n",
       "    <tr>\n",
       "      <th>1</th>\n",
       "      <td>2</td>\n",
       "      <td>526350040</td>\n",
       "      <td>20</td>\n",
       "      <td>RH</td>\n",
       "      <td>80.0</td>\n",
       "      <td>11622</td>\n",
       "      <td>Pave</td>\n",
       "      <td>NaN</td>\n",
       "      <td>Reg</td>\n",
       "      <td>Lvl</td>\n",
       "      <td>...</td>\n",
       "      <td>MnPrv</td>\n",
       "      <td>NaN</td>\n",
       "      <td>0</td>\n",
       "      <td>6</td>\n",
       "      <td>2010</td>\n",
       "      <td>WD</td>\n",
       "      <td>Normal</td>\n",
       "      <td>105000</td>\n",
       "      <td>0</td>\n",
       "      <td>1</td>\n",
       "    </tr>\n",
       "    <tr>\n",
       "      <th>2</th>\n",
       "      <td>3</td>\n",
       "      <td>526351010</td>\n",
       "      <td>20</td>\n",
       "      <td>RL</td>\n",
       "      <td>81.0</td>\n",
       "      <td>14267</td>\n",
       "      <td>Pave</td>\n",
       "      <td>NaN</td>\n",
       "      <td>IR1</td>\n",
       "      <td>Lvl</td>\n",
       "      <td>...</td>\n",
       "      <td>NaN</td>\n",
       "      <td>Gar2</td>\n",
       "      <td>12500</td>\n",
       "      <td>6</td>\n",
       "      <td>2010</td>\n",
       "      <td>WD</td>\n",
       "      <td>Normal</td>\n",
       "      <td>172000</td>\n",
       "      <td>0</td>\n",
       "      <td>1</td>\n",
       "    </tr>\n",
       "    <tr>\n",
       "      <th>3</th>\n",
       "      <td>4</td>\n",
       "      <td>526353030</td>\n",
       "      <td>20</td>\n",
       "      <td>RL</td>\n",
       "      <td>93.0</td>\n",
       "      <td>11160</td>\n",
       "      <td>Pave</td>\n",
       "      <td>NaN</td>\n",
       "      <td>Reg</td>\n",
       "      <td>Lvl</td>\n",
       "      <td>...</td>\n",
       "      <td>NaN</td>\n",
       "      <td>NaN</td>\n",
       "      <td>0</td>\n",
       "      <td>4</td>\n",
       "      <td>2010</td>\n",
       "      <td>WD</td>\n",
       "      <td>Normal</td>\n",
       "      <td>244000</td>\n",
       "      <td>0</td>\n",
       "      <td>1</td>\n",
       "    </tr>\n",
       "    <tr>\n",
       "      <th>4</th>\n",
       "      <td>5</td>\n",
       "      <td>527105010</td>\n",
       "      <td>60</td>\n",
       "      <td>RL</td>\n",
       "      <td>74.0</td>\n",
       "      <td>13830</td>\n",
       "      <td>Pave</td>\n",
       "      <td>NaN</td>\n",
       "      <td>IR1</td>\n",
       "      <td>Lvl</td>\n",
       "      <td>...</td>\n",
       "      <td>MnPrv</td>\n",
       "      <td>NaN</td>\n",
       "      <td>0</td>\n",
       "      <td>3</td>\n",
       "      <td>2010</td>\n",
       "      <td>WD</td>\n",
       "      <td>Normal</td>\n",
       "      <td>189900</td>\n",
       "      <td>0</td>\n",
       "      <td>1</td>\n",
       "    </tr>\n",
       "    <tr>\n",
       "      <th>5</th>\n",
       "      <td>6</td>\n",
       "      <td>527105030</td>\n",
       "      <td>60</td>\n",
       "      <td>RL</td>\n",
       "      <td>78.0</td>\n",
       "      <td>9978</td>\n",
       "      <td>Pave</td>\n",
       "      <td>NaN</td>\n",
       "      <td>IR1</td>\n",
       "      <td>Lvl</td>\n",
       "      <td>...</td>\n",
       "      <td>NaN</td>\n",
       "      <td>NaN</td>\n",
       "      <td>0</td>\n",
       "      <td>6</td>\n",
       "      <td>2010</td>\n",
       "      <td>WD</td>\n",
       "      <td>Normal</td>\n",
       "      <td>195500</td>\n",
       "      <td>0</td>\n",
       "      <td>1</td>\n",
       "    </tr>\n",
       "    <tr>\n",
       "      <th>6</th>\n",
       "      <td>7</td>\n",
       "      <td>527127150</td>\n",
       "      <td>120</td>\n",
       "      <td>RL</td>\n",
       "      <td>41.0</td>\n",
       "      <td>4920</td>\n",
       "      <td>Pave</td>\n",
       "      <td>NaN</td>\n",
       "      <td>Reg</td>\n",
       "      <td>Lvl</td>\n",
       "      <td>...</td>\n",
       "      <td>NaN</td>\n",
       "      <td>NaN</td>\n",
       "      <td>0</td>\n",
       "      <td>4</td>\n",
       "      <td>2010</td>\n",
       "      <td>WD</td>\n",
       "      <td>Normal</td>\n",
       "      <td>213500</td>\n",
       "      <td>0</td>\n",
       "      <td>1</td>\n",
       "    </tr>\n",
       "    <tr>\n",
       "      <th>7</th>\n",
       "      <td>8</td>\n",
       "      <td>527145080</td>\n",
       "      <td>120</td>\n",
       "      <td>RL</td>\n",
       "      <td>43.0</td>\n",
       "      <td>5005</td>\n",
       "      <td>Pave</td>\n",
       "      <td>NaN</td>\n",
       "      <td>IR1</td>\n",
       "      <td>HLS</td>\n",
       "      <td>...</td>\n",
       "      <td>NaN</td>\n",
       "      <td>NaN</td>\n",
       "      <td>0</td>\n",
       "      <td>1</td>\n",
       "      <td>2010</td>\n",
       "      <td>WD</td>\n",
       "      <td>Normal</td>\n",
       "      <td>191500</td>\n",
       "      <td>0</td>\n",
       "      <td>1</td>\n",
       "    </tr>\n",
       "    <tr>\n",
       "      <th>8</th>\n",
       "      <td>9</td>\n",
       "      <td>527146030</td>\n",
       "      <td>120</td>\n",
       "      <td>RL</td>\n",
       "      <td>39.0</td>\n",
       "      <td>5389</td>\n",
       "      <td>Pave</td>\n",
       "      <td>NaN</td>\n",
       "      <td>IR1</td>\n",
       "      <td>Lvl</td>\n",
       "      <td>...</td>\n",
       "      <td>NaN</td>\n",
       "      <td>NaN</td>\n",
       "      <td>0</td>\n",
       "      <td>3</td>\n",
       "      <td>2010</td>\n",
       "      <td>WD</td>\n",
       "      <td>Normal</td>\n",
       "      <td>236500</td>\n",
       "      <td>0</td>\n",
       "      <td>1</td>\n",
       "    </tr>\n",
       "    <tr>\n",
       "      <th>9</th>\n",
       "      <td>10</td>\n",
       "      <td>527162130</td>\n",
       "      <td>60</td>\n",
       "      <td>RL</td>\n",
       "      <td>60.0</td>\n",
       "      <td>7500</td>\n",
       "      <td>Pave</td>\n",
       "      <td>NaN</td>\n",
       "      <td>Reg</td>\n",
       "      <td>Lvl</td>\n",
       "      <td>...</td>\n",
       "      <td>NaN</td>\n",
       "      <td>NaN</td>\n",
       "      <td>0</td>\n",
       "      <td>6</td>\n",
       "      <td>2010</td>\n",
       "      <td>WD</td>\n",
       "      <td>Normal</td>\n",
       "      <td>189000</td>\n",
       "      <td>0</td>\n",
       "      <td>1</td>\n",
       "    </tr>\n",
       "  </tbody>\n",
       "</table>\n",
       "<p>10 rows × 84 columns</p>\n",
       "</div>"
      ],
      "text/plain": [
       "   Order        PID  MS SubClass MS Zoning  Lot Frontage  Lot Area Street  \\\n",
       "0      1  526301100           20        RL         141.0     31770   Pave   \n",
       "1      2  526350040           20        RH          80.0     11622   Pave   \n",
       "2      3  526351010           20        RL          81.0     14267   Pave   \n",
       "3      4  526353030           20        RL          93.0     11160   Pave   \n",
       "4      5  527105010           60        RL          74.0     13830   Pave   \n",
       "5      6  527105030           60        RL          78.0      9978   Pave   \n",
       "6      7  527127150          120        RL          41.0      4920   Pave   \n",
       "7      8  527145080          120        RL          43.0      5005   Pave   \n",
       "8      9  527146030          120        RL          39.0      5389   Pave   \n",
       "9     10  527162130           60        RL          60.0      7500   Pave   \n",
       "\n",
       "  Alley Lot Shape Land Contour  ...   Fence Misc Feature Misc Val Mo Sold  \\\n",
       "0   NaN       IR1          Lvl  ...     NaN          NaN        0       5   \n",
       "1   NaN       Reg          Lvl  ...   MnPrv          NaN        0       6   \n",
       "2   NaN       IR1          Lvl  ...     NaN         Gar2    12500       6   \n",
       "3   NaN       Reg          Lvl  ...     NaN          NaN        0       4   \n",
       "4   NaN       IR1          Lvl  ...   MnPrv          NaN        0       3   \n",
       "5   NaN       IR1          Lvl  ...     NaN          NaN        0       6   \n",
       "6   NaN       Reg          Lvl  ...     NaN          NaN        0       4   \n",
       "7   NaN       IR1          HLS  ...     NaN          NaN        0       1   \n",
       "8   NaN       IR1          Lvl  ...     NaN          NaN        0       3   \n",
       "9   NaN       Reg          Lvl  ...     NaN          NaN        0       6   \n",
       "\n",
       "  Yr Sold Sale Type Sale Condition SalePrice  Grvl  Pave  \n",
       "0    2010       WD          Normal    215000     0     1  \n",
       "1    2010       WD          Normal    105000     0     1  \n",
       "2    2010       WD          Normal    172000     0     1  \n",
       "3    2010       WD          Normal    244000     0     1  \n",
       "4    2010       WD          Normal    189900     0     1  \n",
       "5    2010       WD          Normal    195500     0     1  \n",
       "6    2010       WD          Normal    213500     0     1  \n",
       "7    2010       WD          Normal    191500     0     1  \n",
       "8    2010       WD          Normal    236500     0     1  \n",
       "9    2010       WD          Normal    189000     0     1  \n",
       "\n",
       "[10 rows x 84 columns]"
      ]
     },
     "execution_count": 146,
     "metadata": {},
     "output_type": "execute_result"
    }
   ],
   "source": [
    "dum_df = pd.get_dummies(housing_df['Street'])\n",
    "housing_df = housing_df.join(dum_df)\n",
    "\n",
    "housing_df.head(10)"
   ]
  },
  {
   "cell_type": "markdown",
   "metadata": {},
   "source": [
    "I need 2 dummies in the calculations."
   ]
  },
  {
   "cell_type": "markdown",
   "metadata": {
    "ein.tags": [
     "worksheet-0"
    ],
    "slideshow": {
     "slide_type": "-"
    }
   },
   "source": [
    "2.3 The statistical methods typically require to be fed the *design matrix*, a matrix that includes only numeric vectors for each observation.  In case of categorical features, the design matrix will contain the corresponding rows of dummies.  Create the design matrix of the 'Street' variable.  You may use 'pd.DataFrame.as_matrix()' function."
   ]
  },
  {
   "cell_type": "code",
   "execution_count": 147,
   "metadata": {
    "autoscroll": "json-false",
    "collapsed": false,
    "ein.tags": [
     "worksheet-0"
    ],
    "slideshow": {
     "slide_type": "-"
    }
   },
   "outputs": [
    {
     "name": "stdout",
     "output_type": "stream",
     "text": [
      "[[0 1]\n",
      " [0 1]\n",
      " [0 1]\n",
      " [0 1]\n",
      " [0 1]\n",
      " [0 1]\n",
      " [0 1]\n",
      " [0 1]\n",
      " [0 1]\n",
      " [0 1]]\n"
     ]
    }
   ],
   "source": [
    "street = pd.DataFrame.as_matrix(dum_df)\n",
    "print(street[0:10,:])"
   ]
  },
  {
   "cell_type": "markdown",
   "metadata": {
    "ein.tags": [
     "worksheet-0"
    ],
    "slideshow": {
     "slide_type": "-"
    }
   },
   "source": [
    "2.4 Select another feature and add to the design matrix.  If you select a categorical one, it should be converted to dummies as above.  If it is numeric, you may take it as-is.  Ordered features may be transformed to ordered numbers (such as 1,2,3,4...).  Add the data from the new variable to your design matrix.  You may use 'numpy.hstack()' to concatenate matrices column-wise.\n"
   ]
  },
  {
   "cell_type": "code",
   "execution_count": 148,
   "metadata": {
    "autoscroll": "json-false",
    "collapsed": false,
    "ein.tags": [
     "worksheet-0"
    ],
    "slideshow": {
     "slide_type": "-"
    }
   },
   "outputs": [
    {
     "data": {
      "text/plain": [
       "array([[     0,      1, 215000],\n",
       "       [     0,      1, 105000],\n",
       "       [     0,      1, 172000],\n",
       "       ..., \n",
       "       [     0,      1, 132000],\n",
       "       [     0,      1, 170000],\n",
       "       [     0,      1, 188000]])"
      ]
     },
     "execution_count": 148,
     "metadata": {},
     "output_type": "execute_result"
    }
   ],
   "source": [
    "dum_df['SalePrice'] = housing_df['SalePrice']\n",
    "new_matrix = pd.DataFrame.as_matrix(dum_df)\n",
    "new_matrix"
   ]
  },
  {
   "cell_type": "markdown",
   "metadata": {
    "ein.tags": [
     "worksheet-0"
    ],
    "slideshow": {
     "slide_type": "-"
    }
   },
   "source": [
    "2.5 Is this matrix (near) singular?  Which variables (if any) cause\n",
    "the singularity?  Proceed like this:\n",
    "a) take the first column from your design matrix.  You will have nx1 matrix. \n",
    "b) compute the condition number of it  (you may use 'np.linalg.cond()').\n",
    "c) print it\n",
    "d) add the next column and proceed to b)\n",
    "\n",
    "Now look how the condition number changes when you add the columns.  When it jump substantially, you have added a significant bit of multicollinearity into your design matrix.  However, condition numbers up to thousands is usually not a problem.\n"
   ]
  },
  {
   "cell_type": "code",
   "execution_count": 153,
   "metadata": {
    "autoscroll": "json-false",
    "collapsed": false,
    "ein.tags": [
     "worksheet-0"
    ],
    "slideshow": {
     "slide_type": "-"
    }
   },
   "outputs": [
    {
     "name": "stdout",
     "output_type": "stream",
     "text": [
      "Condition number when adding 'Grvi' variable: 1.0\n",
      "Condition number when adding 'Pave' variable: 15.5938021876\n",
      "Condition number when adding 'Sales Price' variable: 3100042.00479\n"
     ]
    }
   ],
   "source": [
    "matrix_1 = new_matrix[:,0:1]\n",
    "cond_1 = np.linalg.cond(matrix_1)\n",
    "print(\"Condition number when adding 'Grvi' variable:\" , cond_1)\n",
    "\n",
    "matrix_2 = new_matrix[:,0:2]\n",
    "cond_2 = np.linalg.cond(matrix_2)\n",
    "print(\"Condition number when adding 'Pave' variable:\" , cond_2)\n",
    "\n",
    "matrix_3 = new_matrix[:,0:3]\n",
    "cond_3 = np.linalg.cond(matrix_3)\n",
    "print(\"Condition number when adding 'Sales Price' variable:\" , cond_3)"
   ]
  },
  {
   "cell_type": "markdown",
   "metadata": {
    "ein.tags": [
     "worksheet-0"
    ],
    "slideshow": {
     "slide_type": "-"
    }
   },
   "source": [
    "Add 1-2 additional variables to your design matrix and repeat the process. "
   ]
  },
  {
   "cell_type": "code",
   "execution_count": 150,
   "metadata": {
    "collapsed": false
   },
   "outputs": [
    {
     "data": {
      "text/plain": [
       "array([[     0,      1, 215000,  31770,      5],\n",
       "       [     0,      1, 105000,  11622,      6],\n",
       "       [     0,      1, 172000,  14267,      6],\n",
       "       ..., \n",
       "       [     0,      1, 132000,  10441,      7],\n",
       "       [     0,      1, 170000,  10010,      4],\n",
       "       [     0,      1, 188000,   9627,     11]])"
      ]
     },
     "execution_count": 150,
     "metadata": {},
     "output_type": "execute_result"
    }
   ],
   "source": [
    "dum_df['LotArea'] = housing_df['Lot Area']\n",
    "dum_df['MoSold'] = housing_df['Mo Sold']\n",
    "new_matrix1 = pd.DataFrame.as_matrix(dum_df)\n",
    "new_matrix1"
   ]
  },
  {
   "cell_type": "code",
   "execution_count": 154,
   "metadata": {
    "collapsed": false
   },
   "outputs": [
    {
     "name": "stdout",
     "output_type": "stream",
     "text": [
      "Condition number when adding 'Lot Area' variable: 3166955.54374\n",
      "Condition number when adding 'Mo Sold' variable: 3193060.21714\n"
     ]
    }
   ],
   "source": [
    "matrix_4 = new_matrix1[:,0:4]\n",
    "cond_4 = np.linalg.cond(matrix_4)\n",
    "print(\"Condition number when adding 'Lot Area' variable:\" , cond_4)\n",
    "\n",
    "matrix_5 = new_matrix1[:,0:5]\n",
    "cond_5 = np.linalg.cond(matrix_5)\n",
    "print(\"Condition number when adding 'Mo Sold' variable:\" , cond_5)"
   ]
  },
  {
   "cell_type": "code",
   "execution_count": null,
   "metadata": {
    "collapsed": true
   },
   "outputs": [],
   "source": []
  }
 ],
 "metadata": {
  "anaconda-cloud": {},
  "kernelspec": {
   "display_name": "Python 3",
   "language": "python",
   "name": "python3"
  },
  "language_info": {
   "codemirror_mode": {
    "name": "ipython",
    "version": 3
   },
   "file_extension": ".py",
   "mimetype": "text/x-python",
   "name": "python",
   "nbconvert_exporter": "python",
   "pygments_lexer": "ipython3",
   "version": "3.6.0"
  }
 },
 "nbformat": 4,
 "nbformat_minor": 2
}
